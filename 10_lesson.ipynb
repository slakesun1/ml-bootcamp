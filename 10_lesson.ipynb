{
 "cells": [
  {
   "cell_type": "code",
   "execution_count": 1,
   "id": "72bccd2b-e06c-452c-9a6d-10fb46fb9350",
   "metadata": {},
   "outputs": [],
   "source": [
    "# list with different data types\n",
    "mylist=[1, \"Hello\", 2.5]"
   ]
  },
  {
   "cell_type": "code",
   "execution_count": 2,
   "id": "e704131e-2939-42b7-b673-1c7118820eb3",
   "metadata": {},
   "outputs": [
    {
     "data": {
      "text/plain": [
       "[1, 'Hello', 2.5]"
      ]
     },
     "execution_count": 2,
     "metadata": {},
     "output_type": "execute_result"
    }
   ],
   "source": [
    "mylist"
   ]
  },
  {
   "cell_type": "code",
   "execution_count": 3,
   "id": "e92fc46c-6f17-4355-baff-70c8d5579732",
   "metadata": {},
   "outputs": [
    {
     "data": {
      "text/plain": [
       "['v', 'a', 'n', 'y', 'a']"
      ]
     },
     "execution_count": 3,
     "metadata": {},
     "output_type": "execute_result"
    }
   ],
   "source": [
    "list(\"vanya\")"
   ]
  },
  {
   "cell_type": "code",
   "execution_count": 4,
   "id": "99b59e9e-3cb3-41ea-830c-9551d28c3074",
   "metadata": {},
   "outputs": [
    {
     "ename": "TypeError",
     "evalue": "list expected at most 1 argument, got 3",
     "output_type": "error",
     "traceback": [
      "\u001b[0;31m---------------------------------------------------------------------------\u001b[0m",
      "\u001b[0;31mTypeError\u001b[0m                                 Traceback (most recent call last)",
      "Cell \u001b[0;32mIn [4], line 1\u001b[0m\n\u001b[0;32m----> 1\u001b[0m \u001b[38;5;28;43mlist\u001b[39;49m\u001b[43m(\u001b[49m\u001b[38;5;241;43m10\u001b[39;49m\u001b[43m,\u001b[49m\u001b[38;5;241;43m20\u001b[39;49m\u001b[43m,\u001b[49m\u001b[38;5;241;43m30\u001b[39;49m\u001b[43m)\u001b[49m\n",
      "\u001b[0;31mTypeError\u001b[0m: list expected at most 1 argument, got 3"
     ]
    }
   ],
   "source": [
    "list(10,20,30)"
   ]
  },
  {
   "cell_type": "code",
   "execution_count": 5,
   "id": "734784a6-9ab3-440a-809c-9f20760763e6",
   "metadata": {},
   "outputs": [
    {
     "data": {
      "text/plain": [
       "[10, 20, 30]"
      ]
     },
     "execution_count": 5,
     "metadata": {},
     "output_type": "execute_result"
    }
   ],
   "source": [
    "list((10,20,30))"
   ]
  },
  {
   "cell_type": "code",
   "execution_count": 1,
   "id": "34f4f11b-21aa-4cde-9746-e7ae987d2f6a",
   "metadata": {},
   "outputs": [],
   "source": [
    "sports=[\"cricket\", \"hockey\", \"football\"]"
   ]
  },
  {
   "cell_type": "code",
   "execution_count": 2,
   "id": "a842e8f6-9997-49f5-8215-9137e57712ac",
   "metadata": {},
   "outputs": [
    {
     "data": {
      "text/plain": [
       "['cricket', 'badminton', 'football']"
      ]
     },
     "execution_count": 2,
     "metadata": {},
     "output_type": "execute_result"
    }
   ],
   "source": [
    "sports[1]=\"badminton\"\n",
    "sports"
   ]
  },
  {
   "cell_type": "code",
   "execution_count": 3,
   "id": "f0d1f1bb-6210-4ca4-b5e2-41160abf27d4",
   "metadata": {},
   "outputs": [],
   "source": [
    "sports[1:3]=[\"basketball\", \"tennis\"]"
   ]
  },
  {
   "cell_type": "code",
   "execution_count": 4,
   "id": "28362304-90fd-4c09-a67d-a1424c44e216",
   "metadata": {},
   "outputs": [
    {
     "data": {
      "text/plain": [
       "['cricket', 'basketball', 'tennis']"
      ]
     },
     "execution_count": 4,
     "metadata": {},
     "output_type": "execute_result"
    }
   ],
   "source": [
    "sports"
   ]
  },
  {
   "cell_type": "code",
   "execution_count": 5,
   "id": "2eaacbd5-6904-4126-9432-11c68e875384",
   "metadata": {},
   "outputs": [],
   "source": [
    "indoorsports=[\"chess\", \"ludo\"]"
   ]
  },
  {
   "cell_type": "code",
   "execution_count": 8,
   "id": "751b9443-1cd9-4916-9058-dcd72e330dcb",
   "metadata": {},
   "outputs": [],
   "source": [
    "all_sports=sports+indoorsports"
   ]
  },
  {
   "cell_type": "code",
   "execution_count": 9,
   "id": "c29cc0e9-6fb6-4d13-9a2a-7d77fc0f84ba",
   "metadata": {},
   "outputs": [
    {
     "data": {
      "text/plain": [
       "['cricket', 'basketball', 'tennis', 'chess', 'ludo']"
      ]
     },
     "execution_count": 9,
     "metadata": {},
     "output_type": "execute_result"
    }
   ],
   "source": [
    "all_sports"
   ]
  },
  {
   "cell_type": "code",
   "execution_count": 10,
   "id": "7630d7b3-ad03-4359-9536-c7d37cc654ee",
   "metadata": {},
   "outputs": [
    {
     "data": {
      "text/plain": [
       "['cricket',\n",
       " 'basketball',\n",
       " 'tennis',\n",
       " 'chess',\n",
       " 'ludo',\n",
       " 'cricket',\n",
       " 'basketball',\n",
       " 'tennis',\n",
       " 'chess',\n",
       " 'ludo',\n",
       " 'cricket',\n",
       " 'basketball',\n",
       " 'tennis',\n",
       " 'chess',\n",
       " 'ludo']"
      ]
     },
     "execution_count": 10,
     "metadata": {},
     "output_type": "execute_result"
    }
   ],
   "source": [
    "all_sports*3"
   ]
  },
  {
   "cell_type": "code",
   "execution_count": 11,
   "id": "3c408e2d-2b0d-472f-8a16-bd142ee2d98b",
   "metadata": {},
   "outputs": [
    {
     "ename": "TypeError",
     "evalue": "can only concatenate list (not \"int\") to list",
     "output_type": "error",
     "traceback": [
      "\u001b[0;31m---------------------------------------------------------------------------\u001b[0m",
      "\u001b[0;31mTypeError\u001b[0m                                 Traceback (most recent call last)",
      "Cell \u001b[0;32mIn [11], line 1\u001b[0m\n\u001b[0;32m----> 1\u001b[0m \u001b[43mall_sports\u001b[49m\u001b[38;5;241;43m+\u001b[39;49m\u001b[38;5;241;43m3\u001b[39;49m\n",
      "\u001b[0;31mTypeError\u001b[0m: can only concatenate list (not \"int\") to list"
     ]
    }
   ],
   "source": [
    "all_sports+3"
   ]
  },
  {
   "cell_type": "markdown",
   "id": "e0c08b2f-c36a-465c-883c-6605a31aaa82",
   "metadata": {},
   "source": [
    "# membership operator\n",
    "# in and not in"
   ]
  },
  {
   "cell_type": "code",
   "execution_count": 12,
   "id": "b675bfe6-abd9-4d97-85ad-b948f69ed35e",
   "metadata": {},
   "outputs": [
    {
     "data": {
      "text/plain": [
       "True"
      ]
     },
     "execution_count": 12,
     "metadata": {},
     "output_type": "execute_result"
    }
   ],
   "source": [
    "\"cricket\" in all_sports"
   ]
  },
  {
   "cell_type": "code",
   "execution_count": 13,
   "id": "224685b1-32d1-450c-9f6a-b9697ff02dbb",
   "metadata": {},
   "outputs": [
    {
     "data": {
      "text/plain": [
       "True"
      ]
     },
     "execution_count": 13,
     "metadata": {},
     "output_type": "execute_result"
    }
   ],
   "source": [
    "\"biathlon\" not in all_sports"
   ]
  },
  {
   "cell_type": "code",
   "execution_count": 15,
   "id": "a3184f90-7e0d-454e-9086-bda64c106456",
   "metadata": {},
   "outputs": [],
   "source": [
    "my_nums=[1,2,3,4,5,6,7,8,9]"
   ]
  },
  {
   "cell_type": "code",
   "execution_count": 16,
   "id": "539e12e9-5d68-4e7b-9cdd-c8fc1642e5e7",
   "metadata": {},
   "outputs": [
    {
     "data": {
      "text/plain": [
       "9"
      ]
     },
     "execution_count": 16,
     "metadata": {},
     "output_type": "execute_result"
    }
   ],
   "source": [
    "len(my_nums)"
   ]
  },
  {
   "cell_type": "code",
   "execution_count": 17,
   "id": "529561bb-6b0c-45f6-9c1c-761d988e6623",
   "metadata": {},
   "outputs": [
    {
     "data": {
      "text/plain": [
       "9"
      ]
     },
     "execution_count": 17,
     "metadata": {},
     "output_type": "execute_result"
    }
   ],
   "source": [
    "max(my_nums)"
   ]
  },
  {
   "cell_type": "code",
   "execution_count": 18,
   "id": "41561835-afdd-4e0b-a925-001adece5d44",
   "metadata": {},
   "outputs": [
    {
     "data": {
      "text/plain": [
       "1"
      ]
     },
     "execution_count": 18,
     "metadata": {},
     "output_type": "execute_result"
    }
   ],
   "source": [
    "min(my_nums)"
   ]
  },
  {
   "cell_type": "code",
   "execution_count": 19,
   "id": "8627afe7-3884-4862-aef7-8393e6b7e61d",
   "metadata": {},
   "outputs": [
    {
     "data": {
      "text/plain": [
       "45"
      ]
     },
     "execution_count": 19,
     "metadata": {},
     "output_type": "execute_result"
    }
   ],
   "source": [
    "sum(my_nums)"
   ]
  },
  {
   "cell_type": "code",
   "execution_count": 20,
   "id": "927c6c69-0c32-40c0-84e0-e65a6196d631",
   "metadata": {},
   "outputs": [
    {
     "data": {
      "text/plain": [
       "[1, 2, 3, 4, 5, 6, 7, 8, 9]"
      ]
     },
     "execution_count": 20,
     "metadata": {},
     "output_type": "execute_result"
    }
   ],
   "source": [
    "sorted(my_nums)"
   ]
  },
  {
   "cell_type": "code",
   "execution_count": 23,
   "id": "0c3fd173-0522-44be-84f7-4667ee77b619",
   "metadata": {},
   "outputs": [
    {
     "data": {
      "text/plain": [
       "[9, 8, 7, 6, 5, 4, 3, 2, 1]"
      ]
     },
     "execution_count": 23,
     "metadata": {},
     "output_type": "execute_result"
    }
   ],
   "source": [
    "sorted(my_nums, reverse=True)"
   ]
  },
  {
   "cell_type": "code",
   "execution_count": 24,
   "id": "8df02874-aa7e-4ec2-9f85-ce5a0cd7830f",
   "metadata": {},
   "outputs": [
    {
     "data": {
      "text/plain": [
       "True"
      ]
     },
     "execution_count": 24,
     "metadata": {},
     "output_type": "execute_result"
    }
   ],
   "source": [
    "all(my_nums)"
   ]
  },
  {
   "cell_type": "code",
   "execution_count": 25,
   "id": "30b75592-fe16-4c6f-b890-4689a1a354f6",
   "metadata": {},
   "outputs": [],
   "source": [
    "my_nums_2=[0,1,2,3,4,56,7,8,9]"
   ]
  },
  {
   "cell_type": "code",
   "execution_count": 26,
   "id": "2baeabe3-59e3-4333-9235-5385cec875ba",
   "metadata": {},
   "outputs": [
    {
     "data": {
      "text/plain": [
       "False"
      ]
     },
     "execution_count": 26,
     "metadata": {},
     "output_type": "execute_result"
    }
   ],
   "source": [
    "all(my_nums_2)"
   ]
  },
  {
   "cell_type": "code",
   "execution_count": 28,
   "id": "641201c7-72a8-4e81-b25d-2229a1ea8b69",
   "metadata": {},
   "outputs": [
    {
     "data": {
      "text/plain": [
       "True"
      ]
     },
     "execution_count": 28,
     "metadata": {},
     "output_type": "execute_result"
    }
   ],
   "source": [
    "any(my_nums) # 1 ofthe list is TRUE"
   ]
  },
  {
   "cell_type": "code",
   "execution_count": 29,
   "id": "b35799a2-2144-4d81-b081-5f611468605e",
   "metadata": {},
   "outputs": [],
   "source": [
    "my_nums_3=[0,0.0,False,0+0j]"
   ]
  },
  {
   "cell_type": "code",
   "execution_count": 30,
   "id": "8002c0b5-875e-4237-91ea-681cd69d1b03",
   "metadata": {},
   "outputs": [
    {
     "data": {
      "text/plain": [
       "False"
      ]
     },
     "execution_count": 30,
     "metadata": {},
     "output_type": "execute_result"
    }
   ],
   "source": [
    "any(my_nums_3)"
   ]
  },
  {
   "cell_type": "markdown",
   "id": "04a25d0c-7c60-4872-bf97-cb0245f6ee74",
   "metadata": {},
   "source": [
    "# list methods"
   ]
  },
  {
   "cell_type": "code",
   "execution_count": 32,
   "id": "7fe14e8a-c1e7-47d3-a3b0-a35b5c605bb5",
   "metadata": {},
   "outputs": [],
   "source": [
    "primes=[2,3,5,7,11]"
   ]
  },
  {
   "cell_type": "code",
   "execution_count": 33,
   "id": "7e550146-f005-4f14-beaf-5d2f37b5ad7e",
   "metadata": {},
   "outputs": [],
   "source": [
    "primes.append(13)"
   ]
  },
  {
   "cell_type": "code",
   "execution_count": 34,
   "id": "da4d0008-4d10-48e5-83c1-340256d4fe72",
   "metadata": {},
   "outputs": [
    {
     "data": {
      "text/plain": [
       "[2, 3, 5, 7, 11, 13]"
      ]
     },
     "execution_count": 34,
     "metadata": {},
     "output_type": "execute_result"
    }
   ],
   "source": [
    "primes"
   ]
  },
  {
   "cell_type": "code",
   "execution_count": 36,
   "id": "512db97d-58ad-4af1-8203-9eb989c47a57",
   "metadata": {},
   "outputs": [
    {
     "data": {
      "text/plain": [
       "6"
      ]
     },
     "execution_count": 36,
     "metadata": {},
     "output_type": "execute_result"
    }
   ],
   "source": [
    "len(primes)"
   ]
  },
  {
   "cell_type": "code",
   "execution_count": 37,
   "id": "c896f351-ef4b-4e2d-9c2d-6458adfbf113",
   "metadata": {},
   "outputs": [
    {
     "ename": "AttributeError",
     "evalue": "'list' object has no attribute 'len'",
     "output_type": "error",
     "traceback": [
      "\u001b[0;31m---------------------------------------------------------------------------\u001b[0m",
      "\u001b[0;31mAttributeError\u001b[0m                            Traceback (most recent call last)",
      "Cell \u001b[0;32mIn [37], line 1\u001b[0m\n\u001b[0;32m----> 1\u001b[0m \u001b[43mprimes\u001b[49m\u001b[38;5;241;43m.\u001b[39;49m\u001b[43mlen\u001b[49m()\n",
      "\u001b[0;31mAttributeError\u001b[0m: 'list' object has no attribute 'len'"
     ]
    }
   ],
   "source": [
    "primes.len()"
   ]
  },
  {
   "cell_type": "code",
   "execution_count": 44,
   "id": "97e9b23a-9ca7-4937-9527-afbcb47ba627",
   "metadata": {},
   "outputs": [],
   "source": [
    "animal=[\"dog\", \"cat\", \"rabbit\"]"
   ]
  },
  {
   "cell_type": "code",
   "execution_count": 39,
   "id": "f0aedcd5-d9ba-4191-84ad-18b8430b1c05",
   "metadata": {},
   "outputs": [],
   "source": [
    "animal.append(\"tiger\")"
   ]
  },
  {
   "cell_type": "code",
   "execution_count": 40,
   "id": "d0dbec34-1165-4e45-96ac-51385a570abf",
   "metadata": {},
   "outputs": [
    {
     "data": {
      "text/plain": [
       "['dog', 'cat', 'rabbit', 'tiger']"
      ]
     },
     "execution_count": 40,
     "metadata": {},
     "output_type": "execute_result"
    }
   ],
   "source": [
    "animal"
   ]
  },
  {
   "cell_type": "code",
   "execution_count": 41,
   "id": "43b231f9-b239-493e-b9a3-519a3b6a0e7b",
   "metadata": {},
   "outputs": [],
   "source": [
    "wild_animal=[\"lion\", \"fox\"]"
   ]
  },
  {
   "cell_type": "code",
   "execution_count": 42,
   "id": "646c0ca5-cd51-4ff9-a242-dba500650ade",
   "metadata": {},
   "outputs": [],
   "source": [
    "animal.append(wild_animal)"
   ]
  },
  {
   "cell_type": "code",
   "execution_count": 43,
   "id": "636444a5-9feb-48a6-ba5b-2b5a7af83811",
   "metadata": {},
   "outputs": [
    {
     "data": {
      "text/plain": [
       "['dog', 'cat', 'rabbit', 'tiger', ['lion', 'fox']]"
      ]
     },
     "execution_count": 43,
     "metadata": {},
     "output_type": "execute_result"
    }
   ],
   "source": [
    "animal"
   ]
  },
  {
   "cell_type": "code",
   "execution_count": 45,
   "id": "b1deb3c8-b150-4234-8f3e-9ed4b4ce2f8b",
   "metadata": {},
   "outputs": [
    {
     "data": {
      "text/plain": [
       "['dog', 'cat', 'rabbit']"
      ]
     },
     "execution_count": 45,
     "metadata": {},
     "output_type": "execute_result"
    }
   ],
   "source": [
    "animal"
   ]
  },
  {
   "cell_type": "code",
   "execution_count": 46,
   "id": "548a90d8-c1f2-4f73-8a2f-b900c11781f1",
   "metadata": {},
   "outputs": [],
   "source": [
    "animal.extend(wild_animal)"
   ]
  },
  {
   "cell_type": "code",
   "execution_count": 47,
   "id": "f1c51afe-0110-4cf5-b1a7-fae36a3e4fdd",
   "metadata": {},
   "outputs": [
    {
     "data": {
      "text/plain": [
       "['dog', 'cat', 'rabbit', 'lion', 'fox']"
      ]
     },
     "execution_count": 47,
     "metadata": {},
     "output_type": "execute_result"
    }
   ],
   "source": [
    "animal"
   ]
  },
  {
   "cell_type": "code",
   "execution_count": 48,
   "id": "0b2d5131-5a1e-4924-b617-ef9018cb3400",
   "metadata": {},
   "outputs": [],
   "source": [
    "animal.append(wild_animal)"
   ]
  },
  {
   "cell_type": "code",
   "execution_count": 49,
   "id": "16cbade8-8ba6-4939-91e3-b9b1f5e7f496",
   "metadata": {},
   "outputs": [
    {
     "data": {
      "text/plain": [
       "['dog', 'cat', 'rabbit', 'lion', 'fox', ['lion', 'fox']]"
      ]
     },
     "execution_count": 49,
     "metadata": {},
     "output_type": "execute_result"
    }
   ],
   "source": [
    "animal"
   ]
  },
  {
   "cell_type": "code",
   "execution_count": 50,
   "id": "3fdaa486-6560-4646-88a8-1c427da4016a",
   "metadata": {},
   "outputs": [
    {
     "data": {
      "text/plain": [
       "['lion', 'fox']"
      ]
     },
     "execution_count": 50,
     "metadata": {},
     "output_type": "execute_result"
    }
   ],
   "source": [
    "animal[5]"
   ]
  },
  {
   "cell_type": "code",
   "execution_count": 51,
   "id": "b11e4ed7-ad2a-470e-b50a-3885ce9ed491",
   "metadata": {},
   "outputs": [
    {
     "data": {
      "text/plain": [
       "'lion'"
      ]
     },
     "execution_count": 51,
     "metadata": {},
     "output_type": "execute_result"
    }
   ],
   "source": [
    "animal[5][0]"
   ]
  },
  {
   "cell_type": "code",
   "execution_count": 52,
   "id": "7ad85e51-06f3-4306-b1bb-b464df8336a0",
   "metadata": {},
   "outputs": [
    {
     "data": {
      "text/plain": [
       "'l'"
      ]
     },
     "execution_count": 52,
     "metadata": {},
     "output_type": "execute_result"
    }
   ],
   "source": [
    "animal[5][0][0]##nested index"
   ]
  },
  {
   "cell_type": "code",
   "execution_count": 53,
   "id": "2fb75bdf-5771-4c95-ac20-ffb75f324276",
   "metadata": {},
   "outputs": [],
   "source": [
    "primes=[2,3,5,7,11]"
   ]
  },
  {
   "cell_type": "code",
   "execution_count": 54,
   "id": "71f3acc7-3941-4028-a7ee-c5c844b1a11d",
   "metadata": {},
   "outputs": [],
   "source": [
    "primes[3]=9"
   ]
  },
  {
   "cell_type": "code",
   "execution_count": 55,
   "id": "4b623f12-ac86-4ed9-9c01-8386fab69a00",
   "metadata": {},
   "outputs": [
    {
     "data": {
      "text/plain": [
       "[2, 3, 5, 9, 11]"
      ]
     },
     "execution_count": 55,
     "metadata": {},
     "output_type": "execute_result"
    }
   ],
   "source": [
    "primes"
   ]
  },
  {
   "cell_type": "code",
   "execution_count": 56,
   "id": "caca2428-27a9-4e90-ac28-36ff82d37879",
   "metadata": {},
   "outputs": [],
   "source": [
    "# insert(index,value)"
   ]
  },
  {
   "cell_type": "code",
   "execution_count": 57,
   "id": "0b056f54-3156-48f9-b5df-17ea2c0597d4",
   "metadata": {},
   "outputs": [
    {
     "data": {
      "text/plain": [
       "[2, 3, 5, 1000, 9, 11]"
      ]
     },
     "execution_count": 57,
     "metadata": {},
     "output_type": "execute_result"
    }
   ],
   "source": [
    "primes.insert(3,1000)\n",
    "primes"
   ]
  },
  {
   "cell_type": "code",
   "execution_count": 1,
   "id": "06c3e0c8-d430-4233-b73e-9d3ad29aceef",
   "metadata": {},
   "outputs": [
    {
     "ename": "NameError",
     "evalue": "name 'my_nums' is not defined",
     "output_type": "error",
     "traceback": [
      "\u001b[0;31m---------------------------------------------------------------------------\u001b[0m",
      "\u001b[0;31mNameError\u001b[0m                                 Traceback (most recent call last)",
      "Cell \u001b[0;32mIn [1], line 1\u001b[0m\n\u001b[0;32m----> 1\u001b[0m \u001b[43mmy_nums\u001b[49m\n",
      "\u001b[0;31mNameError\u001b[0m: name 'my_nums' is not defined"
     ]
    }
   ],
   "source": [
    "my_nums"
   ]
  },
  {
   "cell_type": "code",
   "execution_count": 2,
   "id": "fa3031f4-889a-4975-bc9e-06f7a65abe61",
   "metadata": {},
   "outputs": [
    {
     "ename": "NameError",
     "evalue": "name 'primes' is not defined",
     "output_type": "error",
     "traceback": [
      "\u001b[0;31m---------------------------------------------------------------------------\u001b[0m",
      "\u001b[0;31mNameError\u001b[0m                                 Traceback (most recent call last)",
      "Cell \u001b[0;32mIn [2], line 1\u001b[0m\n\u001b[0;32m----> 1\u001b[0m \u001b[43mprimes\u001b[49m\n",
      "\u001b[0;31mNameError\u001b[0m: name 'primes' is not defined"
     ]
    }
   ],
   "source": [
    "primes"
   ]
  },
  {
   "cell_type": "code",
   "execution_count": 3,
   "id": "1545cd49-2adf-4a0c-8db7-ce8373f18302",
   "metadata": {},
   "outputs": [
    {
     "ename": "NameError",
     "evalue": "name 'primes' is not defined",
     "output_type": "error",
     "traceback": [
      "\u001b[0;31m---------------------------------------------------------------------------\u001b[0m",
      "\u001b[0;31mNameError\u001b[0m                                 Traceback (most recent call last)",
      "Cell \u001b[0;32mIn [3], line 1\u001b[0m\n\u001b[0;32m----> 1\u001b[0m \u001b[43mprimes\u001b[49m\n",
      "\u001b[0;31mNameError\u001b[0m: name 'primes' is not defined"
     ]
    }
   ],
   "source": [
    "primes"
   ]
  },
  {
   "cell_type": "code",
   "execution_count": 4,
   "id": "8c4ab767-e80c-48b0-b4bf-f4a174153bee",
   "metadata": {},
   "outputs": [],
   "source": [
    "primes=[2,3,5,7,11]"
   ]
  },
  {
   "cell_type": "code",
   "execution_count": 5,
   "id": "40afbfb5-fad7-4d63-bf21-ff692bfc68c7",
   "metadata": {},
   "outputs": [
    {
     "ename": "TypeError",
     "evalue": "list.count() takes exactly one argument (0 given)",
     "output_type": "error",
     "traceback": [
      "\u001b[0;31m---------------------------------------------------------------------------\u001b[0m",
      "\u001b[0;31mTypeError\u001b[0m                                 Traceback (most recent call last)",
      "Cell \u001b[0;32mIn [5], line 1\u001b[0m\n\u001b[0;32m----> 1\u001b[0m \u001b[43mprimes\u001b[49m\u001b[38;5;241;43m.\u001b[39;49m\u001b[43mcount\u001b[49m\u001b[43m(\u001b[49m\u001b[43m)\u001b[49m\n",
      "\u001b[0;31mTypeError\u001b[0m: list.count() takes exactly one argument (0 given)"
     ]
    }
   ],
   "source": [
    "primes.count()"
   ]
  },
  {
   "cell_type": "code",
   "execution_count": 6,
   "id": "911f8b5c-b714-4d50-9e90-c63528634655",
   "metadata": {},
   "outputs": [
    {
     "data": {
      "text/plain": [
       "1"
      ]
     },
     "execution_count": 6,
     "metadata": {},
     "output_type": "execute_result"
    }
   ],
   "source": [
    "primes.count(2)"
   ]
  },
  {
   "cell_type": "code",
   "execution_count": 7,
   "id": "5f5fa5e0-25cd-4b2a-aaee-c586669d45ac",
   "metadata": {},
   "outputs": [],
   "source": [
    "# index - you will get the index of the element"
   ]
  },
  {
   "cell_type": "code",
   "execution_count": 8,
   "id": "5a99f1e0-d1ac-4e20-b71d-a8ae113061ac",
   "metadata": {},
   "outputs": [
    {
     "data": {
      "text/plain": [
       "3"
      ]
     },
     "execution_count": 8,
     "metadata": {},
     "output_type": "execute_result"
    }
   ],
   "source": [
    "primes.index(7)"
   ]
  },
  {
   "cell_type": "code",
   "execution_count": 9,
   "id": "f8d26ff1-bbdd-4a5b-b9b0-76e8f358fd8a",
   "metadata": {},
   "outputs": [],
   "source": [
    "vowels=[\"a\", \"e\", \"i\", \"o\", \"u\"]"
   ]
  },
  {
   "cell_type": "code",
   "execution_count": 14,
   "id": "0e0bdd90-24fe-4ad6-aed0-60a69f4fcd86",
   "metadata": {},
   "outputs": [],
   "source": [
    "# remove - search and remove first matching element"
   ]
  },
  {
   "cell_type": "code",
   "execution_count": 13,
   "id": "5d456f63-8f2e-43b0-a481-f8747c5e9f04",
   "metadata": {},
   "outputs": [
    {
     "data": {
      "text/plain": [
       "['e', 'i', 'o', 'u']"
      ]
     },
     "execution_count": 13,
     "metadata": {},
     "output_type": "execute_result"
    }
   ],
   "source": [
    "vowels.remove(\"a\")\n",
    "vowels"
   ]
  },
  {
   "cell_type": "code",
   "execution_count": 15,
   "id": "8621e120-7603-4718-8a06-870b9ef15ab7",
   "metadata": {},
   "outputs": [
    {
     "data": {
      "text/plain": [
       "['a', 'a', 'e', 'i', 'o', 'u']"
      ]
     },
     "execution_count": 15,
     "metadata": {},
     "output_type": "execute_result"
    }
   ],
   "source": [
    "vowels=[\"a\", \"a\", \"e\", \"i\", \"o\", \"u\"]\n",
    "vowels"
   ]
  },
  {
   "cell_type": "code",
   "execution_count": 16,
   "id": "af862388-21bf-4e0e-8bcc-a299b2086a40",
   "metadata": {},
   "outputs": [
    {
     "data": {
      "text/plain": [
       "['a', 'e', 'i', 'o', 'u']"
      ]
     },
     "execution_count": 16,
     "metadata": {},
     "output_type": "execute_result"
    }
   ],
   "source": [
    "vowels.remove(\"a\")\n",
    "vowels"
   ]
  },
  {
   "cell_type": "code",
   "execution_count": 17,
   "id": "1c01c568-1ac1-46dc-9980-8e9ca9006eb7",
   "metadata": {},
   "outputs": [],
   "source": [
    "# pop - removes and return the element at given index\n"
   ]
  },
  {
   "cell_type": "code",
   "execution_count": 18,
   "id": "edddcd87-c792-4180-9a2d-b6ffbc17d389",
   "metadata": {},
   "outputs": [],
   "source": [
    "fruits = [\"apple\", \"banana\", \"orange\"]"
   ]
  },
  {
   "cell_type": "code",
   "execution_count": 19,
   "id": "7410615c-e3ad-45e9-946d-60a5c4cf9c24",
   "metadata": {},
   "outputs": [
    {
     "data": {
      "text/plain": [
       "'banana'"
      ]
     },
     "execution_count": 19,
     "metadata": {},
     "output_type": "execute_result"
    }
   ],
   "source": [
    "fruits.pop(1)"
   ]
  },
  {
   "cell_type": "code",
   "execution_count": 20,
   "id": "4846b8f3-8d27-4b60-ba1d-3fb6090f8240",
   "metadata": {},
   "outputs": [
    {
     "data": {
      "text/plain": [
       "['apple', 'orange']"
      ]
     },
     "execution_count": 20,
     "metadata": {},
     "output_type": "execute_result"
    }
   ],
   "source": [
    "fruits"
   ]
  },
  {
   "cell_type": "code",
   "execution_count": 21,
   "id": "7545fc2b-a0cc-4fb4-8f25-995ba5de7724",
   "metadata": {},
   "outputs": [],
   "source": [
    "fruits.clear()"
   ]
  },
  {
   "cell_type": "code",
   "execution_count": 22,
   "id": "1ed39c59-b15b-48e8-866c-d7d59213f567",
   "metadata": {},
   "outputs": [
    {
     "data": {
      "text/plain": [
       "[]"
      ]
     },
     "execution_count": 22,
     "metadata": {},
     "output_type": "execute_result"
    }
   ],
   "source": [
    "fruits"
   ]
  },
  {
   "cell_type": "code",
   "execution_count": 23,
   "id": "936543bf-7d5f-44cf-b3e3-1b81544e6c70",
   "metadata": {},
   "outputs": [],
   "source": [
    "# sort"
   ]
  },
  {
   "cell_type": "code",
   "execution_count": 24,
   "id": "38da7663-1cb7-46c0-9073-e92db3f1e67c",
   "metadata": {},
   "outputs": [],
   "source": [
    "mylist=[445353,35,3,5,224,24,1242]"
   ]
  },
  {
   "cell_type": "code",
   "execution_count": 25,
   "id": "2ecc3ab1-ed51-467f-95ae-f608e52f16b4",
   "metadata": {},
   "outputs": [],
   "source": [
    "mylist.sort()"
   ]
  },
  {
   "cell_type": "code",
   "execution_count": 26,
   "id": "00a2429a-f6fd-4671-bdf8-ac4dc6126ac0",
   "metadata": {},
   "outputs": [
    {
     "data": {
      "text/plain": [
       "[3, 5, 24, 35, 224, 1242, 445353]"
      ]
     },
     "execution_count": 26,
     "metadata": {},
     "output_type": "execute_result"
    }
   ],
   "source": [
    "mylist"
   ]
  },
  {
   "cell_type": "code",
   "execution_count": 27,
   "id": "23dad27c-68ab-4765-a156-e4c8491e5970",
   "metadata": {},
   "outputs": [],
   "source": [
    "mylist.sort(reverse=True)"
   ]
  },
  {
   "cell_type": "code",
   "execution_count": 28,
   "id": "de5fa71a-9bf8-4cfe-ae7a-046955a47c68",
   "metadata": {},
   "outputs": [
    {
     "data": {
      "text/plain": [
       "[445353, 1242, 224, 35, 24, 5, 3]"
      ]
     },
     "execution_count": 28,
     "metadata": {},
     "output_type": "execute_result"
    }
   ],
   "source": [
    "mylist"
   ]
  },
  {
   "cell_type": "code",
   "execution_count": 29,
   "id": "87a95678-8663-44ec-956c-3e136160ce72",
   "metadata": {},
   "outputs": [
    {
     "data": {
      "text/plain": [
       "[3, 5, 24, 35, 224, 1242, 445353]"
      ]
     },
     "execution_count": 29,
     "metadata": {},
     "output_type": "execute_result"
    }
   ],
   "source": [
    "mylist.reverse()\n",
    "mylist"
   ]
  },
  {
   "cell_type": "code",
   "execution_count": 30,
   "id": "ad5ab3e2-9132-4c1f-aa27-917d6dc45400",
   "metadata": {},
   "outputs": [],
   "source": [
    "#print all the elements with while as well as for loops\n",
    "mynums=[343,23243,543,213,644,245,7]"
   ]
  },
  {
   "cell_type": "code",
   "execution_count": 32,
   "id": "e3d3c4b7-7baf-4846-8999-649702245e4f",
   "metadata": {},
   "outputs": [
    {
     "name": "stdout",
     "output_type": "stream",
     "text": [
      "343\n",
      "23243\n",
      "543\n",
      "213\n",
      "644\n",
      "245\n",
      "7\n"
     ]
    }
   ],
   "source": [
    "i=0\n",
    "while (len(mynums)-i)!=0:\n",
    "    print (mynums[i])\n",
    "    i=i+1"
   ]
  },
  {
   "cell_type": "code",
   "execution_count": 46,
   "id": "20c3666b-96db-409d-bb46-98d399cefcf5",
   "metadata": {},
   "outputs": [
    {
     "name": "stdout",
     "output_type": "stream",
     "text": [
      "343\n",
      "23243\n",
      "543\n",
      "213\n",
      "644\n",
      "245\n",
      "7\n"
     ]
    }
   ],
   "source": [
    "for i in mynums:\n",
    "    print(i)"
   ]
  },
  {
   "cell_type": "markdown",
   "id": "a6f77687-6aef-40f3-8730-a8fd740d3d4b",
   "metadata": {},
   "source": [
    "# Homework \n",
    "Write a program to accept five integers from the user , store them in a list . Display these integers and also display their sum"
   ]
  },
  {
   "cell_type": "markdown",
   "id": "0b2ccd02-5bbe-4fce-8fbe-e76bdba970df",
   "metadata": {},
   "source": [
    "Write a program to accept 5 unique integers from the user. Make sure if the integer being entered is already present in the list your code displays the message “Item already present” and ask the user to reenter the integer."
   ]
  },
  {
   "cell_type": "markdown",
   "id": "badaed6c-8058-407b-b3d2-9ce3e1154784",
   "metadata": {},
   "source": [
    "Write a program to accept 2 lists from the user of 5 nos each . Assume each list will have unique nos Now find out how many items in these lists are common .\n"
   ]
  },
  {
   "cell_type": "markdown",
   "id": "3f6a03a7-6bb6-4839-a879-0c56d72f8dff",
   "metadata": {},
   "source": [
    "Rewrite the previous code so that your code alos displays the items which are common in both the lists"
   ]
  },
  {
   "cell_type": "code",
   "execution_count": null,
   "id": "a57f9118-941a-4594-b96c-bd097fec7648",
   "metadata": {},
   "outputs": [],
   "source": []
  }
 ],
 "metadata": {
  "kernelspec": {
   "display_name": "Python 3 (ipykernel)",
   "language": "python",
   "name": "python3"
  },
  "language_info": {
   "codemirror_mode": {
    "name": "ipython",
    "version": 3
   },
   "file_extension": ".py",
   "mimetype": "text/x-python",
   "name": "python",
   "nbconvert_exporter": "python",
   "pygments_lexer": "ipython3",
   "version": "3.10.6"
  }
 },
 "nbformat": 4,
 "nbformat_minor": 5
}
