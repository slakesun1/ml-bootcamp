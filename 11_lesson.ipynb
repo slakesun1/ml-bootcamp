{
 "cells": [
  {
   "cell_type": "markdown",
   "id": "1f09f497-ebf9-4922-a357-d9c8a68acdc5",
   "metadata": {},
   "source": [
    "# List comprehension"
   ]
  },
  {
   "cell_type": "code",
   "execution_count": 2,
   "id": "a780df00-779b-4174-ab9a-d216f6b3fb23",
   "metadata": {},
   "outputs": [],
   "source": [
    "my_string=\"sunny savita\""
   ]
  },
  {
   "cell_type": "code",
   "execution_count": 3,
   "id": "10f47dd4-8839-4916-b5f1-cf4814e6f02e",
   "metadata": {},
   "outputs": [],
   "source": [
    "my_list=[]"
   ]
  },
  {
   "cell_type": "code",
   "execution_count": 4,
   "id": "41cf1bcb-e5aa-4da2-94b9-b43432ba8f10",
   "metadata": {},
   "outputs": [
    {
     "name": "stdout",
     "output_type": "stream",
     "text": [
      "['s', 'u', 'n', 'n', 'y', ' ', 's', 'a', 'v', 'i', 't', 'a']\n"
     ]
    }
   ],
   "source": [
    "for i in my_string:\n",
    "    my_list.append(i)\n",
    "print(my_list)"
   ]
  },
  {
   "cell_type": "code",
   "execution_count": 5,
   "id": "c97c3e64-3b49-4b33-9e6f-f56bdccec6f6",
   "metadata": {},
   "outputs": [
    {
     "data": {
      "text/plain": [
       "['s', 'u', 'n', 'n', 'y', ' ', 's', 'a', 'v', 'i', 't', 'a']"
      ]
     },
     "execution_count": 5,
     "metadata": {},
     "output_type": "execute_result"
    }
   ],
   "source": [
    "[x for x in my_string]"
   ]
  },
  {
   "cell_type": "markdown",
   "id": "14635b6b-9417-4dc7-9702-3f6cbef69a50",
   "metadata": {},
   "source": [
    "# wap that produce square of numbers 1 to 5, store them into list and print list"
   ]
  },
  {
   "cell_type": "code",
   "execution_count": 7,
   "id": "3502a56c-0240-4f8c-acb2-e6d3b9d1a770",
   "metadata": {},
   "outputs": [
    {
     "data": {
      "text/plain": [
       "[1, 4, 9, 16, 25]"
      ]
     },
     "execution_count": 7,
     "metadata": {},
     "output_type": "execute_result"
    }
   ],
   "source": [
    "numbers=[1,2,3,4,5]\n",
    "[x*x for x in numbers]"
   ]
  },
  {
   "cell_type": "code",
   "execution_count": 9,
   "id": "c7eed773-b004-4ce2-8574-b480ff4feb2c",
   "metadata": {},
   "outputs": [
    {
     "name": "stdout",
     "output_type": "stream",
     "text": [
      "[1, 4, 9, 16, 25]\n"
     ]
    }
   ],
   "source": [
    "result=[]\n",
    "numbers=[1,2,3,4,5]\n",
    "for i in numbers:\n",
    "    result.append(i*i)\n",
    "print (result)\n",
    "    "
   ]
  },
  {
   "cell_type": "code",
   "execution_count": 11,
   "id": "b7845be1-09b9-4a40-9eca-1ac61a2f515d",
   "metadata": {},
   "outputs": [
    {
     "name": "stdout",
     "output_type": "stream",
     "text": [
      "[1, 4, 9, 16, 25, 36, 49, 64, 81, 100]\n"
     ]
    }
   ],
   "source": [
    "result=[]\n",
    "for x in range(1,11):\n",
    "    result.append(x**2)\n",
    "print(result)"
   ]
  },
  {
   "cell_type": "code",
   "execution_count": 12,
   "id": "815b01da-840f-4877-a9c5-94b9b1aa6e99",
   "metadata": {},
   "outputs": [
    {
     "data": {
      "text/plain": [
       "[1, 4, 9, 16, 25, 36, 49, 64, 81, 100]"
      ]
     },
     "execution_count": 12,
     "metadata": {},
     "output_type": "execute_result"
    }
   ],
   "source": [
    "numbers= range (1,11)\n",
    "[x**2 for x in numbers]"
   ]
  },
  {
   "cell_type": "code",
   "execution_count": 14,
   "id": "acdf7e5c-4df4-4335-81c3-b1dea9800ff1",
   "metadata": {},
   "outputs": [
    {
     "data": {
      "text/plain": [
       "[1, 4, 9, 16, 25, 36, 49, 64, 81, 100]"
      ]
     },
     "execution_count": 14,
     "metadata": {},
     "output_type": "execute_result"
    }
   ],
   "source": [
    "[x**2 for x in range(1,11)]"
   ]
  },
  {
   "cell_type": "markdown",
   "id": "d1dcfe97-965e-4a55-af6a-81ff4db36da7",
   "metadata": {},
   "source": [
    "# wap which accept a string from the User and convert each word in uppercase, store in the list and print it"
   ]
  },
  {
   "cell_type": "code",
   "execution_count": 26,
   "id": "c0101b63-b02c-4c13-8853-1f86ee713f41",
   "metadata": {},
   "outputs": [
    {
     "name": "stdin",
     "output_type": "stream",
     "text": [
      "Enter a string kksklskl skjskjskl\n"
     ]
    },
    {
     "name": "stdout",
     "output_type": "stream",
     "text": [
      "['KKSKLSKL', 'SKJSKJSKL']\n"
     ]
    }
   ],
   "source": [
    "# for loop\n",
    "result=[]\n",
    "string=input(\"Enter a string\")\n",
    "string=string.split()\n",
    "for x in string:\n",
    "    result.append(x.upper())\n",
    "    \n",
    "#string=string.upper()\n",
    "print(result)"
   ]
  },
  {
   "cell_type": "code",
   "execution_count": 27,
   "id": "028fe436-72b0-46a5-be35-c0af57379507",
   "metadata": {},
   "outputs": [
    {
     "name": "stdin",
     "output_type": "stream",
     "text": [
      "Enter a string djjdjd sjjss\n"
     ]
    },
    {
     "data": {
      "text/plain": [
       "['DJJDJD', 'SJJSS']"
      ]
     },
     "execution_count": 27,
     "metadata": {},
     "output_type": "execute_result"
    }
   ],
   "source": [
    "# comprehension\n",
    "string=input(\"Enter a string\")\n",
    "string=string.split()\n",
    "[x.upper() for x in string]"
   ]
  },
  {
   "cell_type": "code",
   "execution_count": 31,
   "id": "34682d02-7d1a-47c9-856a-7d6e334bddcc",
   "metadata": {},
   "outputs": [
    {
     "name": "stdin",
     "output_type": "stream",
     "text": [
      "Enter a string: ksjslskl slkslsk\n"
     ]
    },
    {
     "name": "stdout",
     "output_type": "stream",
     "text": [
      "['K', 'S', 'J', 'S', 'L', 'S', 'K', 'L', ' ', 'S', 'L', 'K', 'S', 'L', 'S', 'K']\n"
     ]
    }
   ],
   "source": [
    "#for loop - right decision\n",
    "my_string=input(\"Enter a string:\")\n",
    "my_list=[]\n",
    "for x in my_string:\n",
    "    my_list.append(x.upper())\n",
    "print(my_list)"
   ]
  },
  {
   "cell_type": "code",
   "execution_count": 33,
   "id": "bad9cb62-fa74-4e01-a858-446b117c70b7",
   "metadata": {},
   "outputs": [
    {
     "name": "stdin",
     "output_type": "stream",
     "text": [
      "Enter a string: dkkddjk sklsks\n"
     ]
    },
    {
     "data": {
      "text/plain": [
       "['D', 'K', 'K', 'D', 'D', 'J', 'K', ' ', 'S', 'K', 'L', 'S', 'K', 'S']"
      ]
     },
     "execution_count": 33,
     "metadata": {},
     "output_type": "execute_result"
    }
   ],
   "source": [
    "#comprehension\n",
    "my_string=input(\"Enter a string:\")\n",
    "[x.upper() for x in my_string]"
   ]
  },
  {
   "cell_type": "markdown",
   "id": "64488680-b23e-48d8-9fca-1f1ce593b1f0",
   "metadata": {},
   "source": [
    "# wap that produce square only of odd numbers fron 1 to 50, store then into list and print list"
   ]
  },
  {
   "cell_type": "code",
   "execution_count": 34,
   "id": "192f5d3e-a801-4e04-acce-9596a564d16e",
   "metadata": {},
   "outputs": [
    {
     "name": "stdout",
     "output_type": "stream",
     "text": [
      "[1, 9, 25, 49, 81, 121, 169, 225, 289, 361, 441, 529, 625, 729, 841, 961, 1089, 1225, 1369, 1521, 1681, 1849, 2025, 2209, 2401]\n"
     ]
    }
   ],
   "source": [
    "# for loop\n",
    "my_list=[]\n",
    "for i in range(1,51):\n",
    "    if i%2!=0:\n",
    "        my_list.append(i**2)\n",
    "print(my_list)\n",
    "        "
   ]
  },
  {
   "cell_type": "code",
   "execution_count": 39,
   "id": "1262c997-0736-4f6b-a83e-1d9f410427e0",
   "metadata": {},
   "outputs": [
    {
     "data": {
      "text/plain": [
       "[1,\n",
       " 9,\n",
       " 25,\n",
       " 49,\n",
       " 81,\n",
       " 121,\n",
       " 169,\n",
       " 225,\n",
       " 289,\n",
       " 361,\n",
       " 441,\n",
       " 529,\n",
       " 625,\n",
       " 729,\n",
       " 841,\n",
       " 961,\n",
       " 1089,\n",
       " 1225,\n",
       " 1369,\n",
       " 1521,\n",
       " 1681,\n",
       " 1849,\n",
       " 2025,\n",
       " 2209,\n",
       " 2401]"
      ]
     },
     "execution_count": 39,
     "metadata": {},
     "output_type": "execute_result"
    }
   ],
   "source": [
    "# comprehension\n",
    "[i**2 for i in range(1,51) if i%2!=0]"
   ]
  },
  {
   "cell_type": "markdown",
   "id": "71a5a0ad-6a1b-427a-a4d7-be538cf11ce8",
   "metadata": {},
   "source": [
    "# Homework\n",
    "Create a function called removevowels() which accept a string as argument and return a list with all the vowels removed fron the string\n",
    "1) for loop\n",
    "2) list comprehension"
   ]
  },
  {
   "cell_type": "markdown",
   "id": "1c0734ce-62b1-4a03-b647-4a59d17fd376",
   "metadata": {},
   "source": [
    "# tuple"
   ]
  },
  {
   "cell_type": "code",
   "execution_count": 1,
   "id": "4795cdcf-9da9-4337-80c8-c4d757646e3d",
   "metadata": {},
   "outputs": [],
   "source": [
    "mytuple=()"
   ]
  },
  {
   "cell_type": "code",
   "execution_count": 2,
   "id": "c4cace84-cac2-4183-a293-7d8fc4049d38",
   "metadata": {},
   "outputs": [
    {
     "data": {
      "text/plain": [
       "()"
      ]
     },
     "execution_count": 2,
     "metadata": {},
     "output_type": "execute_result"
    }
   ],
   "source": [
    "mytuple"
   ]
  },
  {
   "cell_type": "code",
   "execution_count": 3,
   "id": "54e28e8c-b201-4fa0-983e-58707530908d",
   "metadata": {},
   "outputs": [],
   "source": [
    "mytuple=(1,2,3,4,677,89,9)"
   ]
  },
  {
   "cell_type": "code",
   "execution_count": 4,
   "id": "bc7f55ed-65bf-4142-b650-64da1848a08d",
   "metadata": {},
   "outputs": [
    {
     "data": {
      "text/plain": [
       "(1, 2, 3, 4, 677, 89, 9)"
      ]
     },
     "execution_count": 4,
     "metadata": {},
     "output_type": "execute_result"
    }
   ],
   "source": [
    "mytuple"
   ]
  },
  {
   "cell_type": "code",
   "execution_count": 5,
   "id": "de8a54e7-f9d1-4522-bd7f-adddb29a6653",
   "metadata": {},
   "outputs": [],
   "source": [
    "mytuple=(12,\"vanya\", True, 10.5, 3j+7)"
   ]
  },
  {
   "cell_type": "code",
   "execution_count": 6,
   "id": "ffe7cb4e-068b-4fc2-ab09-6867c3087c8a",
   "metadata": {},
   "outputs": [
    {
     "data": {
      "text/plain": [
       "(12, 'vanya', True, 10.5, (7+3j))"
      ]
     },
     "execution_count": 6,
     "metadata": {},
     "output_type": "execute_result"
    }
   ],
   "source": [
    "mytuple"
   ]
  },
  {
   "cell_type": "code",
   "execution_count": 7,
   "id": "067af0ea-e1d3-4442-901f-131cc801a306",
   "metadata": {},
   "outputs": [
    {
     "data": {
      "text/plain": [
       "int"
      ]
     },
     "execution_count": 7,
     "metadata": {},
     "output_type": "execute_result"
    }
   ],
   "source": [
    "mytuple=(10)\n",
    "type(mytuple)"
   ]
  },
  {
   "cell_type": "code",
   "execution_count": 8,
   "id": "52801458-e83b-4375-9d98-e5a5e81fcf3f",
   "metadata": {},
   "outputs": [],
   "source": [
    "mytuple2=(10,)"
   ]
  },
  {
   "cell_type": "code",
   "execution_count": 9,
   "id": "3310f4ca-6367-4456-ace8-3d76bc1780cb",
   "metadata": {},
   "outputs": [
    {
     "data": {
      "text/plain": [
       "tuple"
      ]
     },
     "execution_count": 9,
     "metadata": {},
     "output_type": "execute_result"
    }
   ],
   "source": [
    "type(mytuple2)"
   ]
  },
  {
   "cell_type": "code",
   "execution_count": 12,
   "id": "045fe343-b1d0-4038-962e-5d39fcab1fc7",
   "metadata": {},
   "outputs": [],
   "source": [
    "#concept of packing and unpacking\n",
    "a=1,2,3,4"
   ]
  },
  {
   "cell_type": "code",
   "execution_count": 11,
   "id": "6f7311f4-19c6-4501-8e7f-b1e2b12ed92c",
   "metadata": {},
   "outputs": [
    {
     "data": {
      "text/plain": [
       "(1, 2, 3, 4, 5)"
      ]
     },
     "execution_count": 11,
     "metadata": {},
     "output_type": "execute_result"
    }
   ],
   "source": [
    "a"
   ]
  },
  {
   "cell_type": "code",
   "execution_count": 13,
   "id": "a8b9cee2-6961-4828-8d18-2744f82104e8",
   "metadata": {},
   "outputs": [],
   "source": [
    "x,y,z,h=a"
   ]
  },
  {
   "cell_type": "code",
   "execution_count": 14,
   "id": "df41ada4-f875-4384-9830-9bcdb6419e2b",
   "metadata": {},
   "outputs": [
    {
     "data": {
      "text/plain": [
       "1"
      ]
     },
     "execution_count": 14,
     "metadata": {},
     "output_type": "execute_result"
    }
   ],
   "source": [
    "x"
   ]
  },
  {
   "cell_type": "code",
   "execution_count": 15,
   "id": "94630c92-3dfb-4f22-ad0f-40e9cdf86896",
   "metadata": {},
   "outputs": [
    {
     "data": {
      "text/plain": [
       "2"
      ]
     },
     "execution_count": 15,
     "metadata": {},
     "output_type": "execute_result"
    }
   ],
   "source": [
    "y"
   ]
  },
  {
   "cell_type": "code",
   "execution_count": 16,
   "id": "cb796805-5675-45dd-9e01-1ee3eadb6e08",
   "metadata": {},
   "outputs": [
    {
     "data": {
      "text/plain": [
       "3"
      ]
     },
     "execution_count": 16,
     "metadata": {},
     "output_type": "execute_result"
    }
   ],
   "source": [
    "z"
   ]
  },
  {
   "cell_type": "code",
   "execution_count": 17,
   "id": "50a9dfe0-fab3-42d0-8774-068181207ce7",
   "metadata": {},
   "outputs": [
    {
     "data": {
      "text/plain": [
       "4"
      ]
     },
     "execution_count": 17,
     "metadata": {},
     "output_type": "execute_result"
    }
   ],
   "source": [
    "h"
   ]
  },
  {
   "cell_type": "code",
   "execution_count": 19,
   "id": "aa5c4be1-24de-46e3-ada4-10461fd270ba",
   "metadata": {},
   "outputs": [],
   "source": [
    "mytuple=345,3,3,5,3,2,22,4455,9"
   ]
  },
  {
   "cell_type": "code",
   "execution_count": 20,
   "id": "c4f35ea3-cb8e-4092-86cf-040d36573ce1",
   "metadata": {},
   "outputs": [
    {
     "name": "stdout",
     "output_type": "stream",
     "text": [
      "(345, 3, 3, 5, 3, 2, 22, 4455, 9)\n"
     ]
    }
   ],
   "source": [
    "print(mytuple)"
   ]
  },
  {
   "cell_type": "code",
   "execution_count": 21,
   "id": "25735a54-fcb9-4637-bf25-5d8b53ca5593",
   "metadata": {},
   "outputs": [
    {
     "data": {
      "text/plain": [
       "5"
      ]
     },
     "execution_count": 21,
     "metadata": {},
     "output_type": "execute_result"
    }
   ],
   "source": [
    "mytuple[3]"
   ]
  },
  {
   "cell_type": "code",
   "execution_count": 22,
   "id": "55023979-6ddb-41f1-aef8-baa1cfcd7e13",
   "metadata": {},
   "outputs": [
    {
     "data": {
      "text/plain": [
       "4455"
      ]
     },
     "execution_count": 22,
     "metadata": {},
     "output_type": "execute_result"
    }
   ],
   "source": [
    "mytuple[-2]"
   ]
  },
  {
   "cell_type": "code",
   "execution_count": 23,
   "id": "c96a9251-90a4-4ed0-847c-3c0568afbee2",
   "metadata": {},
   "outputs": [
    {
     "data": {
      "text/plain": [
       "(3, 2, 22)"
      ]
     },
     "execution_count": 23,
     "metadata": {},
     "output_type": "execute_result"
    }
   ],
   "source": [
    "mytuple[4:7]"
   ]
  },
  {
   "cell_type": "code",
   "execution_count": 28,
   "id": "f5c9b376-83dd-49cd-b087-5bb481411ff1",
   "metadata": {},
   "outputs": [],
   "source": [
    "mynums=([1,2],3,4,5,6,7)"
   ]
  },
  {
   "cell_type": "code",
   "execution_count": 26,
   "id": "e276015f-181d-43db-9662-5c9eb137fc19",
   "metadata": {},
   "outputs": [
    {
     "ename": "TypeError",
     "evalue": "'tuple' object does not support item assignment",
     "output_type": "error",
     "traceback": [
      "\u001b[0;31m---------------------------------------------------------------------------\u001b[0m",
      "\u001b[0;31mTypeError\u001b[0m                                 Traceback (most recent call last)",
      "Cell \u001b[0;32mIn [26], line 1\u001b[0m\n\u001b[0;32m----> 1\u001b[0m \u001b[43mmynums\u001b[49m\u001b[43m[\u001b[49m\u001b[38;5;241;43m2\u001b[39;49m\u001b[43m]\u001b[49m\u001b[38;5;241m=\u001b[39m\u001b[38;5;241m100\u001b[39m\n",
      "\u001b[0;31mTypeError\u001b[0m: 'tuple' object does not support item assignment"
     ]
    }
   ],
   "source": [
    "mynums[2]=100"
   ]
  },
  {
   "cell_type": "code",
   "execution_count": 31,
   "id": "1edda47d-3850-4cf6-a2c9-2a33b69af8e5",
   "metadata": {},
   "outputs": [
    {
     "data": {
      "text/plain": [
       "2"
      ]
     },
     "execution_count": 31,
     "metadata": {},
     "output_type": "execute_result"
    }
   ],
   "source": [
    "mynums[0][1]"
   ]
  },
  {
   "cell_type": "code",
   "execution_count": 32,
   "id": "060e4fc9-51f2-4f8d-b2bd-c2feb9bc7d0a",
   "metadata": {},
   "outputs": [
    {
     "data": {
      "text/plain": [
       "([1, 100], 3, 4, 5, 6, 7)"
      ]
     },
     "execution_count": 32,
     "metadata": {},
     "output_type": "execute_result"
    }
   ],
   "source": [
    "\n",
    "mynums[0][1]=100\n",
    "mynums"
   ]
  },
  {
   "cell_type": "code",
   "execution_count": 33,
   "id": "0cc547f8-7841-42e4-aaa0-2cd4e281efec",
   "metadata": {},
   "outputs": [],
   "source": [
    "a=(4,2,3)\n",
    "b=(4,3,5)"
   ]
  },
  {
   "cell_type": "code",
   "execution_count": 34,
   "id": "bcb8278a-7013-4b50-b4d8-d69e3ee03881",
   "metadata": {},
   "outputs": [
    {
     "data": {
      "text/plain": [
       "True"
      ]
     },
     "execution_count": 34,
     "metadata": {},
     "output_type": "execute_result"
    }
   ],
   "source": [
    "a<b"
   ]
  },
  {
   "cell_type": "markdown",
   "id": "7be256ac-cd4d-4851-8d7e-1bb8fec6921e",
   "metadata": {},
   "source": [
    "# set"
   ]
  },
  {
   "cell_type": "code",
   "execution_count": 37,
   "id": "4a1d18d2-4a26-457c-966b-b66d75e89166",
   "metadata": {},
   "outputs": [],
   "source": [
    "myset={1,2,3,4,56,7,7}"
   ]
  },
  {
   "cell_type": "code",
   "execution_count": 38,
   "id": "7a47ff92-3fa3-4ab8-b451-f478e8a99f64",
   "metadata": {},
   "outputs": [
    {
     "data": {
      "text/plain": [
       "{1, 2, 3, 4, 7, 56}"
      ]
     },
     "execution_count": 38,
     "metadata": {},
     "output_type": "execute_result"
    }
   ],
   "source": [
    "myset"
   ]
  },
  {
   "cell_type": "code",
   "execution_count": 39,
   "id": "2c57b1eb-c637-40be-9065-12ecfd6cce2d",
   "metadata": {},
   "outputs": [
    {
     "ename": "TypeError",
     "evalue": "'set' object is not subscriptable",
     "output_type": "error",
     "traceback": [
      "\u001b[0;31m---------------------------------------------------------------------------\u001b[0m",
      "\u001b[0;31mTypeError\u001b[0m                                 Traceback (most recent call last)",
      "Cell \u001b[0;32mIn [39], line 1\u001b[0m\n\u001b[0;32m----> 1\u001b[0m \u001b[43mmyset\u001b[49m\u001b[43m[\u001b[49m\u001b[38;5;241;43m0\u001b[39;49m\u001b[43m]\u001b[49m\n",
      "\u001b[0;31mTypeError\u001b[0m: 'set' object is not subscriptable"
     ]
    }
   ],
   "source": [
    "myset[0]"
   ]
  },
  {
   "cell_type": "code",
   "execution_count": 41,
   "id": "e206cbcf-0f8c-40af-8d9d-aa06a23ef57e",
   "metadata": {},
   "outputs": [
    {
     "ename": "TypeError",
     "evalue": "'set' object is not subscriptable",
     "output_type": "error",
     "traceback": [
      "\u001b[0;31m---------------------------------------------------------------------------\u001b[0m",
      "\u001b[0;31mTypeError\u001b[0m                                 Traceback (most recent call last)",
      "Cell \u001b[0;32mIn [41], line 1\u001b[0m\n\u001b[0;32m----> 1\u001b[0m \u001b[43mmyset\u001b[49m\u001b[43m[\u001b[49m\u001b[38;5;241;43m0\u001b[39;49m\u001b[43m:\u001b[49m\u001b[38;5;241;43m4\u001b[39;49m\u001b[43m]\u001b[49m\n",
      "\u001b[0;31mTypeError\u001b[0m: 'set' object is not subscriptable"
     ]
    }
   ],
   "source": [
    "myset[0:4]"
   ]
  },
  {
   "cell_type": "code",
   "execution_count": 1,
   "id": "fda928ed-4bd4-4774-8315-4458339a6978",
   "metadata": {},
   "outputs": [
    {
     "data": {
      "text/plain": [
       "{1, 2, 3, 4, 5, 6}"
      ]
     },
     "execution_count": 1,
     "metadata": {},
     "output_type": "execute_result"
    }
   ],
   "source": [
    "set([1,2,3,4,5,6])"
   ]
  },
  {
   "cell_type": "code",
   "execution_count": 2,
   "id": "7af85146-6bc9-4ea8-b32e-0be9197b9eb2",
   "metadata": {},
   "outputs": [
    {
     "data": {
      "text/plain": [
       "{1, 2, 3, 4, 5, 6}"
      ]
     },
     "execution_count": 2,
     "metadata": {},
     "output_type": "execute_result"
    }
   ],
   "source": [
    "set((1,2,3,4,5,6,5,4,3,))"
   ]
  },
  {
   "cell_type": "code",
   "execution_count": 3,
   "id": "069d9dc7-e8db-4c44-8198-67adeddcf7d4",
   "metadata": {},
   "outputs": [
    {
     "ename": "NameError",
     "evalue": "name 'myset' is not defined",
     "output_type": "error",
     "traceback": [
      "\u001b[0;31m---------------------------------------------------------------------------\u001b[0m",
      "\u001b[0;31mNameError\u001b[0m                                 Traceback (most recent call last)",
      "Cell \u001b[0;32mIn [3], line 1\u001b[0m\n\u001b[0;32m----> 1\u001b[0m \u001b[43mmyset\u001b[49m\u001b[38;5;241m.\u001b[39madd(\u001b[38;5;241m18888\u001b[39m)\n",
      "\u001b[0;31mNameError\u001b[0m: name 'myset' is not defined"
     ]
    }
   ],
   "source": [
    "myset.add(18888)"
   ]
  },
  {
   "cell_type": "code",
   "execution_count": 4,
   "id": "a4119964-36b1-42dc-9aa4-1d3863ccf43b",
   "metadata": {},
   "outputs": [],
   "source": [
    "myset={1,2,3,4,56,7,7}"
   ]
  },
  {
   "cell_type": "code",
   "execution_count": 5,
   "id": "15696fd9-8424-4ac9-821f-f5f351e5417f",
   "metadata": {},
   "outputs": [],
   "source": [
    "myset.add(18888)"
   ]
  },
  {
   "cell_type": "code",
   "execution_count": 6,
   "id": "45b08cbd-b562-451d-9e65-fd75bdaafb82",
   "metadata": {},
   "outputs": [
    {
     "data": {
      "text/plain": [
       "{1, 2, 3, 4, 7, 56, 18888}"
      ]
     },
     "execution_count": 6,
     "metadata": {},
     "output_type": "execute_result"
    }
   ],
   "source": [
    "myset"
   ]
  },
  {
   "cell_type": "code",
   "execution_count": 7,
   "id": "ab610c4a-bd36-4fc8-ab6a-d844233dafd0",
   "metadata": {},
   "outputs": [
    {
     "data": {
      "text/plain": [
       "{1, 2, 3, 4, 7, 56, 18888}"
      ]
     },
     "execution_count": 7,
     "metadata": {},
     "output_type": "execute_result"
    }
   ],
   "source": [
    "myset.copy()"
   ]
  },
  {
   "cell_type": "code",
   "execution_count": 8,
   "id": "4c399d7c-31d8-4d80-8e92-509f3b7f957a",
   "metadata": {},
   "outputs": [],
   "source": [
    "myset.clear()"
   ]
  },
  {
   "cell_type": "code",
   "execution_count": 9,
   "id": "08c38768-9c66-4a97-b0b4-134803bb90db",
   "metadata": {},
   "outputs": [
    {
     "data": {
      "text/plain": [
       "set()"
      ]
     },
     "execution_count": 9,
     "metadata": {},
     "output_type": "execute_result"
    }
   ],
   "source": [
    "myset"
   ]
  },
  {
   "cell_type": "raw",
   "id": "21225b09-a594-4f0d-a2b5-17c02e819cbb",
   "metadata": {},
   "source": [
    "#pop() # remove() # update()"
   ]
  },
  {
   "cell_type": "code",
   "execution_count": null,
   "id": "7d1c6e81-6b84-493d-8186-feeeda9ea08a",
   "metadata": {},
   "outputs": [],
   "source": []
  }
 ],
 "metadata": {
  "kernelspec": {
   "display_name": "Python 3 (ipykernel)",
   "language": "python",
   "name": "python3"
  },
  "language_info": {
   "codemirror_mode": {
    "name": "ipython",
    "version": 3
   },
   "file_extension": ".py",
   "mimetype": "text/x-python",
   "name": "python",
   "nbconvert_exporter": "python",
   "pygments_lexer": "ipython3",
   "version": "3.10.6"
  }
 },
 "nbformat": 4,
 "nbformat_minor": 5
}
