{
 "cells": [
  {
   "cell_type": "code",
   "execution_count": 1,
   "id": "f4d8ea0a-325e-41c8-987e-7197edf3182c",
   "metadata": {},
   "outputs": [],
   "source": [
    "a='sunny'"
   ]
  },
  {
   "cell_type": "code",
   "execution_count": 2,
   "id": "fa7b9492-3d93-4499-bad1-a24454e6f71c",
   "metadata": {},
   "outputs": [
    {
     "data": {
      "text/plain": [
       "'y'"
      ]
     },
     "execution_count": 2,
     "metadata": {},
     "output_type": "execute_result"
    }
   ],
   "source": [
    "a[4]"
   ]
  },
  {
   "cell_type": "code",
   "execution_count": 3,
   "id": "10af81cc-6471-4d34-bbf1-885efa713850",
   "metadata": {},
   "outputs": [
    {
     "data": {
      "text/plain": [
       "'y'"
      ]
     },
     "execution_count": 3,
     "metadata": {},
     "output_type": "execute_result"
    }
   ],
   "source": [
    "a[-1]"
   ]
  },
  {
   "cell_type": "code",
   "execution_count": 4,
   "id": "fdc9e37b-c07c-4f77-aba7-e7c70a7e8b9c",
   "metadata": {},
   "outputs": [
    {
     "ename": "IndexError",
     "evalue": "string index out of range",
     "output_type": "error",
     "traceback": [
      "\u001b[0;31m---------------------------------------------------------------------------\u001b[0m",
      "\u001b[0;31mIndexError\u001b[0m                                Traceback (most recent call last)",
      "Cell \u001b[0;32mIn [4], line 1\u001b[0m\n\u001b[0;32m----> 1\u001b[0m \u001b[43ma\u001b[49m\u001b[43m[\u001b[49m\u001b[38;5;241;43m5\u001b[39;49m\u001b[43m]\u001b[49m\n",
      "\u001b[0;31mIndexError\u001b[0m: string index out of range"
     ]
    }
   ],
   "source": [
    "a[5]"
   ]
  },
  {
   "cell_type": "code",
   "execution_count": 5,
   "id": "894f455e-b3f6-407e-84bd-262b62723116",
   "metadata": {},
   "outputs": [
    {
     "data": {
      "text/plain": [
       "5"
      ]
     },
     "execution_count": 5,
     "metadata": {},
     "output_type": "execute_result"
    }
   ],
   "source": [
    "len(a)"
   ]
  },
  {
   "cell_type": "code",
   "execution_count": 6,
   "id": "2b5f58e3-2311-46b6-a679-9d895bf43210",
   "metadata": {},
   "outputs": [
    {
     "data": {
      "text/plain": [
       "4"
      ]
     },
     "execution_count": 6,
     "metadata": {},
     "output_type": "execute_result"
    }
   ],
   "source": [
    "len(a)-1"
   ]
  },
  {
   "cell_type": "code",
   "execution_count": 7,
   "id": "fe9e6608-3f2f-4791-a1c3-0a83036c718b",
   "metadata": {},
   "outputs": [],
   "source": [
    "a='sunny savita'"
   ]
  },
  {
   "cell_type": "code",
   "execution_count": 8,
   "id": "bcb50129-78ad-4388-b4cd-f7b609e74ef9",
   "metadata": {},
   "outputs": [
    {
     "data": {
      "text/plain": [
       "12"
      ]
     },
     "execution_count": 8,
     "metadata": {},
     "output_type": "execute_result"
    }
   ],
   "source": [
    "len(a)"
   ]
  },
  {
   "cell_type": "code",
   "execution_count": 9,
   "id": "e1fd0d6b-9199-4602-9733-cbfb8a8ad31a",
   "metadata": {},
   "outputs": [],
   "source": [
    "a='sunny'"
   ]
  },
  {
   "cell_type": "code",
   "execution_count": 10,
   "id": "8d0ecfd0-eb42-4156-b46d-a63ba0bdbae4",
   "metadata": {},
   "outputs": [],
   "source": [
    "b='savita'"
   ]
  },
  {
   "cell_type": "code",
   "execution_count": 11,
   "id": "2f15cc6d-b413-4ff8-8f83-ce3b7f26a7a1",
   "metadata": {},
   "outputs": [
    {
     "data": {
      "text/plain": [
       "'sunny savita'"
      ]
     },
     "execution_count": 11,
     "metadata": {},
     "output_type": "execute_result"
    }
   ],
   "source": [
    "a+ \" \" + b"
   ]
  },
  {
   "cell_type": "code",
   "execution_count": 12,
   "id": "47c72195-189b-46e6-82d1-6067e1338628",
   "metadata": {},
   "outputs": [],
   "source": [
    "c=10"
   ]
  },
  {
   "cell_type": "code",
   "execution_count": 13,
   "id": "92272e32-a8ea-4802-9dfc-669fdefe162c",
   "metadata": {},
   "outputs": [
    {
     "ename": "TypeError",
     "evalue": "can only concatenate str (not \"int\") to str",
     "output_type": "error",
     "traceback": [
      "\u001b[0;31m---------------------------------------------------------------------------\u001b[0m",
      "\u001b[0;31mTypeError\u001b[0m                                 Traceback (most recent call last)",
      "Cell \u001b[0;32mIn [13], line 1\u001b[0m\n\u001b[0;32m----> 1\u001b[0m \u001b[43ma\u001b[49m\u001b[38;5;241;43m+\u001b[39;49m\u001b[43mc\u001b[49m\n",
      "\u001b[0;31mTypeError\u001b[0m: can only concatenate str (not \"int\") to str"
     ]
    }
   ],
   "source": [
    "a+c"
   ]
  },
  {
   "cell_type": "code",
   "execution_count": 14,
   "id": "7ddbc3c8-2926-4e3d-80bc-db1b75a31cd3",
   "metadata": {},
   "outputs": [
    {
     "ename": "TypeError",
     "evalue": "can only concatenate str (not \"int\") to str",
     "output_type": "error",
     "traceback": [
      "\u001b[0;31m---------------------------------------------------------------------------\u001b[0m",
      "\u001b[0;31mTypeError\u001b[0m                                 Traceback (most recent call last)",
      "Cell \u001b[0;32mIn [14], line 1\u001b[0m\n\u001b[0;32m----> 1\u001b[0m \u001b[43ma\u001b[49m\u001b[38;5;241;43m+\u001b[39;49m\u001b[38;5;28;43mint\u001b[39;49m\u001b[43m(\u001b[49m\u001b[43mc\u001b[49m\u001b[43m)\u001b[49m\n",
      "\u001b[0;31mTypeError\u001b[0m: can only concatenate str (not \"int\") to str"
     ]
    }
   ],
   "source": [
    "a+int(c)"
   ]
  },
  {
   "cell_type": "code",
   "execution_count": 15,
   "id": "80235591-5306-4115-aefd-27c088de5b92",
   "metadata": {},
   "outputs": [
    {
     "ename": "ValueError",
     "evalue": "invalid literal for int() with base 10: 'sunny'",
     "output_type": "error",
     "traceback": [
      "\u001b[0;31m---------------------------------------------------------------------------\u001b[0m",
      "\u001b[0;31mValueError\u001b[0m                                Traceback (most recent call last)",
      "Cell \u001b[0;32mIn [15], line 1\u001b[0m\n\u001b[0;32m----> 1\u001b[0m \u001b[38;5;28;43mint\u001b[39;49m\u001b[43m(\u001b[49m\u001b[43ma\u001b[49m\u001b[43m)\u001b[49m\u001b[38;5;241m+\u001b[39mc\n",
      "\u001b[0;31mValueError\u001b[0m: invalid literal for int() with base 10: 'sunny'"
     ]
    }
   ],
   "source": [
    "int(a)+c"
   ]
  },
  {
   "cell_type": "code",
   "execution_count": 16,
   "id": "96b4beed-51f7-492a-bfe9-b6e3d6cdffa5",
   "metadata": {},
   "outputs": [
    {
     "data": {
      "text/plain": [
       "'sunny10'"
      ]
     },
     "execution_count": 16,
     "metadata": {},
     "output_type": "execute_result"
    }
   ],
   "source": [
    "a+str(c)"
   ]
  },
  {
   "cell_type": "code",
   "execution_count": 17,
   "id": "7966594c-f7d7-4f6a-884b-2e3447b914f6",
   "metadata": {},
   "outputs": [
    {
     "data": {
      "text/plain": [
       "'su'"
      ]
     },
     "execution_count": 17,
     "metadata": {},
     "output_type": "execute_result"
    }
   ],
   "source": [
    "a[0:2]"
   ]
  },
  {
   "cell_type": "code",
   "execution_count": 18,
   "id": "e9945774-2788-4723-a558-d0572c725d6d",
   "metadata": {},
   "outputs": [
    {
     "data": {
      "text/plain": [
       "'sun'"
      ]
     },
     "execution_count": 18,
     "metadata": {},
     "output_type": "execute_result"
    }
   ],
   "source": [
    "a[0:3]"
   ]
  },
  {
   "cell_type": "code",
   "execution_count": 19,
   "id": "b523496d-cc06-4c4c-a543-e8140a0106c8",
   "metadata": {},
   "outputs": [
    {
     "ename": "SyntaxError",
     "evalue": "closing parenthesis '}' does not match opening parenthesis '[' (3899250638.py, line 1)",
     "output_type": "error",
     "traceback": [
      "\u001b[0;36m  Cell \u001b[0;32mIn [19], line 1\u001b[0;36m\u001b[0m\n\u001b[0;31m    a[2:}\u001b[0m\n\u001b[0m        ^\u001b[0m\n\u001b[0;31mSyntaxError\u001b[0m\u001b[0;31m:\u001b[0m closing parenthesis '}' does not match opening parenthesis '['\n"
     ]
    }
   ],
   "source": [
    "a[2:}"
   ]
  },
  {
   "cell_type": "code",
   "execution_count": 20,
   "id": "efffebf6-9065-45bb-92d3-afd848f944a8",
   "metadata": {},
   "outputs": [
    {
     "data": {
      "text/plain": [
       "'nny'"
      ]
     },
     "execution_count": 20,
     "metadata": {},
     "output_type": "execute_result"
    }
   ],
   "source": [
    "a[2:]"
   ]
  },
  {
   "cell_type": "code",
   "execution_count": 21,
   "id": "695f829f-ef81-429e-94ea-9f4b14ed482d",
   "metadata": {},
   "outputs": [
    {
     "data": {
      "text/plain": [
       "'nny'"
      ]
     },
     "execution_count": 21,
     "metadata": {},
     "output_type": "execute_result"
    }
   ],
   "source": [
    "a[2:222]"
   ]
  },
  {
   "cell_type": "code",
   "execution_count": 22,
   "id": "549eb31c-a8ce-4ca8-9924-d503f969827f",
   "metadata": {},
   "outputs": [
    {
     "data": {
      "text/plain": [
       "''"
      ]
     },
     "execution_count": 22,
     "metadata": {},
     "output_type": "execute_result"
    }
   ],
   "source": [
    "a[2:2]"
   ]
  },
  {
   "cell_type": "code",
   "execution_count": 23,
   "id": "43411c0c-a366-4a2c-a674-0e63b66a1cc3",
   "metadata": {},
   "outputs": [],
   "source": [
    "word='python'"
   ]
  },
  {
   "cell_type": "code",
   "execution_count": 1,
   "id": "4309a5fa-60c5-44a1-966c-8ef5c4cba145",
   "metadata": {},
   "outputs": [
    {
     "ename": "NameError",
     "evalue": "name 'word' is not defined",
     "output_type": "error",
     "traceback": [
      "\u001b[0;31m---------------------------------------------------------------------------\u001b[0m",
      "\u001b[0;31mNameError\u001b[0m                                 Traceback (most recent call last)",
      "Cell \u001b[0;32mIn [1], line 1\u001b[0m\n\u001b[0;32m----> 1\u001b[0m \u001b[43mword\u001b[49m[\u001b[38;5;241m6\u001b[39m:\u001b[38;5;241m10\u001b[39m]\n",
      "\u001b[0;31mNameError\u001b[0m: name 'word' is not defined"
     ]
    }
   ],
   "source": [
    "word[6:10]"
   ]
  },
  {
   "cell_type": "code",
   "execution_count": 2,
   "id": "5e0c5442-d06d-4bd3-bc00-05ca3736b792",
   "metadata": {},
   "outputs": [],
   "source": [
    "word='python'"
   ]
  },
  {
   "cell_type": "code",
   "execution_count": 3,
   "id": "b262eeba-00e5-4e92-843f-25b322aa849c",
   "metadata": {},
   "outputs": [
    {
     "data": {
      "text/plain": [
       "''"
      ]
     },
     "execution_count": 3,
     "metadata": {},
     "output_type": "execute_result"
    }
   ],
   "source": [
    "word[6:10]"
   ]
  },
  {
   "cell_type": "code",
   "execution_count": 4,
   "id": "25888413-e5b8-4421-b344-8aca7e9cf46a",
   "metadata": {},
   "outputs": [
    {
     "data": {
      "text/plain": [
       "'python'"
      ]
     },
     "execution_count": 4,
     "metadata": {},
     "output_type": "execute_result"
    }
   ],
   "source": [
    "word[:]"
   ]
  },
  {
   "cell_type": "code",
   "execution_count": 5,
   "id": "3bb400e2-b325-4c04-bd53-196e25cc65d4",
   "metadata": {},
   "outputs": [
    {
     "ename": "SyntaxError",
     "evalue": "invalid syntax (3026801493.py, line 1)",
     "output_type": "error",
     "traceback": [
      "\u001b[0;36m  Cell \u001b[0;32mIn [5], line 1\u001b[0;36m\u001b[0m\n\u001b[0;31m    word[]\u001b[0m\n\u001b[0m         ^\u001b[0m\n\u001b[0;31mSyntaxError\u001b[0m\u001b[0;31m:\u001b[0m invalid syntax\n"
     ]
    }
   ],
   "source": [
    "word[]"
   ]
  },
  {
   "cell_type": "code",
   "execution_count": 6,
   "id": "7ebc8002-3b90-4646-819f-5e590be08761",
   "metadata": {},
   "outputs": [],
   "source": [
    "s=\"welcome\""
   ]
  },
  {
   "cell_type": "code",
   "execution_count": 7,
   "id": "28e2a74b-f786-47e9-97b1-a1790ee44917",
   "metadata": {},
   "outputs": [
    {
     "data": {
      "text/plain": [
       "'com'"
      ]
     },
     "execution_count": 7,
     "metadata": {},
     "output_type": "execute_result"
    }
   ],
   "source": [
    "s[-4:-1]"
   ]
  },
  {
   "cell_type": "code",
   "execution_count": 8,
   "id": "4a127224-f625-4e8d-932f-6942b66468df",
   "metadata": {},
   "outputs": [
    {
     "data": {
      "text/plain": [
       "''"
      ]
     },
     "execution_count": 8,
     "metadata": {},
     "output_type": "execute_result"
    }
   ],
   "source": [
    "s[-1:-4]"
   ]
  },
  {
   "cell_type": "code",
   "execution_count": 9,
   "id": "7bfe2723-283e-4b2b-9094-0f72f60e891c",
   "metadata": {},
   "outputs": [],
   "source": [
    "a=\"my name is sunny\""
   ]
  },
  {
   "cell_type": "code",
   "execution_count": 10,
   "id": "49b73a85-c382-45e0-84af-5bc234dac0f0",
   "metadata": {},
   "outputs": [
    {
     "data": {
      "text/plain": [
       "'my name is '"
      ]
     },
     "execution_count": 10,
     "metadata": {},
     "output_type": "execute_result"
    }
   ],
   "source": [
    "a[0:11]"
   ]
  },
  {
   "cell_type": "code",
   "execution_count": 11,
   "id": "fc2d0d24-5f52-4736-8172-f4270a7a7882",
   "metadata": {},
   "outputs": [
    {
     "data": {
      "text/plain": [
       "'sunny'"
      ]
     },
     "execution_count": 11,
     "metadata": {},
     "output_type": "execute_result"
    }
   ],
   "source": [
    "a[-5:]"
   ]
  },
  {
   "cell_type": "code",
   "execution_count": 12,
   "id": "2a837174-3691-4baf-aed6-7773fce71454",
   "metadata": {},
   "outputs": [
    {
     "data": {
      "text/plain": [
       "15"
      ]
     },
     "execution_count": 12,
     "metadata": {},
     "output_type": "execute_result"
    }
   ],
   "source": [
    "len(a)-1"
   ]
  },
  {
   "cell_type": "code",
   "execution_count": 13,
   "id": "450f5668-f62c-4db6-a5aa-20c375a96dd6",
   "metadata": {},
   "outputs": [
    {
     "data": {
      "text/plain": [
       "'my name is sunny'"
      ]
     },
     "execution_count": 13,
     "metadata": {},
     "output_type": "execute_result"
    }
   ],
   "source": [
    "a[0:16]"
   ]
  },
  {
   "cell_type": "code",
   "execution_count": 14,
   "id": "2cd7782f-dd14-4650-ac9c-9c1bf21a53f8",
   "metadata": {},
   "outputs": [
    {
     "data": {
      "text/plain": [
       "'m aei un'"
      ]
     },
     "execution_count": 14,
     "metadata": {},
     "output_type": "execute_result"
    }
   ],
   "source": [
    "a[0:16:2]"
   ]
  },
  {
   "cell_type": "code",
   "execution_count": 15,
   "id": "69bca6b1-73bc-4433-afd5-66adffa955da",
   "metadata": {},
   "outputs": [],
   "source": [
    "word='sunnysavita'"
   ]
  },
  {
   "cell_type": "code",
   "execution_count": 16,
   "id": "c8073651-f693-4fc4-a607-c3d42f6c6769",
   "metadata": {},
   "outputs": [
    {
     "data": {
      "text/plain": [
       "11"
      ]
     },
     "execution_count": 16,
     "metadata": {},
     "output_type": "execute_result"
    }
   ],
   "source": [
    "len(word)"
   ]
  },
  {
   "cell_type": "code",
   "execution_count": 17,
   "id": "6be4ac3e-4365-4cea-80de-6cf67e261d42",
   "metadata": {},
   "outputs": [
    {
     "data": {
      "text/plain": [
       "'sunnysavita'"
      ]
     },
     "execution_count": 17,
     "metadata": {},
     "output_type": "execute_result"
    }
   ],
   "source": [
    "word[0:11]"
   ]
  },
  {
   "cell_type": "code",
   "execution_count": 18,
   "id": "b95f0af4-65f2-4836-b710-cbb9f6917213",
   "metadata": {},
   "outputs": [
    {
     "data": {
      "text/plain": [
       "'snyaia'"
      ]
     },
     "execution_count": 18,
     "metadata": {},
     "output_type": "execute_result"
    }
   ],
   "source": [
    "word[0:11:2]"
   ]
  },
  {
   "cell_type": "code",
   "execution_count": 19,
   "id": "7b6a04c2-45ec-4432-ac52-024e24ec6be0",
   "metadata": {},
   "outputs": [
    {
     "data": {
      "text/plain": [
       "'snat'"
      ]
     },
     "execution_count": 19,
     "metadata": {},
     "output_type": "execute_result"
    }
   ],
   "source": [
    "word[0:11:3]"
   ]
  },
  {
   "cell_type": "code",
   "execution_count": 20,
   "id": "bb7aad2f-ec4e-40d3-b220-cfd78c419111",
   "metadata": {},
   "outputs": [
    {
     "data": {
      "text/plain": [
       "'sunnysavita'"
      ]
     },
     "execution_count": 20,
     "metadata": {},
     "output_type": "execute_result"
    }
   ],
   "source": [
    "word[0:11:1]"
   ]
  },
  {
   "cell_type": "code",
   "execution_count": 21,
   "id": "4c81be30-7e61-4d04-8355-4880cfbe2951",
   "metadata": {},
   "outputs": [],
   "source": [
    "word='sunny'"
   ]
  },
  {
   "cell_type": "code",
   "execution_count": 22,
   "id": "0a4af66c-d195-4764-94a0-6ee381c65914",
   "metadata": {},
   "outputs": [
    {
     "data": {
      "text/plain": [
       "''"
      ]
     },
     "execution_count": 22,
     "metadata": {},
     "output_type": "execute_result"
    }
   ],
   "source": [
    "word[-1:-4]"
   ]
  },
  {
   "cell_type": "code",
   "execution_count": 23,
   "id": "c8eeadef-b4d8-4c9c-8118-a2c5191a8eb4",
   "metadata": {},
   "outputs": [
    {
     "data": {
      "text/plain": [
       "'ynn'"
      ]
     },
     "execution_count": 23,
     "metadata": {},
     "output_type": "execute_result"
    }
   ],
   "source": [
    "word[-1:-4:-1]"
   ]
  },
  {
   "cell_type": "code",
   "execution_count": 24,
   "id": "efeb2e86-047a-44be-b942-212b60d47f23",
   "metadata": {},
   "outputs": [
    {
     "data": {
      "text/plain": [
       "'ynnus'"
      ]
     },
     "execution_count": 24,
     "metadata": {},
     "output_type": "execute_result"
    }
   ],
   "source": [
    "word[-1::-1]"
   ]
  },
  {
   "cell_type": "code",
   "execution_count": 25,
   "id": "57b59cb0-21e6-449b-9c5e-8d092fab5b04",
   "metadata": {},
   "outputs": [
    {
     "data": {
      "text/plain": [
       "'ynnus'"
      ]
     },
     "execution_count": 25,
     "metadata": {},
     "output_type": "execute_result"
    }
   ],
   "source": [
    "word[::-1]"
   ]
  },
  {
   "cell_type": "code",
   "execution_count": 26,
   "id": "d669a4c4-e518-4317-b6c2-1ecfe4940883",
   "metadata": {},
   "outputs": [],
   "source": [
    "a= 'we are here for learning data science'"
   ]
  },
  {
   "cell_type": "code",
   "execution_count": 27,
   "id": "2f649ce5-9dd1-41e1-896a-5dec3a4c4013",
   "metadata": {},
   "outputs": [
    {
     "data": {
      "text/plain": [
       "'ecneics atad gninrae'"
      ]
     },
     "execution_count": 27,
     "metadata": {},
     "output_type": "execute_result"
    }
   ],
   "source": [
    "a[:-21:-1]"
   ]
  },
  {
   "cell_type": "code",
   "execution_count": 28,
   "id": "87a31336-82f0-4c65-9f02-f0d4b7832c62",
   "metadata": {},
   "outputs": [
    {
     "data": {
      "text/plain": [
       "'ecneics atad gninrael'"
      ]
     },
     "execution_count": 28,
     "metadata": {},
     "output_type": "execute_result"
    }
   ],
   "source": [
    "a[:-22:-1]"
   ]
  },
  {
   "cell_type": "code",
   "execution_count": 29,
   "id": "be9870f6-b67d-4bb7-903d-b02238711204",
   "metadata": {},
   "outputs": [],
   "source": [
    "x=5"
   ]
  },
  {
   "cell_type": "code",
   "execution_count": 30,
   "id": "76e1c60f-6c2d-46b0-8502-594a79bf6e9b",
   "metadata": {},
   "outputs": [],
   "source": [
    "y=3"
   ]
  },
  {
   "cell_type": "code",
   "execution_count": 31,
   "id": "45ad80f4-5bac-4b82-b944-b9ec3ac5b99a",
   "metadata": {},
   "outputs": [
    {
     "name": "stdout",
     "output_type": "stream",
     "text": [
      "2\n"
     ]
    }
   ],
   "source": [
    "print(x%y)"
   ]
  },
  {
   "cell_type": "code",
   "execution_count": 32,
   "id": "c57ef150-1b54-4480-97e5-a32047e9f295",
   "metadata": {},
   "outputs": [
    {
     "data": {
      "text/plain": [
       "0"
      ]
     },
     "execution_count": 32,
     "metadata": {},
     "output_type": "execute_result"
    }
   ],
   "source": [
    "6%3"
   ]
  },
  {
   "cell_type": "code",
   "execution_count": 33,
   "id": "e732ea7d-37fe-48d9-bb9a-0c7de7a2a3f8",
   "metadata": {},
   "outputs": [
    {
     "data": {
      "text/plain": [
       "1"
      ]
     },
     "execution_count": 33,
     "metadata": {},
     "output_type": "execute_result"
    }
   ],
   "source": [
    "6%5"
   ]
  },
  {
   "cell_type": "code",
   "execution_count": 34,
   "id": "390db322-a972-496e-a7d8-ba96cd92307c",
   "metadata": {},
   "outputs": [
    {
     "data": {
      "text/plain": [
       "5"
      ]
     },
     "execution_count": 34,
     "metadata": {},
     "output_type": "execute_result"
    }
   ],
   "source": [
    "15//3"
   ]
  },
  {
   "cell_type": "code",
   "execution_count": 35,
   "id": "7f3b5f6b-a14f-4e3e-9830-98cbca48dd21",
   "metadata": {},
   "outputs": [
    {
     "data": {
      "text/plain": [
       "4"
      ]
     },
     "execution_count": 35,
     "metadata": {},
     "output_type": "execute_result"
    }
   ],
   "source": [
    "14//3"
   ]
  },
  {
   "cell_type": "code",
   "execution_count": 36,
   "id": "3383da49-223e-4931-b12c-839f3a25b0d9",
   "metadata": {},
   "outputs": [],
   "source": [
    "a=10\n",
    "b=4"
   ]
  },
  {
   "cell_type": "code",
   "execution_count": 37,
   "id": "9b67d1ff-ea1d-485e-b667-2bdf5e6e1a4e",
   "metadata": {},
   "outputs": [
    {
     "name": "stdout",
     "output_type": "stream",
     "text": [
      "a > b True\n"
     ]
    }
   ],
   "source": [
    "print(\"a > b\", a>b)"
   ]
  },
  {
   "cell_type": "code",
   "execution_count": 38,
   "id": "357221ee-05a2-4065-bef2-3c491984d1c1",
   "metadata": {},
   "outputs": [
    {
     "name": "stdout",
     "output_type": "stream",
     "text": [
      "a < b False\n"
     ]
    }
   ],
   "source": [
    "print(\"a < b\", a<b)"
   ]
  },
  {
   "cell_type": "code",
   "execution_count": 39,
   "id": "48b193e8-92ed-4b62-aedd-d3c8c7e3e47a",
   "metadata": {},
   "outputs": [],
   "source": [
    "a=\"s\""
   ]
  },
  {
   "cell_type": "code",
   "execution_count": 40,
   "id": "12f8ef51-4734-486b-bca2-18bc7bba4935",
   "metadata": {},
   "outputs": [
    {
     "data": {
      "text/plain": [
       "115"
      ]
     },
     "execution_count": 40,
     "metadata": {},
     "output_type": "execute_result"
    }
   ],
   "source": [
    "ord(a)"
   ]
  },
  {
   "cell_type": "code",
   "execution_count": 41,
   "id": "2e7da7b9-10bd-40bd-8b37-41df2cd3e74f",
   "metadata": {},
   "outputs": [
    {
     "name": "stdout",
     "output_type": "stream",
     "text": [
      "True\n"
     ]
    }
   ],
   "source": [
    "print(7>6>5)"
   ]
  },
  {
   "cell_type": "code",
   "execution_count": 42,
   "id": "a7928b55-26f5-4c65-9d70-d4afc03aa48c",
   "metadata": {},
   "outputs": [],
   "source": [
    "x,y,z=10,20,30"
   ]
  },
  {
   "cell_type": "code",
   "execution_count": 43,
   "id": "6a81c12d-43ac-4882-adee-abc2e91549f3",
   "metadata": {},
   "outputs": [
    {
     "data": {
      "text/plain": [
       "30"
      ]
     },
     "execution_count": 43,
     "metadata": {},
     "output_type": "execute_result"
    }
   ],
   "source": [
    "z"
   ]
  },
  {
   "cell_type": "code",
   "execution_count": 44,
   "id": "ac690ed1-5635-4be6-b3cf-84661727e342",
   "metadata": {},
   "outputs": [],
   "source": [
    "X=50"
   ]
  },
  {
   "cell_type": "code",
   "execution_count": 45,
   "id": "196a7650-add2-41cf-b255-e656adfbb84f",
   "metadata": {},
   "outputs": [
    {
     "data": {
      "text/plain": [
       "60"
      ]
     },
     "execution_count": 45,
     "metadata": {},
     "output_type": "execute_result"
    }
   ],
   "source": [
    "X+10"
   ]
  },
  {
   "cell_type": "code",
   "execution_count": 46,
   "id": "d3ad7d67-414c-4c61-8e71-f603176c1d28",
   "metadata": {},
   "outputs": [
    {
     "data": {
      "text/plain": [
       "100"
      ]
     },
     "execution_count": 46,
     "metadata": {},
     "output_type": "execute_result"
    }
   ],
   "source": [
    "X+X"
   ]
  },
  {
   "cell_type": "code",
   "execution_count": 47,
   "id": "4c72ccf9-b912-4181-977a-8c106a23952d",
   "metadata": {},
   "outputs": [],
   "source": [
    "X=X+1"
   ]
  },
  {
   "cell_type": "code",
   "execution_count": 48,
   "id": "fd2d24fb-f3da-440a-86f8-725400ccc05a",
   "metadata": {},
   "outputs": [
    {
     "data": {
      "text/plain": [
       "51"
      ]
     },
     "execution_count": 48,
     "metadata": {},
     "output_type": "execute_result"
    }
   ],
   "source": [
    "X"
   ]
  },
  {
   "cell_type": "code",
   "execution_count": 49,
   "id": "e1e0bbff-7178-4ffe-8f39-fdc3781d1e95",
   "metadata": {},
   "outputs": [],
   "source": [
    "X=+1"
   ]
  },
  {
   "cell_type": "code",
   "execution_count": 50,
   "id": "ad18ee00-ecdd-4b55-a66f-c63421843f97",
   "metadata": {},
   "outputs": [
    {
     "data": {
      "text/plain": [
       "1"
      ]
     },
     "execution_count": 50,
     "metadata": {},
     "output_type": "execute_result"
    }
   ],
   "source": [
    "X"
   ]
  },
  {
   "cell_type": "code",
   "execution_count": 51,
   "id": "9dbec73d-b076-4ef0-ade8-7b01796881d3",
   "metadata": {},
   "outputs": [],
   "source": [
    "X=50"
   ]
  },
  {
   "cell_type": "code",
   "execution_count": 52,
   "id": "ca3e481d-f499-47c0-a5e9-5d238ecf1de9",
   "metadata": {},
   "outputs": [
    {
     "ename": "SyntaxError",
     "evalue": "invalid syntax (3868164075.py, line 1)",
     "output_type": "error",
     "traceback": [
      "\u001b[0;36m  Cell \u001b[0;32mIn [52], line 1\u001b[0;36m\u001b[0m\n\u001b[0;31m    X+=\u001b[0m\n\u001b[0m       ^\u001b[0m\n\u001b[0;31mSyntaxError\u001b[0m\u001b[0;31m:\u001b[0m invalid syntax\n"
     ]
    }
   ],
   "source": [
    "X+="
   ]
  },
  {
   "cell_type": "code",
   "execution_count": 53,
   "id": "c4db6b70-db85-4e27-a396-0c035ce134de",
   "metadata": {},
   "outputs": [],
   "source": [
    "X+=1"
   ]
  },
  {
   "cell_type": "code",
   "execution_count": 54,
   "id": "0c2e8f67-bf81-4b8b-98d2-d6ce63ebf067",
   "metadata": {},
   "outputs": [
    {
     "data": {
      "text/plain": [
       "51"
      ]
     },
     "execution_count": 54,
     "metadata": {},
     "output_type": "execute_result"
    }
   ],
   "source": [
    "X"
   ]
  },
  {
   "cell_type": "code",
   "execution_count": 55,
   "id": "14529854-9812-4fd2-ac25-31030067ab22",
   "metadata": {},
   "outputs": [],
   "source": [
    "X=10"
   ]
  },
  {
   "cell_type": "code",
   "execution_count": 56,
   "id": "795fc8ae-682a-4f9a-86bc-fc9b668e989d",
   "metadata": {},
   "outputs": [],
   "source": [
    "X=X^5"
   ]
  },
  {
   "cell_type": "code",
   "execution_count": 57,
   "id": "70da7942-760d-4f7f-83ea-cdc1c2aeef43",
   "metadata": {},
   "outputs": [
    {
     "data": {
      "text/plain": [
       "15"
      ]
     },
     "execution_count": 57,
     "metadata": {},
     "output_type": "execute_result"
    }
   ],
   "source": [
    "X"
   ]
  },
  {
   "cell_type": "code",
   "execution_count": 58,
   "id": "5b37bf18-fcdf-4ddf-b874-7c76dca6ea1e",
   "metadata": {},
   "outputs": [],
   "source": [
    "a=10"
   ]
  },
  {
   "cell_type": "code",
   "execution_count": 59,
   "id": "291049a5-d0e1-4431-b736-e1088ff27f4a",
   "metadata": {},
   "outputs": [
    {
     "data": {
      "text/plain": [
       "140197995954704"
      ]
     },
     "execution_count": 59,
     "metadata": {},
     "output_type": "execute_result"
    }
   ],
   "source": [
    "id(a)"
   ]
  },
  {
   "cell_type": "code",
   "execution_count": 60,
   "id": "ee999f7d-d108-4759-8cd8-69f27aa21117",
   "metadata": {},
   "outputs": [],
   "source": [
    "b=20"
   ]
  },
  {
   "cell_type": "code",
   "execution_count": 61,
   "id": "1b433f48-e620-41d4-b2e4-b2a513d2c03d",
   "metadata": {},
   "outputs": [
    {
     "data": {
      "text/plain": [
       "140197995955024"
      ]
     },
     "execution_count": 61,
     "metadata": {},
     "output_type": "execute_result"
    }
   ],
   "source": [
    "id(b)"
   ]
  },
  {
   "cell_type": "code",
   "execution_count": 62,
   "id": "159e17b2-e4eb-44ea-8563-7282aa4dc878",
   "metadata": {},
   "outputs": [
    {
     "data": {
      "text/plain": [
       "False"
      ]
     },
     "execution_count": 62,
     "metadata": {},
     "output_type": "execute_result"
    }
   ],
   "source": [
    "a is b"
   ]
  },
  {
   "cell_type": "code",
   "execution_count": 63,
   "id": "f86fdbcb-91e4-4c67-b2d3-f490e879600b",
   "metadata": {},
   "outputs": [
    {
     "data": {
      "text/plain": [
       "True"
      ]
     },
     "execution_count": 63,
     "metadata": {},
     "output_type": "execute_result"
    }
   ],
   "source": [
    "a is not b"
   ]
  },
  {
   "cell_type": "code",
   "execution_count": 64,
   "id": "e3df95f3-62ab-411d-9fa5-33ca4e62599f",
   "metadata": {},
   "outputs": [],
   "source": [
    "x=5\n",
    "y=5"
   ]
  },
  {
   "cell_type": "code",
   "execution_count": 65,
   "id": "641e2609-47b8-4ab5-966a-54938a19e448",
   "metadata": {},
   "outputs": [
    {
     "data": {
      "text/plain": [
       "True"
      ]
     },
     "execution_count": 65,
     "metadata": {},
     "output_type": "execute_result"
    }
   ],
   "source": [
    "x is y"
   ]
  },
  {
   "cell_type": "code",
   "execution_count": 66,
   "id": "4c19fede-e97e-4084-8877-844cfb4fcbe4",
   "metadata": {},
   "outputs": [
    {
     "data": {
      "text/plain": [
       "140197995954544"
      ]
     },
     "execution_count": 66,
     "metadata": {},
     "output_type": "execute_result"
    }
   ],
   "source": [
    "id(x)\n",
    "id(y)"
   ]
  },
  {
   "cell_type": "code",
   "execution_count": 67,
   "id": "aba7534a-bdad-4465-934d-3a2abcc15bbd",
   "metadata": {},
   "outputs": [],
   "source": [
    "x=5.9"
   ]
  },
  {
   "cell_type": "code",
   "execution_count": 68,
   "id": "b52ed993-9b99-4a9f-aa9e-6cf5acfe01bb",
   "metadata": {},
   "outputs": [],
   "source": [
    "y=5.9"
   ]
  },
  {
   "cell_type": "code",
   "execution_count": 69,
   "id": "b03127a4-1a8d-4d2f-b9b3-178e65313882",
   "metadata": {},
   "outputs": [
    {
     "data": {
      "text/plain": [
       "False"
      ]
     },
     "execution_count": 69,
     "metadata": {},
     "output_type": "execute_result"
    }
   ],
   "source": [
    "x is y"
   ]
  },
  {
   "cell_type": "code",
   "execution_count": 70,
   "id": "d57128f3-d6fc-473d-98d1-a4fbc32e9ade",
   "metadata": {},
   "outputs": [
    {
     "data": {
      "text/plain": [
       "140197948201904"
      ]
     },
     "execution_count": 70,
     "metadata": {},
     "output_type": "execute_result"
    }
   ],
   "source": [
    "id(x)"
   ]
  },
  {
   "cell_type": "code",
   "execution_count": 71,
   "id": "283c4c4f-914b-4af6-ab6d-4043fdff5a5c",
   "metadata": {},
   "outputs": [
    {
     "data": {
      "text/plain": [
       "140197375147184"
      ]
     },
     "execution_count": 71,
     "metadata": {},
     "output_type": "execute_result"
    }
   ],
   "source": [
    "id(y)"
   ]
  },
  {
   "cell_type": "code",
   "execution_count": 72,
   "id": "fc35cc4b-fdbe-402c-a95d-2fb80361fb2c",
   "metadata": {},
   "outputs": [],
   "source": [
    "s='sunny'"
   ]
  },
  {
   "cell_type": "code",
   "execution_count": 73,
   "id": "6f6a3a89-5e75-4598-99d0-a968efbb5f02",
   "metadata": {},
   "outputs": [
    {
     "data": {
      "text/plain": [
       "True"
      ]
     },
     "execution_count": 73,
     "metadata": {},
     "output_type": "execute_result"
    }
   ],
   "source": [
    "'s' in s"
   ]
  },
  {
   "cell_type": "code",
   "execution_count": 74,
   "id": "c8242e23-c568-4db5-aeec-db42a0969b55",
   "metadata": {},
   "outputs": [
    {
     "data": {
      "text/plain": [
       "False"
      ]
     },
     "execution_count": 74,
     "metadata": {},
     "output_type": "execute_result"
    }
   ],
   "source": [
    "'s' not in s"
   ]
  },
  {
   "cell_type": "code",
   "execution_count": 76,
   "id": "f284e664-fd62-4276-8cb6-6d82071c30bb",
   "metadata": {},
   "outputs": [
    {
     "name": "stdin",
     "output_type": "stream",
     "text": [
      "Please, enter your name: Ivan\n"
     ]
    }
   ],
   "source": [
    "a=input (\"Please, enter your name:\")"
   ]
  },
  {
   "cell_type": "code",
   "execution_count": 77,
   "id": "efd3255f-7464-4b34-a74d-6e5690805a1a",
   "metadata": {},
   "outputs": [
    {
     "data": {
      "text/plain": [
       "'Ivan'"
      ]
     },
     "execution_count": 77,
     "metadata": {},
     "output_type": "execute_result"
    }
   ],
   "source": [
    "a"
   ]
  },
  {
   "cell_type": "code",
   "execution_count": 78,
   "id": "1b15c865-bad3-4838-b214-bbcfb2cd8122",
   "metadata": {},
   "outputs": [
    {
     "name": "stdin",
     "output_type": "stream",
     "text": [
      "Please, enter your name: Ivan\n",
      "Please, enter your age: 28\n"
     ]
    }
   ],
   "source": [
    "a=input (\"Please, enter your name:\")\n",
    "b=input (\"Please, enter your age:\")"
   ]
  },
  {
   "cell_type": "code",
   "execution_count": 79,
   "id": "0fff1c49-d601-4057-a521-9ec46ac20e6e",
   "metadata": {},
   "outputs": [
    {
     "name": "stdin",
     "output_type": "stream",
     "text": [
      "Please, enter your name: Ivan\n",
      "Please, enter your age: 29\n"
     ]
    },
    {
     "ename": "TypeError",
     "evalue": "can only concatenate str (not \"int\") to str",
     "output_type": "error",
     "traceback": [
      "\u001b[0;31m---------------------------------------------------------------------------\u001b[0m",
      "\u001b[0;31mTypeError\u001b[0m                                 Traceback (most recent call last)",
      "Cell \u001b[0;32mIn [79], line 3\u001b[0m\n\u001b[1;32m      1\u001b[0m a\u001b[38;5;241m=\u001b[39m\u001b[38;5;28minput\u001b[39m (\u001b[38;5;124m\"\u001b[39m\u001b[38;5;124mPlease, enter your name:\u001b[39m\u001b[38;5;124m\"\u001b[39m)\n\u001b[1;32m      2\u001b[0m b\u001b[38;5;241m=\u001b[39m\u001b[38;5;28minput\u001b[39m (\u001b[38;5;124m\"\u001b[39m\u001b[38;5;124mPlease, enter your age:\u001b[39m\u001b[38;5;124m\"\u001b[39m)\n\u001b[0;32m----> 3\u001b[0m c\u001b[38;5;241m=\u001b[39m\u001b[43mb\u001b[49m\u001b[38;5;241;43m+\u001b[39;49m\u001b[38;5;241;43m100\u001b[39;49m\n\u001b[1;32m      4\u001b[0m \u001b[38;5;28mprint\u001b[39m(\u001b[38;5;124m\"\u001b[39m\u001b[38;5;124mDear\u001b[39m\u001b[38;5;124m\"\u001b[39m, a, \u001b[38;5;124m\"\u001b[39m\u001b[38;5;124mafter 100 years you will be\u001b[39m\u001b[38;5;124m\"\u001b[39m, c)\n",
      "\u001b[0;31mTypeError\u001b[0m: can only concatenate str (not \"int\") to str"
     ]
    }
   ],
   "source": [
    "a=input (\"Please, enter your name:\")\n",
    "b=input (\"Please, enter your age:\")\n",
    "c=b+100\n",
    "print(\"Dear\", a, \"after 100 years you will be\", c) "
   ]
  },
  {
   "cell_type": "code",
   "execution_count": 80,
   "id": "cf45b059-418b-4ead-b8f1-4ec7c40a1b42",
   "metadata": {},
   "outputs": [
    {
     "name": "stdin",
     "output_type": "stream",
     "text": [
      "Please, enter your name: Ivan\n",
      "Please, enter your age: 29\n"
     ]
    },
    {
     "name": "stdout",
     "output_type": "stream",
     "text": [
      "Dear Ivan after 100 years you will be 129\n"
     ]
    }
   ],
   "source": [
    "a=input (\"Please, enter your name:\")\n",
    "b=input (\"Please, enter your age:\")\n",
    "c=int(b)+100\n",
    "print(\"Dear\", a, \"after 100 years you will be\", c) "
   ]
  },
  {
   "cell_type": "code",
   "execution_count": 81,
   "id": "f367b0bb-1bc1-49f0-8fe5-487f7f7558a1",
   "metadata": {},
   "outputs": [
    {
     "name": "stdin",
     "output_type": "stream",
     "text": [
      "Please, enter your name: Ivan\n",
      "Please, enter your age: 29\n"
     ]
    },
    {
     "name": "stdout",
     "output_type": "stream",
     "text": [
      "Dear Ivan you will be 100 years old in 2093\n"
     ]
    }
   ],
   "source": [
    "a=input (\"Please, enter your name:\")\n",
    "b=input (\"Please, enter your age:\")\n",
    "c=2022-int(b)+100\n",
    "print(\"Dear\", a, \"you will be 100 years old in\", c) "
   ]
  },
  {
   "cell_type": "code",
   "execution_count": 83,
   "id": "e34717b2-85fa-40f1-b0ba-e27846bc58a9",
   "metadata": {},
   "outputs": [
    {
     "name": "stdin",
     "output_type": "stream",
     "text": [
      "Please, enter your name Ivan\n",
      "Please, enter your surname Tseretyan\n"
     ]
    },
    {
     "name": "stdout",
     "output_type": "stream",
     "text": [
      "Your full name is Ivan Tseretyan\n",
      "Your reverse full name is nayteresT navI\n"
     ]
    }
   ],
   "source": [
    "firstname=str(input(\"Please, enter your name\"))\n",
    "lastname=str(input(\"Please, enter your surname\"))\n",
    "fullname= firstname+' '+lastname\n",
    "reverse_fullname=fullname[::-1]\n",
    "print(\"Your full name is\", fullname)\n",
    "print (\"Your reverse full name is\", reverse_fullname)"
   ]
  },
  {
   "cell_type": "code",
   "execution_count": null,
   "id": "27eb54a3-2e10-491a-bdcc-6a78b87ed849",
   "metadata": {},
   "outputs": [],
   "source": []
  }
 ],
 "metadata": {
  "kernelspec": {
   "display_name": "Python 3 (ipykernel)",
   "language": "python",
   "name": "python3"
  },
  "language_info": {
   "codemirror_mode": {
    "name": "ipython",
    "version": 3
   },
   "file_extension": ".py",
   "mimetype": "text/x-python",
   "name": "python",
   "nbconvert_exporter": "python",
   "pygments_lexer": "ipython3",
   "version": "3.10.6"
  }
 },
 "nbformat": 4,
 "nbformat_minor": 5
}
