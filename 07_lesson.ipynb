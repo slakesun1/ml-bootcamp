{
 "cells": [
  {
   "cell_type": "code",
   "execution_count": 1,
   "id": "d320675d-d7d9-43e0-a3bb-eeb5e255fe93",
   "metadata": {},
   "outputs": [],
   "source": [
    "text=\"I write code\""
   ]
  },
  {
   "cell_type": "code",
   "execution_count": 2,
   "id": "f8a524f3-deb6-4999-9bb7-11919621485c",
   "metadata": {},
   "outputs": [
    {
     "data": {
      "text/plain": [
       "['I', 'write', 'code']"
      ]
     },
     "execution_count": 2,
     "metadata": {},
     "output_type": "execute_result"
    }
   ],
   "source": [
    "text.split()"
   ]
  },
  {
   "cell_type": "code",
   "execution_count": 3,
   "id": "87b7a92e-9db5-416a-aadf-ec2fff8a07a8",
   "metadata": {},
   "outputs": [],
   "source": [
    "text='I love python'"
   ]
  },
  {
   "cell_type": "code",
   "execution_count": 4,
   "id": "1aaf901a-5491-40d1-a37b-1494a6e81d0f",
   "metadata": {},
   "outputs": [
    {
     "data": {
      "text/plain": [
       "['I', 'love', 'python']"
      ]
     },
     "execution_count": 4,
     "metadata": {},
     "output_type": "execute_result"
    }
   ],
   "source": [
    "text.split()"
   ]
  },
  {
   "cell_type": "code",
   "execution_count": null,
   "id": "30e6edbe-ed57-40e5-92e4-f3eaf63b5a02",
   "metadata": {},
   "outputs": [],
   "source": [
    "x=input(\"Enter 3-word message\")"
   ]
  },
  {
   "cell_type": "code",
   "execution_count": 6,
   "id": "330e79e1-c409-452e-8760-2219e56cb94b",
   "metadata": {},
   "outputs": [
    {
     "name": "stdout",
     "output_type": "stream",
     "text": [
      "I love python\n"
     ]
    }
   ],
   "source": [
    "print(x)"
   ]
  },
  {
   "cell_type": "code",
   "execution_count": 7,
   "id": "385ead7a-c3ee-4f76-b434-42c3b25f1533",
   "metadata": {},
   "outputs": [],
   "source": [
    "word1, word2, word3 = x.split()"
   ]
  },
  {
   "cell_type": "code",
   "execution_count": 8,
   "id": "85f6b643-5987-44e3-994f-a28c6780b20c",
   "metadata": {},
   "outputs": [
    {
     "name": "stdout",
     "output_type": "stream",
     "text": [
      "I\n"
     ]
    }
   ],
   "source": [
    "print(word1)"
   ]
  },
  {
   "cell_type": "code",
   "execution_count": 9,
   "id": "bfce90b5-c212-4821-8b05-10afebd43fd1",
   "metadata": {},
   "outputs": [
    {
     "name": "stdout",
     "output_type": "stream",
     "text": [
      "python\n"
     ]
    }
   ],
   "source": [
    "print(word3)"
   ]
  },
  {
   "cell_type": "code",
   "execution_count": 1,
   "id": "d6b655d8-a444-4e93-b92d-59f0bb238bf3",
   "metadata": {},
   "outputs": [
    {
     "name": "stdout",
     "output_type": "stream",
     "text": [
      "['A', 'B', 'C', 'D E F']\n"
     ]
    }
   ],
   "source": [
    "s1='A B C D E F'\n",
    "print(s1.split(' ',3))"
   ]
  },
  {
   "cell_type": "code",
   "execution_count": 2,
   "id": "b692dfdb-f294-4c63-9ae8-28badbe269fd",
   "metadata": {},
   "outputs": [
    {
     "data": {
      "text/plain": [
       "['HI', 'HI', 'HI@HI']"
      ]
     },
     "execution_count": 2,
     "metadata": {},
     "output_type": "execute_result"
    }
   ],
   "source": [
    "s1='HI@HI@HI@HI'\n",
    "s1.split('@',2)"
   ]
  },
  {
   "cell_type": "code",
   "execution_count": 4,
   "id": "a687a43f-5633-4710-ab71-02bc0b6b1718",
   "metadata": {},
   "outputs": [
    {
     "name": "stdout",
     "output_type": "stream",
     "text": [
      "1\n",
      "2\n",
      "3\n",
      "4\n",
      "5\n",
      "6\n",
      "7\n",
      "8\n",
      "9\n",
      "10\n",
      "done\n"
     ]
    }
   ],
   "source": [
    "i=1\n",
    "while i<=10:\n",
    "    print(i)\n",
    "    i=i+1\n",
    "print('done')"
   ]
  },
  {
   "cell_type": "code",
   "execution_count": 5,
   "id": "9180605a-4c42-4ca9-9db4-54a10c5a7553",
   "metadata": {},
   "outputs": [
    {
     "name": "stdout",
     "output_type": "stream",
     "text": [
      "1\n",
      "2\n",
      "3\n",
      "4\n"
     ]
    }
   ],
   "source": [
    "i=1\n",
    "while i<=10:\n",
    "    if i==5:\n",
    "        break\n",
    "    print(i)\n",
    "    i=i+1"
   ]
  },
  {
   "cell_type": "code",
   "execution_count": null,
   "id": "a7f049c1-e838-4c78-b0a7-5e6f138a2e83",
   "metadata": {},
   "outputs": [],
   "source": [
    "i=1\n",
    "while i<=10:\n",
    "    if i==5:\n",
    "        break\n",
    "    print(i)\n",
    "    i=i+1\n",
    "else:\n",
    "    print('bye')"
   ]
  },
  {
   "cell_type": "code",
   "execution_count": 21,
   "id": "0957a7a6-2bdf-4600-909b-97c50a5b0b08",
   "metadata": {},
   "outputs": [
    {
     "name": "stdout",
     "output_type": "stream",
     "text": [
      "1\n",
      "3\n",
      "5\n",
      "7\n",
      "9\n"
     ]
    }
   ],
   "source": [
    "i=1\n",
    "while i<=10:\n",
    "    if i%2!=0:\n",
    "        print(i)\n",
    "    i=i+1"
   ]
  },
  {
   "cell_type": "code",
   "execution_count": 23,
   "id": "ffb25dde-c1de-4d25-9470-8493e0fb731f",
   "metadata": {},
   "outputs": [
    {
     "name": "stdout",
     "output_type": "stream",
     "text": [
      "1\n",
      "3\n",
      "5\n",
      "7\n",
      "9\n"
     ]
    }
   ],
   "source": [
    "num= 0\n",
    "while num<10:\n",
    "    num=num+1\n",
    "    \n",
    "    if (num%2)==0:\n",
    "        continue\n",
    "    print(num)\n",
    "    \n",
    "    \n",
    "    "
   ]
  },
  {
   "cell_type": "code",
   "execution_count": 26,
   "id": "62e93ddd-4aeb-4c5c-9281-1e7c8f76cfcb",
   "metadata": {},
   "outputs": [
    {
     "name": "stdout",
     "output_type": "stream",
     "text": [
      "hello\n"
     ]
    }
   ],
   "source": [
    "n=10\n",
    "if n>10:\n",
    "    pass\n",
    "print('hello')"
   ]
  },
  {
   "cell_type": "code",
   "execution_count": 27,
   "id": "aa6fa503-9ee2-44a6-8586-e326f8a577f4",
   "metadata": {},
   "outputs": [
    {
     "name": "stdout",
     "output_type": "stream",
     "text": [
      "2\n",
      "4\n",
      "6\n",
      "8\n",
      "10\n"
     ]
    }
   ],
   "source": [
    "i=1\n",
    "while i<=10:\n",
    "    i=i+1\n",
    "    if i%2!=0:\n",
    "        pass\n",
    "    else:\n",
    "        print(i)"
   ]
  },
  {
   "cell_type": "code",
   "execution_count": 28,
   "id": "34793f7f-904f-4834-9f1b-d3c4c41cfd55",
   "metadata": {},
   "outputs": [
    {
     "name": "stdout",
     "output_type": "stream",
     "text": [
      "1\n",
      "3\n",
      "5\n",
      "7\n",
      "9\n"
     ]
    }
   ],
   "source": [
    "num= 0\n",
    "while num<10:\n",
    "    num=num+1\n",
    "    \n",
    "    if (num%2)==0:\n",
    "        continue\n",
    "    print(num)"
   ]
  },
  {
   "cell_type": "code",
   "execution_count": 29,
   "id": "1e891550-0e63-417f-82cd-4ac52078ac14",
   "metadata": {},
   "outputs": [
    {
     "name": "stdout",
     "output_type": "stream",
     "text": [
      "1\n",
      "2\n",
      "3\n",
      "4\n",
      "5\n",
      "6\n",
      "7\n",
      "8\n",
      "9\n",
      "10\n"
     ]
    }
   ],
   "source": [
    "num= 0\n",
    "while num<10:\n",
    "    num=num+1\n",
    "    \n",
    "    if (num%2)==0:\n",
    "        pass\n",
    "    print(num)"
   ]
  },
  {
   "cell_type": "code",
   "execution_count": 32,
   "id": "5128d401-14dd-43d8-bfd8-d0e0663e2752",
   "metadata": {},
   "outputs": [
    {
     "name": "stdout",
     "output_type": "stream",
     "text": [
      "5\n"
     ]
    }
   ],
   "source": [
    "my_list=[\"papaya\", \"orange\", \"pineapple\", \"mango\", \"grapes\"]\n",
    "size=len(my_list)\n",
    "print(size)"
   ]
  },
  {
   "cell_type": "code",
   "execution_count": 34,
   "id": "3df37c9a-c371-40bd-80a9-6a5ba71bbbcc",
   "metadata": {},
   "outputs": [
    {
     "name": "stdout",
     "output_type": "stream",
     "text": [
      "mango found\n"
     ]
    }
   ],
   "source": [
    "i=0\n",
    "while i<size:\n",
    "    if my_list[i]=='mango':\n",
    "        print(\"mango found\")\n",
    "        break\n",
    "    i=i+1\n",
    "else:\n",
    "    print(\"mango not found\")    "
   ]
  },
  {
   "cell_type": "code",
   "execution_count": 39,
   "id": "15cdc233-26ae-45da-b408-d5d4c47ef2c5",
   "metadata": {},
   "outputs": [
    {
     "name": "stdout",
     "output_type": "stream",
     "text": [
      "a "
     ]
    }
   ],
   "source": [
    "x= \"abcdef\"\n",
    "i=\"a\"\n",
    "while i in x:\n",
    "    x=x[1:]## slicing\n",
    "    print(i,end=' ')"
   ]
  },
  {
   "cell_type": "code",
   "execution_count": 44,
   "id": "1ffd6276-c967-406f-a227-c57c87e7f0d2",
   "metadata": {},
   "outputs": [
    {
     "name": "stdout",
     "output_type": "stream",
     "text": [
      "a b c d "
     ]
    }
   ],
   "source": [
    "x='abcd'\n",
    "for i in x:\n",
    "    print(i, end=\" \")\n",
    "    x.upper()"
   ]
  },
  {
   "cell_type": "code",
   "execution_count": null,
   "id": "3d887d27-08ab-44e3-97b1-65f0ac00a5b8",
   "metadata": {},
   "outputs": [],
   "source": [
    "i=2\n",
    "while True:\n",
    "    if i%3==0:\n",
    "        break\n",
    "print (i, end=\" \")\n",
    "i+=2 ## infinie result because incrementation not in the loop"
   ]
  },
  {
   "cell_type": "code",
   "execution_count": 46,
   "id": "2cf6bca6-1f27-4078-a903-045716ee918f",
   "metadata": {},
   "outputs": [
    {
     "name": "stdout",
     "output_type": "stream",
     "text": [
      "2 4 "
     ]
    }
   ],
   "source": [
    "i=2\n",
    "while True:\n",
    "    if i%3==0:\n",
    "        break\n",
    "    print (i, end=\" \")\n",
    "    i+=2"
   ]
  },
  {
   "cell_type": "code",
   "execution_count": null,
   "id": "b24bbf6f-6e98-4360-89b4-27a4399e9082",
   "metadata": {},
   "outputs": [],
   "source": []
  }
 ],
 "metadata": {
  "kernelspec": {
   "display_name": "Python 3 (ipykernel)",
   "language": "python",
   "name": "python3"
  },
  "language_info": {
   "codemirror_mode": {
    "name": "ipython",
    "version": 3
   },
   "file_extension": ".py",
   "mimetype": "text/x-python",
   "name": "python",
   "nbconvert_exporter": "python",
   "pygments_lexer": "ipython3",
   "version": "3.10.6"
  }
 },
 "nbformat": 4,
 "nbformat_minor": 5
}
