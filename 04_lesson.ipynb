{
 "cells": [
  {
   "cell_type": "code",
   "execution_count": 1,
   "id": "d17c3716-0471-4aa7-9783-e8960a193f2b",
   "metadata": {},
   "outputs": [],
   "source": [
    "a=10"
   ]
  },
  {
   "cell_type": "code",
   "execution_count": 2,
   "id": "e8a156a5-93f3-42a2-99fb-af0a2118883c",
   "metadata": {},
   "outputs": [
    {
     "data": {
      "text/plain": [
       "int"
      ]
     },
     "execution_count": 2,
     "metadata": {},
     "output_type": "execute_result"
    }
   ],
   "source": [
    "type(a)"
   ]
  },
  {
   "cell_type": "code",
   "execution_count": 3,
   "id": "3a259b2e-94d5-4576-bdc1-e339b8bebd8a",
   "metadata": {},
   "outputs": [],
   "source": [
    "b=10.45"
   ]
  },
  {
   "cell_type": "code",
   "execution_count": 4,
   "id": "9145b824-2c35-4add-9bf9-e629587cf777",
   "metadata": {},
   "outputs": [
    {
     "data": {
      "text/plain": [
       "float"
      ]
     },
     "execution_count": 4,
     "metadata": {},
     "output_type": "execute_result"
    }
   ],
   "source": [
    "type(b)"
   ]
  },
  {
   "cell_type": "code",
   "execution_count": 5,
   "id": "3d28dfc1-566d-460d-a872-bed7a28ad2aa",
   "metadata": {},
   "outputs": [],
   "source": [
    "c='sunny'"
   ]
  },
  {
   "cell_type": "code",
   "execution_count": 6,
   "id": "527059dc-b975-46e7-8524-6b571b172a7e",
   "metadata": {},
   "outputs": [
    {
     "data": {
      "text/plain": [
       "str"
      ]
     },
     "execution_count": 6,
     "metadata": {},
     "output_type": "execute_result"
    }
   ],
   "source": [
    "type(c)"
   ]
  },
  {
   "cell_type": "code",
   "execution_count": 7,
   "id": "8c889380-a67d-4e68-b41d-af83669c499a",
   "metadata": {},
   "outputs": [],
   "source": [
    "d=\"A\""
   ]
  },
  {
   "cell_type": "code",
   "execution_count": 8,
   "id": "62aa939a-435d-40b8-a0a1-08ec15d2f756",
   "metadata": {},
   "outputs": [
    {
     "data": {
      "text/plain": [
       "str"
      ]
     },
     "execution_count": 8,
     "metadata": {},
     "output_type": "execute_result"
    }
   ],
   "source": [
    "type(d)"
   ]
  },
  {
   "cell_type": "code",
   "execution_count": 9,
   "id": "fbc5ebc8-ea95-4614-b57d-678af8188360",
   "metadata": {},
   "outputs": [
    {
     "data": {
      "text/plain": [
       "'s'"
      ]
     },
     "execution_count": 9,
     "metadata": {},
     "output_type": "execute_result"
    }
   ],
   "source": [
    "c[0]"
   ]
  },
  {
   "cell_type": "code",
   "execution_count": 10,
   "id": "ec508190-06c7-45d0-9e4a-0fa720f60ef4",
   "metadata": {},
   "outputs": [],
   "source": [
    "a=2"
   ]
  },
  {
   "cell_type": "code",
   "execution_count": 13,
   "id": "7fe55dca-d93a-43e4-a0d4-3ae06edf6703",
   "metadata": {},
   "outputs": [
    {
     "data": {
      "text/plain": [
       "28"
      ]
     },
     "execution_count": 13,
     "metadata": {},
     "output_type": "execute_result"
    }
   ],
   "source": [
    "import sys\n",
    "sys.getsizeof(a)"
   ]
  },
  {
   "cell_type": "code",
   "execution_count": 14,
   "id": "3ffd3b0e-8bca-4895-b355-8b2eaa3c484a",
   "metadata": {},
   "outputs": [],
   "source": [
    "a=200"
   ]
  },
  {
   "cell_type": "code",
   "execution_count": 15,
   "id": "5d7e53f7-4225-498b-aaa6-eb63c36b920d",
   "metadata": {},
   "outputs": [
    {
     "data": {
      "text/plain": [
       "28"
      ]
     },
     "execution_count": 15,
     "metadata": {},
     "output_type": "execute_result"
    }
   ],
   "source": [
    "import sys\n",
    "sys.getsizeof(a)"
   ]
  },
  {
   "cell_type": "code",
   "execution_count": 16,
   "id": "08c93872-b56e-467e-96dc-dd17e02fda7f",
   "metadata": {},
   "outputs": [],
   "source": [
    "a=200000000000000"
   ]
  },
  {
   "cell_type": "code",
   "execution_count": 17,
   "id": "8a9176cf-de69-493f-9e67-06793da9cdbc",
   "metadata": {},
   "outputs": [
    {
     "data": {
      "text/plain": [
       "32"
      ]
     },
     "execution_count": 17,
     "metadata": {},
     "output_type": "execute_result"
    }
   ],
   "source": [
    "import sys\n",
    "sys.getsizeof(a)"
   ]
  },
  {
   "cell_type": "code",
   "execution_count": 18,
   "id": "906c6b41-53f2-4d97-8517-6ce21c127909",
   "metadata": {},
   "outputs": [],
   "source": [
    "a=62481268476128146298621864286428129619248648426481268168618496891681469126826864862146128961169416816486219841264892164896129641964296412946291629846896291864912"
   ]
  },
  {
   "cell_type": "code",
   "execution_count": 19,
   "id": "5c7ea35b-c6d4-4ed0-a443-62c7c04f62ed",
   "metadata": {},
   "outputs": [
    {
     "data": {
      "text/plain": [
       "int"
      ]
     },
     "execution_count": 19,
     "metadata": {},
     "output_type": "execute_result"
    }
   ],
   "source": [
    "type(a)"
   ]
  },
  {
   "cell_type": "code",
   "execution_count": 20,
   "id": "cc88399c-2537-449e-b64b-38f88dc2a5c9",
   "metadata": {},
   "outputs": [
    {
     "data": {
      "text/plain": [
       "96"
      ]
     },
     "execution_count": 20,
     "metadata": {},
     "output_type": "execute_result"
    }
   ],
   "source": [
    "import sys\n",
    "sys.getsizeof(a)"
   ]
  },
  {
   "cell_type": "code",
   "execution_count": 21,
   "id": "870c09c9-728f-4284-ac14-f0aea2c42b7b",
   "metadata": {},
   "outputs": [],
   "source": [
    "a=-4"
   ]
  },
  {
   "cell_type": "code",
   "execution_count": 22,
   "id": "d0d62b1a-01f3-41f8-90e4-9e1f699ac409",
   "metadata": {},
   "outputs": [
    {
     "data": {
      "text/plain": [
       "int"
      ]
     },
     "execution_count": 22,
     "metadata": {},
     "output_type": "execute_result"
    }
   ],
   "source": [
    "type(a)"
   ]
  },
  {
   "cell_type": "code",
   "execution_count": 23,
   "id": "35c12b48-7b3c-49ca-86e9-f930013339bf",
   "metadata": {},
   "outputs": [
    {
     "ename": "NameError",
     "evalue": "name 'false' is not defined",
     "output_type": "error",
     "traceback": [
      "\u001b[0;31m---------------------------------------------------------------------------\u001b[0m",
      "\u001b[0;31mNameError\u001b[0m                                 Traceback (most recent call last)",
      "Cell \u001b[0;32mIn [23], line 1\u001b[0m\n\u001b[0;32m----> 1\u001b[0m a\u001b[38;5;241m=\u001b[39m\u001b[43mfalse\u001b[49m\n",
      "\u001b[0;31mNameError\u001b[0m: name 'false' is not defined"
     ]
    }
   ],
   "source": [
    "a=false\n"
   ]
  },
  {
   "cell_type": "code",
   "execution_count": 24,
   "id": "a6bb5672-f00b-424b-8c04-ecf323144799",
   "metadata": {},
   "outputs": [],
   "source": [
    "a=False"
   ]
  },
  {
   "cell_type": "code",
   "execution_count": 25,
   "id": "10cbc8af-fcc8-4ab7-9434-368a74a43760",
   "metadata": {},
   "outputs": [
    {
     "data": {
      "text/plain": [
       "bool"
      ]
     },
     "execution_count": 25,
     "metadata": {},
     "output_type": "execute_result"
    }
   ],
   "source": [
    "type(a)"
   ]
  },
  {
   "cell_type": "code",
   "execution_count": 26,
   "id": "e54c7c29-b6fe-4c3f-b9cd-f32698e1c263",
   "metadata": {},
   "outputs": [
    {
     "data": {
      "text/plain": [
       "2"
      ]
     },
     "execution_count": 26,
     "metadata": {},
     "output_type": "execute_result"
    }
   ],
   "source": [
    "1+1"
   ]
  },
  {
   "cell_type": "code",
   "execution_count": 27,
   "id": "256d5a2f-a514-4f0c-918f-7fadf1b1dcb0",
   "metadata": {},
   "outputs": [
    {
     "data": {
      "text/plain": [
       "2"
      ]
     },
     "execution_count": 27,
     "metadata": {},
     "output_type": "execute_result"
    }
   ],
   "source": [
    "True+True"
   ]
  },
  {
   "cell_type": "code",
   "execution_count": 28,
   "id": "e69ad3a4-7e30-4b11-a663-73a270a3386b",
   "metadata": {},
   "outputs": [
    {
     "data": {
      "text/plain": [
       "1"
      ]
     },
     "execution_count": 28,
     "metadata": {},
     "output_type": "execute_result"
    }
   ],
   "source": [
    "True+False"
   ]
  },
  {
   "cell_type": "code",
   "execution_count": 29,
   "id": "6e272040-340c-4219-8e2d-831c71ba3377",
   "metadata": {},
   "outputs": [
    {
     "data": {
      "text/plain": [
       "0"
      ]
     },
     "execution_count": 29,
     "metadata": {},
     "output_type": "execute_result"
    }
   ],
   "source": [
    "False+False"
   ]
  },
  {
   "cell_type": "code",
   "execution_count": 30,
   "id": "55c2bdf2-e994-4b7e-acc7-1fd5be331670",
   "metadata": {},
   "outputs": [
    {
     "data": {
      "text/plain": [
       "24"
      ]
     },
     "execution_count": 30,
     "metadata": {},
     "output_type": "execute_result"
    }
   ],
   "source": [
    "import sys\n",
    "sys.getsizeof(a)"
   ]
  },
  {
   "cell_type": "code",
   "execution_count": 31,
   "id": "3a4fc5bc-ccca-4142-9cc6-65f521613f3e",
   "metadata": {},
   "outputs": [],
   "source": [
    "a=True"
   ]
  },
  {
   "cell_type": "code",
   "execution_count": 32,
   "id": "83883487-52a1-4da5-99d7-003cc03a9bbc",
   "metadata": {},
   "outputs": [
    {
     "data": {
      "text/plain": [
       "28"
      ]
     },
     "execution_count": 32,
     "metadata": {},
     "output_type": "execute_result"
    }
   ],
   "source": [
    "import sys\n",
    "sys.getsizeof(a)"
   ]
  },
  {
   "cell_type": "code",
   "execution_count": 33,
   "id": "11ed1e83-ac23-4a64-8906-379bdcc49e53",
   "metadata": {},
   "outputs": [],
   "source": [
    "a=\"sunny\""
   ]
  },
  {
   "cell_type": "code",
   "execution_count": 34,
   "id": "10b0194d-4308-4582-bbf5-605c58341d0e",
   "metadata": {},
   "outputs": [
    {
     "data": {
      "text/plain": [
       "54"
      ]
     },
     "execution_count": 34,
     "metadata": {},
     "output_type": "execute_result"
    }
   ],
   "source": [
    "import sys\n",
    "sys.getsizeof(a)"
   ]
  },
  {
   "cell_type": "code",
   "execution_count": 35,
   "id": "2c6b0185-7f9b-4764-a929-b5061a8af072",
   "metadata": {},
   "outputs": [
    {
     "data": {
      "text/plain": [
       "'sunny'"
      ]
     },
     "execution_count": 35,
     "metadata": {},
     "output_type": "execute_result"
    }
   ],
   "source": [
    "a"
   ]
  },
  {
   "cell_type": "code",
   "execution_count": 36,
   "id": "f80714a2-f916-4b16-984c-043344f55f35",
   "metadata": {},
   "outputs": [],
   "source": [
    "a='sunny'"
   ]
  },
  {
   "cell_type": "code",
   "execution_count": 37,
   "id": "1d11380d-9c9a-40ed-9fe4-f75a3674b86a",
   "metadata": {},
   "outputs": [
    {
     "data": {
      "text/plain": [
       "str"
      ]
     },
     "execution_count": 37,
     "metadata": {},
     "output_type": "execute_result"
    }
   ],
   "source": [
    "type(a)"
   ]
  },
  {
   "cell_type": "code",
   "execution_count": 38,
   "id": "ea8c60f2-4579-4194-8a1c-40393e098d11",
   "metadata": {},
   "outputs": [],
   "source": [
    "b=\"savita\""
   ]
  },
  {
   "cell_type": "code",
   "execution_count": 39,
   "id": "7d4e2d33-87c1-4610-b187-6d1168f451e7",
   "metadata": {},
   "outputs": [
    {
     "data": {
      "text/plain": [
       "'sunnysavita'"
      ]
     },
     "execution_count": 39,
     "metadata": {},
     "output_type": "execute_result"
    }
   ],
   "source": [
    "a+b"
   ]
  },
  {
   "cell_type": "code",
   "execution_count": 41,
   "id": "13f34ae6-21c7-4978-9b29-c862574a9a46",
   "metadata": {},
   "outputs": [],
   "source": [
    "a=\"sunny\""
   ]
  },
  {
   "cell_type": "code",
   "execution_count": 42,
   "id": "302f1210-ab9a-4cd5-89b3-5042213391f1",
   "metadata": {},
   "outputs": [
    {
     "ename": "SyntaxError",
     "evalue": "unterminated string literal (detected at line 1) (2394895353.py, line 1)",
     "output_type": "error",
     "traceback": [
      "\u001b[0;36m  Cell \u001b[0;32mIn [42], line 1\u001b[0;36m\u001b[0m\n\u001b[0;31m    msg='Sunny's classes'\u001b[0m\n\u001b[0m                        ^\u001b[0m\n\u001b[0;31mSyntaxError\u001b[0m\u001b[0;31m:\u001b[0m unterminated string literal (detected at line 1)\n"
     ]
    }
   ],
   "source": [
    "msg='Sunny's classes'"
   ]
  },
  {
   "cell_type": "code",
   "execution_count": 43,
   "id": "932dcc3e-c36c-404f-b7b4-b86075cb0ad7",
   "metadata": {},
   "outputs": [],
   "source": [
    "msg=\"Sunny's classes\""
   ]
  },
  {
   "cell_type": "code",
   "execution_count": 44,
   "id": "78d1d81e-3a9e-487e-8ed0-13866cf8119a",
   "metadata": {},
   "outputs": [],
   "source": [
    "msg='Sunny\"s classes'"
   ]
  },
  {
   "cell_type": "code",
   "execution_count": 45,
   "id": "2f5a95cc-eff4-4d59-b2d0-a1a890980a1a",
   "metadata": {},
   "outputs": [
    {
     "data": {
      "text/plain": [
       "'Sunny\"s classes'"
      ]
     },
     "execution_count": 45,
     "metadata": {},
     "output_type": "execute_result"
    }
   ],
   "source": [
    "msg"
   ]
  },
  {
   "cell_type": "code",
   "execution_count": 46,
   "id": "77e2bbdb-b791-4ede-8a84-f5fa479ea70a",
   "metadata": {},
   "outputs": [
    {
     "name": "stdout",
     "output_type": "stream",
     "text": [
      "Sunny\"s classes\n"
     ]
    }
   ],
   "source": [
    "print(msg)"
   ]
  },
  {
   "cell_type": "code",
   "execution_count": 50,
   "id": "09395695-0263-4494-86e2-8dc59fd8668c",
   "metadata": {},
   "outputs": [
    {
     "ename": "SyntaxError",
     "evalue": "unterminated string literal (detected at line 1) (3559308583.py, line 1)",
     "output_type": "error",
     "traceback": [
      "\u001b[0;36m  Cell \u001b[0;32mIn [50], line 1\u001b[0;36m\u001b[0m\n\u001b[0;31m    y=let's learn \"Phyton\"\u001b[0m\n\u001b[0m         ^\u001b[0m\n\u001b[0;31mSyntaxError\u001b[0m\u001b[0;31m:\u001b[0m unterminated string literal (detected at line 1)\n"
     ]
    }
   ],
   "source": [
    "y=let's learn \"Phyton\""
   ]
  },
  {
   "cell_type": "code",
   "execution_count": 51,
   "id": "229c3982-6e87-4590-a73c-817ca8fef999",
   "metadata": {},
   "outputs": [
    {
     "ename": "NameError",
     "evalue": "name 'y' is not defined",
     "output_type": "error",
     "traceback": [
      "\u001b[0;31m---------------------------------------------------------------------------\u001b[0m",
      "\u001b[0;31mNameError\u001b[0m                                 Traceback (most recent call last)",
      "Cell \u001b[0;32mIn [51], line 1\u001b[0m\n\u001b[0;32m----> 1\u001b[0m \u001b[38;5;28mtype\u001b[39m(\u001b[43my\u001b[49m)\n",
      "\u001b[0;31mNameError\u001b[0m: name 'y' is not defined"
     ]
    }
   ],
   "source": [
    "type(y)"
   ]
  },
  {
   "cell_type": "code",
   "execution_count": 52,
   "id": "7fe2e154-18de-4da6-991b-ed0b27555c84",
   "metadata": {},
   "outputs": [
    {
     "data": {
      "text/plain": [
       "'Pyton\\'s String\"s'"
      ]
     },
     "execution_count": 52,
     "metadata": {},
     "output_type": "execute_result"
    }
   ],
   "source": [
    "\"Pyton's\" +\" \"+'String\"s'"
   ]
  },
  {
   "cell_type": "code",
   "execution_count": 55,
   "id": "eec92b72-5bfe-42f9-94a8-5c37840eefa5",
   "metadata": {},
   "outputs": [
    {
     "ename": "SyntaxError",
     "evalue": "unterminated string literal (detected at line 1) (2230258234.py, line 1)",
     "output_type": "error",
     "traceback": [
      "\u001b[0;36m  Cell \u001b[0;32mIn [55], line 1\u001b[0;36m\u001b[0m\n\u001b[0;31m    y=\"\"\"let's learn \"Phyton\"\"\"\"\u001b[0m\n\u001b[0m                               ^\u001b[0m\n\u001b[0;31mSyntaxError\u001b[0m\u001b[0;31m:\u001b[0m unterminated string literal (detected at line 1)\n"
     ]
    }
   ],
   "source": [
    "y=\"\"\"let's learn \"Phyton\"\"\"\""
   ]
  },
  {
   "cell_type": "code",
   "execution_count": 54,
   "id": "11d6eed2-1027-47a3-ab48-6aa16937e188",
   "metadata": {},
   "outputs": [
    {
     "name": "stdout",
     "output_type": "stream",
     "text": [
      "let's learn \"Phyton\n"
     ]
    }
   ],
   "source": [
    "print(y)"
   ]
  },
  {
   "cell_type": "code",
   "execution_count": 56,
   "id": "146fa0ff-9203-41fc-b22c-7171a47797cf",
   "metadata": {},
   "outputs": [],
   "source": [
    "y=\"\"\"let's learn \"Phyton\" \"\"\""
   ]
  },
  {
   "cell_type": "code",
   "execution_count": 57,
   "id": "5d68de35-5013-4a5b-8686-7ea7df014885",
   "metadata": {},
   "outputs": [
    {
     "data": {
      "text/plain": [
       "'let\\'s learn \"Phyton\" '"
      ]
     },
     "execution_count": 57,
     "metadata": {},
     "output_type": "execute_result"
    }
   ],
   "source": [
    "y"
   ]
  },
  {
   "cell_type": "code",
   "execution_count": 58,
   "id": "7fe253b3-c50f-4326-afb5-118469e7238f",
   "metadata": {},
   "outputs": [
    {
     "ename": "SyntaxError",
     "evalue": "unexpected character after line continuation character (219601613.py, line 1)",
     "output_type": "error",
     "traceback": [
      "\u001b[0;36m  Cell \u001b[0;32mIn [58], line 1\u001b[0;36m\u001b[0m\n\u001b[0;31m    y=let\\'s learn \"python\"\u001b[0m\n\u001b[0m          ^\u001b[0m\n\u001b[0;31mSyntaxError\u001b[0m\u001b[0;31m:\u001b[0m unexpected character after line continuation character\n"
     ]
    }
   ],
   "source": [
    "y=let\\'s learn \"python\""
   ]
  },
  {
   "cell_type": "code",
   "execution_count": 59,
   "id": "28cadd11-f6f2-4389-84a1-414f2ac097f5",
   "metadata": {},
   "outputs": [],
   "source": [
    "y='let\\'s learn \"python\"'"
   ]
  },
  {
   "cell_type": "code",
   "execution_count": 60,
   "id": "61edeaf7-76fa-45e8-a1f5-03db987ff06d",
   "metadata": {},
   "outputs": [
    {
     "data": {
      "text/plain": [
       "'let\\'s learn \"python\"'"
      ]
     },
     "execution_count": 60,
     "metadata": {},
     "output_type": "execute_result"
    }
   ],
   "source": [
    "y"
   ]
  },
  {
   "cell_type": "code",
   "execution_count": 61,
   "id": "d024f429-3322-41bb-abba-7875f98ff101",
   "metadata": {},
   "outputs": [
    {
     "name": "stdout",
     "output_type": "stream",
     "text": [
      "let's learn \"python\"\n"
     ]
    }
   ],
   "source": [
    "print(y)"
   ]
  },
  {
   "cell_type": "code",
   "execution_count": 1,
   "id": "e17174d6-eae6-4fc4-a6a4-0822bdbfe3f2",
   "metadata": {},
   "outputs": [],
   "source": [
    "my_string=\"my name is Ivan\""
   ]
  },
  {
   "cell_type": "code",
   "execution_count": 2,
   "id": "c706326c-e38d-4396-b705-1aa7bd84960f",
   "metadata": {},
   "outputs": [
    {
     "name": "stdout",
     "output_type": "stream",
     "text": [
      "my name is Ivan\n"
     ]
    }
   ],
   "source": [
    "print(my_string)"
   ]
  },
  {
   "cell_type": "code",
   "execution_count": 5,
   "id": "a40a3a04-891a-454a-afdc-4138794684ef",
   "metadata": {},
   "outputs": [],
   "source": [
    "my_string=\"\"\"my \n",
    "            name\n",
    "            is\n",
    "        Ivan\"\"\""
   ]
  },
  {
   "cell_type": "code",
   "execution_count": 6,
   "id": "6c7cffbe-00a3-42e4-99be-a485e10db508",
   "metadata": {},
   "outputs": [
    {
     "name": "stdout",
     "output_type": "stream",
     "text": [
      "my \n",
      "            name\n",
      "            is\n",
      "        Ivan\n"
     ]
    }
   ],
   "source": [
    "print(my_string)"
   ]
  },
  {
   "cell_type": "code",
   "execution_count": 7,
   "id": "459b7832-545c-40b5-8791-1ff9cad92988",
   "metadata": {},
   "outputs": [],
   "source": [
    "a=100"
   ]
  },
  {
   "cell_type": "code",
   "execution_count": 8,
   "id": "8045eaae-c15b-4e6a-af04-f474f839f3bf",
   "metadata": {},
   "outputs": [
    {
     "data": {
      "text/plain": [
       "int"
      ]
     },
     "execution_count": 8,
     "metadata": {},
     "output_type": "execute_result"
    }
   ],
   "source": [
    "type(a)"
   ]
  },
  {
   "cell_type": "code",
   "execution_count": 9,
   "id": "378928ff-e072-45e0-be68-4686e44ca4b6",
   "metadata": {},
   "outputs": [
    {
     "data": {
      "text/plain": [
       "100.0"
      ]
     },
     "execution_count": 9,
     "metadata": {},
     "output_type": "execute_result"
    }
   ],
   "source": [
    "float(a)"
   ]
  },
  {
   "cell_type": "code",
   "execution_count": 10,
   "id": "5b069fa0-aff6-4021-b9f8-0bc4dfbda213",
   "metadata": {},
   "outputs": [],
   "source": [
    "a=100"
   ]
  },
  {
   "cell_type": "code",
   "execution_count": 11,
   "id": "8b5bf661-babf-4644-8c7d-f74dbecb3e35",
   "metadata": {},
   "outputs": [],
   "source": [
    "b=float(a)"
   ]
  },
  {
   "cell_type": "code",
   "execution_count": 12,
   "id": "0a703f3e-12c1-480a-be54-183830df0bb1",
   "metadata": {},
   "outputs": [
    {
     "data": {
      "text/plain": [
       "float"
      ]
     },
     "execution_count": 12,
     "metadata": {},
     "output_type": "execute_result"
    }
   ],
   "source": [
    "type(b)"
   ]
  },
  {
   "cell_type": "code",
   "execution_count": 13,
   "id": "3b1a0fa9-c117-4861-b844-9cc98bbd1da7",
   "metadata": {},
   "outputs": [
    {
     "name": "stdout",
     "output_type": "stream",
     "text": [
      "100.0\n"
     ]
    }
   ],
   "source": [
    "print(b)"
   ]
  },
  {
   "cell_type": "code",
   "execution_count": 14,
   "id": "1d133d87-f881-48dd-a0c5-0ac8b887e9e4",
   "metadata": {},
   "outputs": [],
   "source": [
    "a='10'"
   ]
  },
  {
   "cell_type": "code",
   "execution_count": 15,
   "id": "d8551c29-a323-4856-aa51-c8d5d07715b0",
   "metadata": {},
   "outputs": [],
   "source": [
    "b='20'"
   ]
  },
  {
   "cell_type": "code",
   "execution_count": 16,
   "id": "149eb7a7-327e-4035-b6c2-71889ed31af0",
   "metadata": {},
   "outputs": [
    {
     "data": {
      "text/plain": [
       "'1020'"
      ]
     },
     "execution_count": 16,
     "metadata": {},
     "output_type": "execute_result"
    }
   ],
   "source": [
    "a+b"
   ]
  },
  {
   "cell_type": "code",
   "execution_count": 17,
   "id": "687b8651-23cc-4175-b95d-f1a5ddb07545",
   "metadata": {},
   "outputs": [
    {
     "ename": "TypeError",
     "evalue": "Kernel.raw_input() takes from 1 to 2 positional arguments but 3 were given",
     "output_type": "error",
     "traceback": [
      "\u001b[0;31m---------------------------------------------------------------------------\u001b[0m",
      "\u001b[0;31mTypeError\u001b[0m                                 Traceback (most recent call last)",
      "Cell \u001b[0;32mIn [17], line 1\u001b[0m\n\u001b[0;32m----> 1\u001b[0m \u001b[38;5;28;43minput\u001b[39;49m\u001b[43m(\u001b[49m\u001b[43ma\u001b[49m\u001b[43m,\u001b[49m\u001b[43mb\u001b[49m\u001b[43m)\u001b[49m\n",
      "\u001b[0;31mTypeError\u001b[0m: Kernel.raw_input() takes from 1 to 2 positional arguments but 3 were given"
     ]
    }
   ],
   "source": [
    "input(a,b)"
   ]
  },
  {
   "cell_type": "code",
   "execution_count": 18,
   "id": "7d70b731-9375-464f-87db-e52b55a62647",
   "metadata": {},
   "outputs": [
    {
     "name": "stdin",
     "output_type": "stream",
     "text": [
      "10 1\n"
     ]
    },
    {
     "data": {
      "text/plain": [
       "'1'"
      ]
     },
     "execution_count": 18,
     "metadata": {},
     "output_type": "execute_result"
    }
   ],
   "source": [
    "input(a)"
   ]
  },
  {
   "cell_type": "code",
   "execution_count": 19,
   "id": "ade9e94c-6cef-45c6-8d9c-9fc8c15260b2",
   "metadata": {},
   "outputs": [
    {
     "name": "stdin",
     "output_type": "stream",
     "text": [
      " 10\n",
      " 20\n"
     ]
    }
   ],
   "source": [
    "x=input()\n",
    "y=input()"
   ]
  },
  {
   "cell_type": "code",
   "execution_count": 20,
   "id": "150252f2-18fb-4a20-896e-b0cc472c7ac5",
   "metadata": {},
   "outputs": [],
   "source": [
    "z=x+y"
   ]
  },
  {
   "cell_type": "code",
   "execution_count": 21,
   "id": "71dd5b3a-43fa-4d41-bb28-353654daedac",
   "metadata": {},
   "outputs": [
    {
     "name": "stdout",
     "output_type": "stream",
     "text": [
      "1020\n"
     ]
    }
   ],
   "source": [
    "print(z)"
   ]
  },
  {
   "cell_type": "code",
   "execution_count": 22,
   "id": "cae1c070-9a08-4669-b33b-2692bae5946e",
   "metadata": {},
   "outputs": [],
   "source": [
    "z = int(x) + int(y)"
   ]
  },
  {
   "cell_type": "code",
   "execution_count": 23,
   "id": "8eb03b9d-9bcc-42fb-bad6-f8add8ce419b",
   "metadata": {},
   "outputs": [
    {
     "name": "stdout",
     "output_type": "stream",
     "text": [
      "30\n"
     ]
    }
   ],
   "source": [
    "print(z)"
   ]
  },
  {
   "cell_type": "code",
   "execution_count": 25,
   "id": "fe417cd1-4e7d-4b75-bb98-e3b1e75c855e",
   "metadata": {},
   "outputs": [
    {
     "name": "stdin",
     "output_type": "stream",
     "text": [
      "your first number 80\n",
      "your second number 40\n"
     ]
    }
   ],
   "source": [
    "x=int(input('your first number'))\n",
    "y=int(input('your second number'))\n",
    "z=x-y"
   ]
  },
  {
   "cell_type": "code",
   "execution_count": 26,
   "id": "7942413f-3fee-4acd-af01-86d267ba30e0",
   "metadata": {},
   "outputs": [
    {
     "name": "stdout",
     "output_type": "stream",
     "text": [
      "40\n"
     ]
    }
   ],
   "source": [
    "print(z)"
   ]
  },
  {
   "cell_type": "code",
   "execution_count": 27,
   "id": "aaa2d2f5-ab5b-468c-979b-85ace79aa22d",
   "metadata": {},
   "outputs": [
    {
     "data": {
      "text/plain": [
       "2"
      ]
     },
     "execution_count": 27,
     "metadata": {},
     "output_type": "execute_result"
    }
   ],
   "source": [
    "int(2.7)"
   ]
  },
  {
   "cell_type": "code",
   "execution_count": null,
   "id": "0c464849-7fa7-4749-873e-c04f2b61f508",
   "metadata": {},
   "outputs": [],
   "source": []
  }
 ],
 "metadata": {
  "kernelspec": {
   "display_name": "Python 3 (ipykernel)",
   "language": "python",
   "name": "python3"
  },
  "language_info": {
   "codemirror_mode": {
    "name": "ipython",
    "version": 3
   },
   "file_extension": ".py",
   "mimetype": "text/x-python",
   "name": "python",
   "nbconvert_exporter": "python",
   "pygments_lexer": "ipython3",
   "version": "3.10.6"
  }
 },
 "nbformat": 4,
 "nbformat_minor": 5
}
