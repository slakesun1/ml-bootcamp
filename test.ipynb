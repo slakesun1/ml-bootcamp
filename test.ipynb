{
 "cells": [
  {
   "cell_type": "code",
   "execution_count": 1,
   "id": "b231cd63-01ac-4130-9517-b7b4c75692e8",
   "metadata": {},
   "outputs": [
    {
     "name": "stdout",
     "output_type": "stream",
     "text": [
      "30\n"
     ]
    }
   ],
   "source": [
    "a=10\n",
    "b=20\n",
    "c=a+b\n",
    "print (c)"
   ]
  },
  {
   "cell_type": "code",
   "execution_count": 1,
   "id": "27c2a00e-1cec-4ebd-b24d-1d50612b3f71",
   "metadata": {},
   "outputs": [],
   "source": [
    "def test():\n",
    "    a=30\n",
    "    b=40\n",
    "    c=a+b\n",
    "    print(c)"
   ]
  },
  {
   "cell_type": "code",
   "execution_count": 3,
   "id": "fc921582-497f-4bcf-b93e-f2ac473bef94",
   "metadata": {},
   "outputs": [
    {
     "name": "stdout",
     "output_type": "stream",
     "text": [
      "30\n"
     ]
    }
   ],
   "source": [
    "test()"
   ]
  },
  {
   "cell_type": "code",
   "execution_count": 2,
   "id": "c0fe1da7-a351-45cb-8e9a-8b59cfe2a70f",
   "metadata": {},
   "outputs": [
    {
     "name": "stdout",
     "output_type": "stream",
     "text": [
      "70\n"
     ]
    }
   ],
   "source": [
    "test()"
   ]
  },
  {
   "cell_type": "code",
   "execution_count": 3,
   "id": "0911f2b4-47d3-42d2-af39-92263d121541",
   "metadata": {},
   "outputs": [],
   "source": [
    "a=10"
   ]
  },
  {
   "cell_type": "code",
   "execution_count": 4,
   "id": "bdf01a68-63ce-4907-a3a6-b18ce8c8fecb",
   "metadata": {},
   "outputs": [
    {
     "name": "stdout",
     "output_type": "stream",
     "text": [
      "10\n"
     ]
    }
   ],
   "source": [
    "print(a)"
   ]
  },
  {
   "cell_type": "code",
   "execution_count": 8,
   "id": "4085be87-f9d7-42bd-9887-f2328f4fbae2",
   "metadata": {},
   "outputs": [],
   "source": [
    "b=20"
   ]
  },
  {
   "cell_type": "code",
   "execution_count": 6,
   "id": "5b80a7e9-ef3e-4b03-a9b2-6d9bb2b0920c",
   "metadata": {},
   "outputs": [
    {
     "name": "stdout",
     "output_type": "stream",
     "text": [
      "10\n"
     ]
    }
   ],
   "source": [
    "print(b)"
   ]
  },
  {
   "cell_type": "code",
   "execution_count": 7,
   "id": "86291145-d70b-4e67-a690-6c5b2a9c0467",
   "metadata": {},
   "outputs": [
    {
     "name": "stdout",
     "output_type": "stream",
     "text": [
      "10\n",
      "10\n"
     ]
    }
   ],
   "source": [
    "print(a)\n",
    "print(b)"
   ]
  },
  {
   "cell_type": "code",
   "execution_count": 9,
   "id": "8f98cf2b-7509-4f39-9613-729ae6508f6f",
   "metadata": {},
   "outputs": [
    {
     "name": "stdout",
     "output_type": "stream",
     "text": [
      "10\n",
      "20\n"
     ]
    }
   ],
   "source": [
    "print(a)\n",
    "print(b)"
   ]
  },
  {
   "cell_type": "code",
   "execution_count": 10,
   "id": "bbfd6014-d0b8-41ee-a41b-ce2441b71a67",
   "metadata": {},
   "outputs": [
    {
     "name": "stdout",
     "output_type": "stream",
     "text": [
      "this is my first number 10\n"
     ]
    }
   ],
   "source": [
    "print(\"this is my first number\", a)"
   ]
  },
  {
   "cell_type": "code",
   "execution_count": 11,
   "id": "feafb11d-96c8-48e8-ad40-b81a97aab250",
   "metadata": {},
   "outputs": [
    {
     "name": "stdout",
     "output_type": "stream",
     "text": [
      "this is my second number 20\n"
     ]
    }
   ],
   "source": [
    "print(\"this is my second number\", b)"
   ]
  },
  {
   "cell_type": "code",
   "execution_count": 12,
   "id": "ea3af9c5-0c14-44ed-a8a4-1a21bd69aae4",
   "metadata": {},
   "outputs": [
    {
     "name": "stdout",
     "output_type": "stream",
     "text": [
      "1020\n"
     ]
    }
   ],
   "source": [
    "print(a, end='')\n",
    "print(b)"
   ]
  },
  {
   "cell_type": "code",
   "execution_count": 13,
   "id": "b403b1db-b76c-4b10-8af7-95d1ae0a27cf",
   "metadata": {},
   "outputs": [
    {
     "name": "stdout",
     "output_type": "stream",
     "text": [
      "10\n",
      "20\n"
     ]
    }
   ],
   "source": [
    "print(a, end='\\n')\n",
    "print(b)"
   ]
  },
  {
   "cell_type": "code",
   "execution_count": 14,
   "id": "c1bf740d-bf2f-4918-b2f6-5fe2850aa754",
   "metadata": {},
   "outputs": [],
   "source": [
    "c=30"
   ]
  },
  {
   "cell_type": "code",
   "execution_count": 15,
   "id": "fa19df7e-bdb5-4ef5-8ecb-92f756bf8c0c",
   "metadata": {},
   "outputs": [
    {
     "name": "stdout",
     "output_type": "stream",
     "text": [
      "1020\n",
      "30\n"
     ]
    }
   ],
   "source": [
    "print(a, end='')\n",
    "print(b)\n",
    "print(c)"
   ]
  },
  {
   "cell_type": "code",
   "execution_count": 17,
   "id": "c6bf0b59-3ba8-4545-8816-f809998832e5",
   "metadata": {},
   "outputs": [
    {
     "name": "stdout",
     "output_type": "stream",
     "text": [
      "102030\n"
     ]
    }
   ],
   "source": [
    "print(a, end='')\n",
    "print(b,end='')\n",
    "print(c)"
   ]
  },
  {
   "cell_type": "code",
   "execution_count": 18,
   "id": "d04e7565-0c42-42f4-b946-d5e44f1f904e",
   "metadata": {},
   "outputs": [
    {
     "ename": "SyntaxError",
     "evalue": "unexpected character after line continuation character (1302599742.py, line 1)",
     "output_type": "error",
     "traceback": [
      "\u001b[0;36m  Cell \u001b[0;32mIn [18], line 1\u001b[0;36m\u001b[0m\n\u001b[0;31m    \\t-->\u001b[0m\n\u001b[0m     ^\u001b[0m\n\u001b[0;31mSyntaxError\u001b[0m\u001b[0;31m:\u001b[0m unexpected character after line continuation character\n"
     ]
    }
   ],
   "source": [
    "\\t-->"
   ]
  },
  {
   "cell_type": "code",
   "execution_count": 20,
   "id": "f65b96ba-6c32-4928-8acd-c58c1b47606f",
   "metadata": {},
   "outputs": [
    {
     "name": "stdout",
     "output_type": "stream",
     "text": [
      "10\t230\n"
     ]
    }
   ],
   "source": [
    "print(a, end='\\t')\n",
    "print(b,end='\\b')\n",
    "print(c)"
   ]
  },
  {
   "cell_type": "markdown",
   "id": "8ff48920-e4ec-4ca4-ae34-c4ce0e3b28bb",
   "metadata": {},
   "source": [
    "##10230"
   ]
  },
  {
   "cell_type": "markdown",
   "id": "02336fdb-50e1-41a2-844f-e50384d1cc8c",
   "metadata": {},
   "source": [
    "# sep"
   ]
  },
  {
   "cell_type": "code",
   "execution_count": 23,
   "id": "ebdae025-1d0d-488b-8e65-a98c0e277c5d",
   "metadata": {},
   "outputs": [
    {
     "name": "stdout",
     "output_type": "stream",
     "text": [
      "10aaaa20\n"
     ]
    }
   ],
   "source": [
    "print (a,b,sep='aaaa')"
   ]
  },
  {
   "cell_type": "code",
   "execution_count": 24,
   "id": "518a283d-a817-4633-a13b-35df3951f9d5",
   "metadata": {},
   "outputs": [
    {
     "name": "stdout",
     "output_type": "stream",
     "text": [
      "102030\n"
     ]
    }
   ],
   "source": [
    "print(a,b,c,sep='')"
   ]
  },
  {
   "cell_type": "code",
   "execution_count": 1,
   "id": "cc25a496-10a5-4dc2-a142-aff094b82c8a",
   "metadata": {},
   "outputs": [
    {
     "name": "stdin",
     "output_type": "stream",
     "text": [
      " 10\n"
     ]
    },
    {
     "data": {
      "text/plain": [
       "'10'"
      ]
     },
     "execution_count": 1,
     "metadata": {},
     "output_type": "execute_result"
    }
   ],
   "source": [
    "input()"
   ]
  },
  {
   "cell_type": "code",
   "execution_count": 2,
   "id": "31acf4b4-0da2-41fc-8869-5a6875a52744",
   "metadata": {},
   "outputs": [
    {
     "name": "stdin",
     "output_type": "stream",
     "text": [
      "first number: 10\n"
     ]
    },
    {
     "data": {
      "text/plain": [
       "'10'"
      ]
     },
     "execution_count": 2,
     "metadata": {},
     "output_type": "execute_result"
    }
   ],
   "source": [
    "input (\"first number:\")"
   ]
  },
  {
   "cell_type": "code",
   "execution_count": 3,
   "id": "06cc840c-ee4d-46ff-a04f-2fd88538b335",
   "metadata": {},
   "outputs": [
    {
     "name": "stdin",
     "output_type": "stream",
     "text": [
      "please, write any number: 1666\n"
     ]
    }
   ],
   "source": [
    "a=input(\"please, write any number:\")"
   ]
  },
  {
   "cell_type": "code",
   "execution_count": 4,
   "id": "330fa548-eecb-401f-842d-dc4bab89d874",
   "metadata": {},
   "outputs": [
    {
     "name": "stdout",
     "output_type": "stream",
     "text": [
      "1666\n"
     ]
    }
   ],
   "source": [
    "print(a)"
   ]
  },
  {
   "cell_type": "code",
   "execution_count": 5,
   "id": "63d378bd-c8f1-43ba-9810-574f6beca73e",
   "metadata": {},
   "outputs": [
    {
     "data": {
      "text/plain": [
       "str"
      ]
     },
     "execution_count": 5,
     "metadata": {},
     "output_type": "execute_result"
    }
   ],
   "source": [
    "type(a)"
   ]
  },
  {
   "cell_type": "code",
   "execution_count": 6,
   "id": "a3311ed7-3614-4253-831f-ff0dc9647dce",
   "metadata": {},
   "outputs": [],
   "source": [
    "a=100"
   ]
  },
  {
   "cell_type": "code",
   "execution_count": 7,
   "id": "7c873034-4e05-4e06-80aa-74cbcee55dca",
   "metadata": {},
   "outputs": [],
   "source": [
    "b=200"
   ]
  },
  {
   "cell_type": "code",
   "execution_count": 8,
   "id": "797b420b-8dd6-463d-8313-43f6452f382b",
   "metadata": {},
   "outputs": [
    {
     "data": {
      "text/plain": [
       "300"
      ]
     },
     "execution_count": 8,
     "metadata": {},
     "output_type": "execute_result"
    }
   ],
   "source": [
    "a+b"
   ]
  },
  {
   "cell_type": "code",
   "execution_count": 9,
   "id": "54a73b20-faa1-4828-9692-e981a7471593",
   "metadata": {},
   "outputs": [
    {
     "ename": "SyntaxError",
     "evalue": "invalid syntax (3757477467.py, line 1)",
     "output_type": "error",
     "traceback": [
      "\u001b[0;36m  Cell \u001b[0;32mIn [9], line 1\u001b[0;36m\u001b[0m\n\u001b[0;31m    a+\u001b[0m\n\u001b[0m      ^\u001b[0m\n\u001b[0;31mSyntaxError\u001b[0m\u001b[0;31m:\u001b[0m invalid syntax\n"
     ]
    }
   ],
   "source": [
    "a+"
   ]
  },
  {
   "cell_type": "code",
   "execution_count": 10,
   "id": "0cf9cc80-22f1-4df8-939a-241a2f4e3065",
   "metadata": {},
   "outputs": [
    {
     "name": "stdout",
     "output_type": "stream",
     "text": [
      "vanya\n"
     ]
    }
   ],
   "source": [
    "if a>10:\n",
    "    print(\"vanya\")"
   ]
  },
  {
   "cell_type": "code",
   "execution_count": null,
   "id": "b4e411ba-9477-4f5f-9caa-4ece5f0b8042",
   "metadata": {},
   "outputs": [],
   "source": []
  }
 ],
 "metadata": {
  "kernelspec": {
   "display_name": "Python 3 (ipykernel)",
   "language": "python",
   "name": "python3"
  },
  "language_info": {
   "codemirror_mode": {
    "name": "ipython",
    "version": 3
   },
   "file_extension": ".py",
   "mimetype": "text/x-python",
   "name": "python",
   "nbconvert_exporter": "python",
   "pygments_lexer": "ipython3",
   "version": "3.10.6"
  }
 },
 "nbformat": 4,
 "nbformat_minor": 5
}
