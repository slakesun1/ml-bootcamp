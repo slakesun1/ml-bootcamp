{
 "cells": [
  {
   "cell_type": "code",
   "execution_count": 1,
   "id": "3e2e7a33-4906-4111-9afe-e7cd43dbbf36",
   "metadata": {},
   "outputs": [],
   "source": [
    "def addtwonumber():\n",
    "    a=100\n",
    "    b=272822\n",
    "    c=a+b\n",
    "    print(c)"
   ]
  },
  {
   "cell_type": "code",
   "execution_count": 4,
   "id": "ac5a01b9-2697-4acb-8a81-7be4a111963d",
   "metadata": {},
   "outputs": [
    {
     "name": "stdout",
     "output_type": "stream",
     "text": [
      "272922\n"
     ]
    }
   ],
   "source": [
    "#functioncall\n",
    "addtwonumber()"
   ]
  },
  {
   "cell_type": "code",
   "execution_count": 7,
   "id": "0d3cc754-cd12-4b5d-9bfb-ca86bee75420",
   "metadata": {},
   "outputs": [],
   "source": [
    "def addtwonumbers():\n",
    "    a=input(\"Enter the first number\")\n",
    "    b=input(\"Enter the second number\")\n",
    "    c=int(a)+int(b)\n",
    "    print(c)"
   ]
  },
  {
   "cell_type": "code",
   "execution_count": 8,
   "id": "411c4ab0-3a8d-4330-aa9c-b9e004029c0d",
   "metadata": {},
   "outputs": [
    {
     "name": "stdin",
     "output_type": "stream",
     "text": [
      "Enter the first number 12\n",
      "Enter the second number 12\n"
     ]
    },
    {
     "name": "stdout",
     "output_type": "stream",
     "text": [
      "24\n"
     ]
    }
   ],
   "source": [
    "addtwonumbers()"
   ]
  },
  {
   "cell_type": "markdown",
   "id": "c46d0582-490c-4197-a7e6-1a0a528a6e7d",
   "metadata": {},
   "source": [
    "# WAP that accept integer and display the absolute value "
   ]
  },
  {
   "cell_type": "code",
   "execution_count": 12,
   "id": "74ee8810-948a-41d8-b321-03d0a2700477",
   "metadata": {},
   "outputs": [],
   "source": [
    "def absolute():\n",
    "    a=int(input(\"Enter the number\"))\n",
    "    if a>0:\n",
    "        print(\"Absolute value is\", a)\n",
    "    else:\n",
    "        print(\"Absolute value is\", -a)"
   ]
  },
  {
   "cell_type": "code",
   "execution_count": 13,
   "id": "5347f446-0a65-4c78-9963-d77075b484ff",
   "metadata": {},
   "outputs": [
    {
     "name": "stdin",
     "output_type": "stream",
     "text": [
      "Enter the number 13\n"
     ]
    },
    {
     "name": "stdout",
     "output_type": "stream",
     "text": [
      "Absolute value is 13\n"
     ]
    }
   ],
   "source": [
    "absolute()"
   ]
  },
  {
   "cell_type": "code",
   "execution_count": 14,
   "id": "9789844b-7c2d-4934-8d0a-08212b8d51ac",
   "metadata": {},
   "outputs": [
    {
     "name": "stdin",
     "output_type": "stream",
     "text": [
      "Enter the number -2\n"
     ]
    },
    {
     "name": "stdout",
     "output_type": "stream",
     "text": [
      "Absolute value is 2\n"
     ]
    }
   ],
   "source": [
    "absolute()"
   ]
  },
  {
   "cell_type": "code",
   "execution_count": 15,
   "id": "49ceddd2-b845-4657-9c0b-e94db3316043",
   "metadata": {},
   "outputs": [
    {
     "name": "stdin",
     "output_type": "stream",
     "text": [
      "Enter the number 0\n"
     ]
    },
    {
     "name": "stdout",
     "output_type": "stream",
     "text": [
      "Absolute value is 0\n"
     ]
    }
   ],
   "source": [
    "absolute()"
   ]
  },
  {
   "cell_type": "code",
   "execution_count": 18,
   "id": "ffa2a597-b1e5-4acb-a83b-9d6ac3650672",
   "metadata": {},
   "outputs": [],
   "source": [
    "def absolute(x):   \n",
    "    if x>0:\n",
    "        print(\"Absolute value is\", x)\n",
    "    else:\n",
    "        print(\"Absolute value is\", -x)"
   ]
  },
  {
   "cell_type": "code",
   "execution_count": 19,
   "id": "2a8495e0-c3ae-4905-bad3-3aafa7c156ae",
   "metadata": {},
   "outputs": [
    {
     "name": "stdout",
     "output_type": "stream",
     "text": [
      "Absolute value is 12\n"
     ]
    }
   ],
   "source": [
    "absolute(-12)"
   ]
  },
  {
   "cell_type": "code",
   "execution_count": 20,
   "id": "fab90f17-9e9c-4833-af94-386fa39934fe",
   "metadata": {},
   "outputs": [
    {
     "name": "stdout",
     "output_type": "stream",
     "text": [
      "Absolute value is 0\n"
     ]
    }
   ],
   "source": [
    "absolute(0)"
   ]
  },
  {
   "cell_type": "code",
   "execution_count": 21,
   "id": "1ac5bf75-3051-4660-aa51-5fc8a65cd636",
   "metadata": {},
   "outputs": [
    {
     "data": {
      "text/plain": [
       "12"
      ]
     },
     "execution_count": 21,
     "metadata": {},
     "output_type": "execute_result"
    }
   ],
   "source": [
    "abs(-12)"
   ]
  },
  {
   "cell_type": "code",
   "execution_count": 23,
   "id": "7043eb63-37dc-4827-b65c-2c8da0b1d7f3",
   "metadata": {},
   "outputs": [
    {
     "name": "stdout",
     "output_type": "stream",
     "text": [
      "272922\n"
     ]
    }
   ],
   "source": [
    "myvariable=addtwonumber()"
   ]
  },
  {
   "cell_type": "code",
   "execution_count": 24,
   "id": "1e3e69f7-9857-4af9-8542-09cc61997f6b",
   "metadata": {},
   "outputs": [
    {
     "name": "stdout",
     "output_type": "stream",
     "text": [
      "None\n"
     ]
    }
   ],
   "source": [
    "print(myvariable)"
   ]
  },
  {
   "cell_type": "code",
   "execution_count": 25,
   "id": "c6654871-513e-434d-9c2c-621e71ac77da",
   "metadata": {},
   "outputs": [
    {
     "ename": "SyntaxError",
     "evalue": "'return' outside function (4023144089.py, line 1)",
     "output_type": "error",
     "traceback": [
      "\u001b[0;36m  Cell \u001b[0;32mIn [25], line 1\u001b[0;36m\u001b[0m\n\u001b[0;31m    return(myvariable)\u001b[0m\n\u001b[0m    ^\u001b[0m\n\u001b[0;31mSyntaxError\u001b[0m\u001b[0;31m:\u001b[0m 'return' outside function\n"
     ]
    }
   ],
   "source": [
    "return(myvariable)"
   ]
  },
  {
   "cell_type": "code",
   "execution_count": 3,
   "id": "b64fabef-3384-4096-ac17-1cce148ae09d",
   "metadata": {},
   "outputs": [],
   "source": [
    "def fullname(a,b):\n",
    "    c=a+b\n",
    "    print(c)\n",
    "    return \"done\""
   ]
  },
  {
   "cell_type": "code",
   "execution_count": 4,
   "id": "e896ad73-42a9-463c-9cbd-3b851ea70fe0",
   "metadata": {},
   "outputs": [
    {
     "name": "stdout",
     "output_type": "stream",
     "text": [
      "vanyatseretyan\n"
     ]
    }
   ],
   "source": [
    "myvariable=fullname(\"vanya\", \"tseretyan\")"
   ]
  },
  {
   "cell_type": "code",
   "execution_count": 5,
   "id": "95f1f6ae-344e-49fb-987a-e60a5b6ee8a3",
   "metadata": {},
   "outputs": [
    {
     "name": "stdout",
     "output_type": "stream",
     "text": [
      "done\n"
     ]
    }
   ],
   "source": [
    "print(myvariable)"
   ]
  },
  {
   "cell_type": "markdown",
   "id": "fc908117-9a4d-45d1-a340-352e4d37e817",
   "metadata": {},
   "source": [
    "# by default function returns None"
   ]
  },
  {
   "cell_type": "code",
   "execution_count": 7,
   "id": "883ba37f-5d5f-40f7-a8c7-28dad4ef6dc1",
   "metadata": {},
   "outputs": [],
   "source": [
    "def fullname(a,b):\n",
    "    c=a+b\n",
    "    return c"
   ]
  },
  {
   "cell_type": "code",
   "execution_count": 8,
   "id": "afd8b98a-9e07-4e0b-894b-f06e12ea05e6",
   "metadata": {},
   "outputs": [],
   "source": [
    "myvariable=fullname(\"vanya\", \"tseretyan\")"
   ]
  },
  {
   "cell_type": "code",
   "execution_count": 9,
   "id": "30771a35-46eb-482b-af8c-c4cb2a62b473",
   "metadata": {},
   "outputs": [
    {
     "name": "stdout",
     "output_type": "stream",
     "text": [
      "vanyatseretyan\n"
     ]
    }
   ],
   "source": [
    "print(myvariable)"
   ]
  },
  {
   "cell_type": "code",
   "execution_count": 10,
   "id": "1e0e5d6a-5890-444a-8c4b-5cefb42fce60",
   "metadata": {},
   "outputs": [],
   "source": [
    "def addtwonumber():\n",
    "    a=100\n",
    "    b=272822\n",
    "    c=a+b\n",
    "    return c"
   ]
  },
  {
   "cell_type": "code",
   "execution_count": 11,
   "id": "6bdcf72b-73fe-4310-bebc-0f098164b54b",
   "metadata": {},
   "outputs": [
    {
     "data": {
      "text/plain": [
       "272922"
      ]
     },
     "execution_count": 11,
     "metadata": {},
     "output_type": "execute_result"
    }
   ],
   "source": [
    "addtwonumber()"
   ]
  },
  {
   "cell_type": "code",
   "execution_count": 12,
   "id": "8b14684d-cfc3-40b7-ab3e-c19124d08a29",
   "metadata": {},
   "outputs": [],
   "source": [
    "myvariable=addtwonumber()"
   ]
  },
  {
   "cell_type": "code",
   "execution_count": 13,
   "id": "749ddbee-0b6d-468c-a00b-9a16055059a3",
   "metadata": {},
   "outputs": [
    {
     "name": "stdout",
     "output_type": "stream",
     "text": [
      "272922\n"
     ]
    }
   ],
   "source": [
    "print(myvariable)"
   ]
  },
  {
   "cell_type": "code",
   "execution_count": 14,
   "id": "1078131c-d1ad-4fa5-8292-9707835e803b",
   "metadata": {},
   "outputs": [],
   "source": [
    "def addtwonumber():\n",
    "    a=100\n",
    "    b=272822\n",
    "    c=a+b\n",
    "    return a,b,c"
   ]
  },
  {
   "cell_type": "code",
   "execution_count": 15,
   "id": "3a0f1993-0641-4a85-ac0d-36f418cb85ac",
   "metadata": {},
   "outputs": [],
   "source": [
    "myvariable=addtwonumber()"
   ]
  },
  {
   "cell_type": "code",
   "execution_count": 16,
   "id": "09100eeb-626d-49cb-8ef8-7067a9ce9600",
   "metadata": {},
   "outputs": [
    {
     "name": "stdout",
     "output_type": "stream",
     "text": [
      "(100, 272822, 272922)\n"
     ]
    }
   ],
   "source": [
    "print(myvariable)"
   ]
  },
  {
   "cell_type": "code",
   "execution_count": 19,
   "id": "9f99e17d-935d-45b0-a774-cbdd19d65130",
   "metadata": {},
   "outputs": [],
   "source": [
    "a_value, b_value, addition_of_values=addtwonumber()"
   ]
  },
  {
   "cell_type": "code",
   "execution_count": 20,
   "id": "250b6096-59ed-41fb-9df0-1e129d5a7c1b",
   "metadata": {},
   "outputs": [
    {
     "name": "stdout",
     "output_type": "stream",
     "text": [
      "100 272822 272922\n"
     ]
    }
   ],
   "source": [
    "print(a_value, b_value, addition_of_values, sep=\" \")"
   ]
  },
  {
   "cell_type": "markdown",
   "id": "10e82d85-8def-45ee-9c42-40daf65691f5",
   "metadata": {},
   "source": [
    "# call the function to calculate and return the factoriial of the number given by the user"
   ]
  },
  {
   "cell_type": "code",
   "execution_count": 55,
   "id": "c8f358aa-e710-4b42-80ea-99bd3cc032f4",
   "metadata": {},
   "outputs": [],
   "source": [
    "def factorial(a):\n",
    "    i=1\n",
    "    fac=1\n",
    "    while i<=a:\n",
    "        fac=fac*i\n",
    "        i=i+1\n",
    "    return fac\n",
    "        "
   ]
  },
  {
   "cell_type": "code",
   "execution_count": 61,
   "id": "0bc2434a-905f-4a27-926e-b0a9679686f0",
   "metadata": {},
   "outputs": [
    {
     "data": {
      "text/plain": [
       "1"
      ]
     },
     "execution_count": 61,
     "metadata": {},
     "output_type": "execute_result"
    }
   ],
   "source": [
    "factorial(0)"
   ]
  },
  {
   "cell_type": "code",
   "execution_count": 62,
   "id": "d39b6b9e-4a6e-40cb-8cec-000e7b8cff66",
   "metadata": {},
   "outputs": [],
   "source": [
    "def factorial(a):\n",
    "    i=1\n",
    "    fac=1\n",
    "    while i<=a:\n",
    "        fac=fac*i\n",
    "        i=i+1\n",
    "    #return fac\n",
    "    print(fac)"
   ]
  },
  {
   "cell_type": "code",
   "execution_count": 63,
   "id": "a00b5d7a-8915-48f0-a536-5d162ff006b4",
   "metadata": {},
   "outputs": [
    {
     "name": "stdout",
     "output_type": "stream",
     "text": [
      "2\n"
     ]
    }
   ],
   "source": [
    "factorial(2)"
   ]
  },
  {
   "cell_type": "code",
   "execution_count": 64,
   "id": "5c14d17d-11d1-43ea-a637-8675ecd56c57",
   "metadata": {},
   "outputs": [
    {
     "ename": "SyntaxError",
     "evalue": "non-default argument follows default argument (2818796142.py, line 1)",
     "output_type": "error",
     "traceback": [
      "\u001b[0;36m  Cell \u001b[0;32mIn [64], line 1\u001b[0;36m\u001b[0m\n\u001b[0;31m    def nos(a,b,c=0,d):\u001b[0m\n\u001b[0m                    ^\u001b[0m\n\u001b[0;31mSyntaxError\u001b[0m\u001b[0;31m:\u001b[0m non-default argument follows default argument\n"
     ]
    }
   ],
   "source": [
    "def nos(a,b,c=0,d):\n",
    "    return a*b*c*d"
   ]
  },
  {
   "cell_type": "code",
   "execution_count": 65,
   "id": "b56ff49d-d43d-4e08-8312-68eab89a15db",
   "metadata": {},
   "outputs": [],
   "source": [
    "def nos(a,b,d,c=0):\n",
    "    return a*b*c*d"
   ]
  },
  {
   "cell_type": "code",
   "execution_count": 66,
   "id": "b09fc10d-999c-4d79-ae93-e65c871d16eb",
   "metadata": {},
   "outputs": [
    {
     "data": {
      "text/plain": [
       "0"
      ]
     },
     "execution_count": 66,
     "metadata": {},
     "output_type": "execute_result"
    }
   ],
   "source": [
    "nos(1,3,6)"
   ]
  },
  {
   "cell_type": "code",
   "execution_count": 67,
   "id": "70de350b-78b4-40a5-8fe2-3eb2c84c3841",
   "metadata": {},
   "outputs": [],
   "source": [
    "def nos (*a):\n",
    "    return a"
   ]
  },
  {
   "cell_type": "code",
   "execution_count": 68,
   "id": "b39a960e-c1d0-4264-857e-cdd421c84c35",
   "metadata": {},
   "outputs": [
    {
     "data": {
      "text/plain": [
       "(10, 20, 30, 40)"
      ]
     },
     "execution_count": 68,
     "metadata": {},
     "output_type": "execute_result"
    }
   ],
   "source": [
    "nos(10,20,30,40)"
   ]
  },
  {
   "cell_type": "code",
   "execution_count": 69,
   "id": "a9fabd61-3f71-46a5-8b35-a95e8573e7c5",
   "metadata": {},
   "outputs": [],
   "source": [
    "def nos (*a):\n",
    "    print(type(a))\n",
    "    return a"
   ]
  },
  {
   "cell_type": "code",
   "execution_count": 70,
   "id": "3423e2dc-afe0-4163-9658-00ebe127742e",
   "metadata": {},
   "outputs": [
    {
     "name": "stdout",
     "output_type": "stream",
     "text": [
      "<class 'tuple'>\n"
     ]
    },
    {
     "data": {
      "text/plain": [
       "(10, 20, 30, 40, 34, 4, 5, 5, 5, 6, 6, 4, 3)"
      ]
     },
     "execution_count": 70,
     "metadata": {},
     "output_type": "execute_result"
    }
   ],
   "source": [
    "nos(10,20,30,40,34,4,5,5,5,6,6,4,3)"
   ]
  },
  {
   "cell_type": "code",
   "execution_count": 71,
   "id": "3baf9253-a30b-4cbb-b12d-8f6941a390f4",
   "metadata": {},
   "outputs": [],
   "source": [
    "def nos (*a):\n",
    "    print(type(a))\n",
    "    return sum(a)"
   ]
  },
  {
   "cell_type": "code",
   "execution_count": 72,
   "id": "512d4e94-36d3-420e-9fc5-4dd0d4e2a558",
   "metadata": {},
   "outputs": [
    {
     "name": "stdout",
     "output_type": "stream",
     "text": [
      "<class 'tuple'>\n"
     ]
    },
    {
     "data": {
      "text/plain": [
       "172"
      ]
     },
     "execution_count": 72,
     "metadata": {},
     "output_type": "execute_result"
    }
   ],
   "source": [
    "nos(10,20,30,40,34,4,5,5,5,6,6,4,3)"
   ]
  },
  {
   "cell_type": "code",
   "execution_count": 73,
   "id": "1289ced5-d278-44f0-8761-d6ba6aaee616",
   "metadata": {},
   "outputs": [],
   "source": [
    "def nos (*a):\n",
    "    mul=1\n",
    "    for i in a:\n",
    "        mul=mul*i\n",
    "    return mul"
   ]
  },
  {
   "cell_type": "code",
   "execution_count": 74,
   "id": "fa64456d-1304-4e2c-bfad-94dd35c94713",
   "metadata": {},
   "outputs": [
    {
     "data": {
      "text/plain": [
       "240000"
      ]
     },
     "execution_count": 74,
     "metadata": {},
     "output_type": "execute_result"
    }
   ],
   "source": [
    "nos(10,20,30,40)"
   ]
  },
  {
   "cell_type": "code",
   "execution_count": 75,
   "id": "c7b56122-0a3c-4e84-ba80-c5e75c7a14ad",
   "metadata": {},
   "outputs": [],
   "source": [
    "def greet(name, msg=\"Good norning\"):\n",
    "    print(\"Hello\",name,msg)"
   ]
  },
  {
   "cell_type": "code",
   "execution_count": 77,
   "id": "0284a0bb-32a6-4ee9-ac6d-b4a9e13b0e86",
   "metadata": {},
   "outputs": [
    {
     "name": "stdout",
     "output_type": "stream",
     "text": [
      "Hello Ivan Good norning\n"
     ]
    }
   ],
   "source": [
    "greet(\"Ivan\")"
   ]
  },
  {
   "cell_type": "code",
   "execution_count": 78,
   "id": "d5ba4599-325f-448a-8013-69c05e2fb8fd",
   "metadata": {},
   "outputs": [
    {
     "name": "stdout",
     "output_type": "stream",
     "text": [
      "Hello Ivan Have a nice day\n"
     ]
    }
   ],
   "source": [
    "greet(\"Ivan\", \"Have a nice day\") #overwrite"
   ]
  },
  {
   "cell_type": "code",
   "execution_count": 80,
   "id": "e749aaff-fc85-4432-a014-09a803ed69ae",
   "metadata": {},
   "outputs": [],
   "source": [
    "def cal_area(radius, pi=3.14):\n",
    "    square=pi*radius**2\n",
    "    print(\"The square is\", square)"
   ]
  },
  {
   "cell_type": "code",
   "execution_count": 81,
   "id": "94a4773d-f669-4ae9-93e0-b919fb79d777",
   "metadata": {},
   "outputs": [
    {
     "name": "stdout",
     "output_type": "stream",
     "text": [
      "The square is 12.56\n"
     ]
    }
   ],
   "source": [
    "cal_area(2)"
   ]
  },
  {
   "cell_type": "code",
   "execution_count": 95,
   "id": "a3fb49d3-08b8-4c1d-82f4-e671d0683d2d",
   "metadata": {},
   "outputs": [],
   "source": [
    "def find_largest(*a):    \n",
    "    return len(max(a, key=len))"
   ]
  },
  {
   "cell_type": "code",
   "execution_count": 96,
   "id": "41aef749-d327-4ce8-ae7a-a2e904a92970",
   "metadata": {},
   "outputs": [
    {
     "data": {
      "text/plain": [
       "13"
      ]
     },
     "execution_count": 96,
     "metadata": {},
     "output_type": "execute_result"
    }
   ],
   "source": [
    "find_largest(\"aaaaaa\", \"bbbbbbbb\", \"aaaaaaaaaaaaa\")"
   ]
  },
  {
   "cell_type": "code",
   "execution_count": null,
   "id": "1c766732-339e-46ca-943e-c89eaa3e7e47",
   "metadata": {},
   "outputs": [],
   "source": []
  }
 ],
 "metadata": {
  "kernelspec": {
   "display_name": "Python 3 (ipykernel)",
   "language": "python",
   "name": "python3"
  },
  "language_info": {
   "codemirror_mode": {
    "name": "ipython",
    "version": 3
   },
   "file_extension": ".py",
   "mimetype": "text/x-python",
   "name": "python",
   "nbconvert_exporter": "python",
   "pygments_lexer": "ipython3",
   "version": "3.10.6"
  }
 },
 "nbformat": 4,
 "nbformat_minor": 5
}
