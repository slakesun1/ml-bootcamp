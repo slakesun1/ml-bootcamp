{
 "cells": [
  {
   "cell_type": "code",
   "execution_count": 2,
   "id": "bee9142b-625f-48be-b1a0-dd8a95c1ea1a",
   "metadata": {},
   "outputs": [
    {
     "name": "stdout",
     "output_type": "stream",
     "text": [
      "i\n",
      "m\n",
      "r\n",
      "a\n",
      "n\n"
     ]
    }
   ],
   "source": [
    "word=\"imran\"\n",
    "for na in word:\n",
    "    print (na)"
   ]
  },
  {
   "cell_type": "code",
   "execution_count": 3,
   "id": "d4514d2a-cc0a-41d6-bfd5-67fb90202777",
   "metadata": {},
   "outputs": [],
   "source": [
    "x=[1,2,3,\"a\"]"
   ]
  },
  {
   "cell_type": "code",
   "execution_count": 4,
   "id": "26e41084-ab11-4c55-8eb3-d51877dfcf42",
   "metadata": {},
   "outputs": [
    {
     "data": {
      "text/plain": [
       "list"
      ]
     },
     "execution_count": 4,
     "metadata": {},
     "output_type": "execute_result"
    }
   ],
   "source": [
    "type(x)"
   ]
  },
  {
   "cell_type": "code",
   "execution_count": 5,
   "id": "0c88595c-3cb4-4b46-b2d5-c8610898cd0f",
   "metadata": {},
   "outputs": [
    {
     "name": "stdout",
     "output_type": "stream",
     "text": [
      "1\n",
      "2\n",
      "3\n",
      "a\n"
     ]
    }
   ],
   "source": [
    "for y in x:\n",
    "    print(y)"
   ]
  },
  {
   "cell_type": "code",
   "execution_count": 6,
   "id": "83b1ec8a-6262-4037-b2be-652ca44ea663",
   "metadata": {},
   "outputs": [
    {
     "data": {
      "text/plain": [
       "range(0, 10)"
      ]
     },
     "execution_count": 6,
     "metadata": {},
     "output_type": "execute_result"
    }
   ],
   "source": [
    "range(10)"
   ]
  },
  {
   "cell_type": "markdown",
   "id": "0924aece-1634-43ab-b89f-b1a3a4a7de17",
   "metadata": {},
   "source": [
    "# range(start,stop,step)"
   ]
  },
  {
   "cell_type": "code",
   "execution_count": 9,
   "id": "1b94811b-f7ba-409c-ace7-bc227f6e730a",
   "metadata": {},
   "outputs": [
    {
     "name": "stdout",
     "output_type": "stream",
     "text": [
      "range(1, 20, 2)\n"
     ]
    }
   ],
   "source": [
    "a=range(1,20,2)\n",
    "print(a)"
   ]
  },
  {
   "cell_type": "code",
   "execution_count": 10,
   "id": "075964e3-4b98-41ee-810b-e53c830eb683",
   "metadata": {},
   "outputs": [
    {
     "data": {
      "text/plain": [
       "[1, 3, 5, 7, 9, 11, 13, 15, 17, 19]"
      ]
     },
     "execution_count": 10,
     "metadata": {},
     "output_type": "execute_result"
    }
   ],
   "source": [
    "list(a)"
   ]
  },
  {
   "cell_type": "code",
   "execution_count": 11,
   "id": "fb00752f-03a5-4f4b-8883-e8d740401929",
   "metadata": {},
   "outputs": [
    {
     "name": "stdout",
     "output_type": "stream",
     "text": [
      "1\n",
      "3\n",
      "5\n",
      "7\n",
      "9\n",
      "11\n",
      "13\n",
      "15\n",
      "17\n",
      "19\n"
     ]
    }
   ],
   "source": [
    "for i in a:\n",
    "    print(i)"
   ]
  },
  {
   "cell_type": "code",
   "execution_count": 12,
   "id": "18592735-85a3-40cd-b552-b0c434e8e52a",
   "metadata": {},
   "outputs": [
    {
     "data": {
      "text/plain": [
       "[]"
      ]
     },
     "execution_count": 12,
     "metadata": {},
     "output_type": "execute_result"
    }
   ],
   "source": [
    "x=range(-10)\n",
    "list(x)"
   ]
  },
  {
   "cell_type": "code",
   "execution_count": 16,
   "id": "aad34a37-5e88-4a42-9e02-a52771bf5fa9",
   "metadata": {},
   "outputs": [
    {
     "data": {
      "text/plain": [
       "[-10, -11, -12, -13, -14, -15, -16, -17, -18, -19]"
      ]
     },
     "execution_count": 16,
     "metadata": {},
     "output_type": "execute_result"
    }
   ],
   "source": [
    "x=range(-10,-20,-1)\n",
    "list(x)"
   ]
  },
  {
   "cell_type": "code",
   "execution_count": 17,
   "id": "1934bf73-ef43-4577-8714-867cb599bc2a",
   "metadata": {},
   "outputs": [],
   "source": [
    "x=range(-10,3)"
   ]
  },
  {
   "cell_type": "code",
   "execution_count": 18,
   "id": "77b191cd-d7bb-4245-9498-3131ad311884",
   "metadata": {},
   "outputs": [
    {
     "data": {
      "text/plain": [
       "[-10, -9, -8, -7, -6, -5, -4, -3, -2, -1, 0, 1, 2]"
      ]
     },
     "execution_count": 18,
     "metadata": {},
     "output_type": "execute_result"
    }
   ],
   "source": [
    "list(x)"
   ]
  },
  {
   "cell_type": "code",
   "execution_count": 19,
   "id": "883bdaff-f2f1-4843-9ae9-2e08a05955a3",
   "metadata": {},
   "outputs": [
    {
     "data": {
      "text/plain": [
       "[5]"
      ]
     },
     "execution_count": 19,
     "metadata": {},
     "output_type": "execute_result"
    }
   ],
   "source": [
    "x=range(5,10,20)\n",
    "list(x)"
   ]
  },
  {
   "cell_type": "code",
   "execution_count": 20,
   "id": "4a302ded-54d8-44f8-a4ec-5dcac3a4e198",
   "metadata": {},
   "outputs": [
    {
     "name": "stdin",
     "output_type": "stream",
     "text": [
      "Enter the number: 3\n"
     ]
    },
    {
     "name": "stdout",
     "output_type": "stream",
     "text": [
      "Sum of number from 1 to 3 is 6\n"
     ]
    }
   ],
   "source": [
    "num=int(input(\"Enter the number:\"))\n",
    "total=0\n",
    "for i in range(1, num+1):\n",
    "    total=total+i\n",
    "print(\"Sum of number from 1 to {} is {}\".format(num,total))\n",
    "              "
   ]
  },
  {
   "cell_type": "code",
   "execution_count": 21,
   "id": "88d49ed3-c265-45ef-8359-0c50d320d7e5",
   "metadata": {},
   "outputs": [
    {
     "name": "stdout",
     "output_type": "stream",
     "text": [
      "1\n",
      "a\n",
      "b\n",
      "c\n",
      "2\n",
      "a\n",
      "b\n",
      "c\n",
      "3\n",
      "a\n",
      "b\n",
      "c\n"
     ]
    }
   ],
   "source": [
    "numbers=[1,2,3]\n",
    "alpha=[\"a\", \"b\", \"c\"]\n",
    "for n in numbers:\n",
    "    print(n)\n",
    "    for ch in alpha:\n",
    "        print(ch)"
   ]
  },
  {
   "cell_type": "code",
   "execution_count": 36,
   "id": "26686fb4-c9da-4b1a-8e63-956db46827e6",
   "metadata": {},
   "outputs": [
    {
     "name": "stdout",
     "output_type": "stream",
     "text": [
      "\n",
      "* * * \n",
      "* * * \n",
      "* * * "
     ]
    }
   ],
   "source": [
    "rows=range(1,4)\n",
    "columns=range(1,4)\n",
    "for i in columns:\n",
    "    print(\"\")\n",
    "    for j in rows:\n",
    "        print(\"*\", end= \" \")"
   ]
  },
  {
   "cell_type": "code",
   "execution_count": 38,
   "id": "55578c3d-b2b7-4d84-9fea-d5451aa5e257",
   "metadata": {},
   "outputs": [
    {
     "name": "stdout",
     "output_type": "stream",
     "text": [
      "* * * \n",
      "* * * \n",
      "* * * \n"
     ]
    }
   ],
   "source": [
    "for i in range(3):\n",
    "    for j in range(3):\n",
    "        print(\"*\", end= \" \")\n",
    "    print(\"\")"
   ]
  },
  {
   "cell_type": "code",
   "execution_count": 43,
   "id": "eb9bcf0b-c586-4ef1-980f-b659c7927625",
   "metadata": {},
   "outputs": [
    {
     "name": "stdout",
     "output_type": "stream",
     "text": [
      "* \n",
      "* * \n",
      "* * * \n",
      "* * * * \n"
     ]
    }
   ],
   "source": [
    "for i in range(4):\n",
    "    for j in range(i+1):\n",
    "        print(\"*\", end= \" \")\n",
    "    print(\"\")"
   ]
  },
  {
   "cell_type": "code",
   "execution_count": null,
   "id": "c201ca4e-728b-47f4-9bde-6a95ed7af877",
   "metadata": {},
   "outputs": [],
   "source": []
  }
 ],
 "metadata": {
  "kernelspec": {
   "display_name": "Python 3 (ipykernel)",
   "language": "python",
   "name": "python3"
  },
  "language_info": {
   "codemirror_mode": {
    "name": "ipython",
    "version": 3
   },
   "file_extension": ".py",
   "mimetype": "text/x-python",
   "name": "python",
   "nbconvert_exporter": "python",
   "pygments_lexer": "ipython3",
   "version": "3.10.6"
  }
 },
 "nbformat": 4,
 "nbformat_minor": 5
}
