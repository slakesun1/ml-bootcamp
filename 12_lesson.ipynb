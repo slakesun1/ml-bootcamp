{
 "cells": [
  {
   "cell_type": "code",
   "execution_count": 1,
   "id": "971fb692-62cd-46aa-9692-5237eb828bc5",
   "metadata": {},
   "outputs": [],
   "source": [
    "mystring='vanya'"
   ]
  },
  {
   "cell_type": "code",
   "execution_count": 2,
   "id": "8fb753ce-d696-461e-82fa-c5b86f944ee0",
   "metadata": {},
   "outputs": [
    {
     "name": "stdout",
     "output_type": "stream",
     "text": [
      "vanya\n"
     ]
    }
   ],
   "source": [
    "print(mystring)"
   ]
  },
  {
   "cell_type": "code",
   "execution_count": 3,
   "id": "915d822f-71c2-455c-9edb-1c2525f06793",
   "metadata": {},
   "outputs": [
    {
     "data": {
      "text/plain": [
       "'vanya'"
      ]
     },
     "execution_count": 3,
     "metadata": {},
     "output_type": "execute_result"
    }
   ],
   "source": [
    "mystring"
   ]
  },
  {
   "cell_type": "code",
   "execution_count": 4,
   "id": "c02258b1-a1fe-4fbd-bac0-3fd915a86f4f",
   "metadata": {},
   "outputs": [],
   "source": [
    "mystring2=\"\"\"I\n",
    "love\n",
    "python\"\"\""
   ]
  },
  {
   "cell_type": "code",
   "execution_count": 5,
   "id": "5f773b40-7927-4a02-b643-6a9b2c6ab5da",
   "metadata": {},
   "outputs": [
    {
     "data": {
      "text/plain": [
       "'I\\nlove\\npython'"
      ]
     },
     "execution_count": 5,
     "metadata": {},
     "output_type": "execute_result"
    }
   ],
   "source": [
    "mystring2"
   ]
  },
  {
   "cell_type": "code",
   "execution_count": 6,
   "id": "5a0f610e-3759-456f-862d-69ef6c9506bd",
   "metadata": {},
   "outputs": [
    {
     "name": "stdout",
     "output_type": "stream",
     "text": [
      "I\n",
      "love\n",
      "python\n"
     ]
    }
   ],
   "source": [
    "print(mystring2)"
   ]
  },
  {
   "cell_type": "code",
   "execution_count": 7,
   "id": "bbd91ddb-8c19-4945-b4d8-0a448982d71a",
   "metadata": {},
   "outputs": [],
   "source": [
    "#wap to take input from user and print it in reverse order\n",
    "\n",
    "#do not use slicing operator"
   ]
  },
  {
   "cell_type": "code",
   "execution_count": 21,
   "id": "2639bd29-8c78-406b-95ce-2bed77317a1a",
   "metadata": {},
   "outputs": [
    {
     "name": "stdin",
     "output_type": "stream",
     "text": [
      "Enter the string vanya\n"
     ]
    },
    {
     "name": "stdout",
     "output_type": "stream",
     "text": [
      "a\n",
      "y\n",
      "n\n",
      "a\n",
      "v\n"
     ]
    }
   ],
   "source": [
    "mystring=input(\"Enter the string\")\n",
    "for i in range(len(mystring)-1,-1,-1):\n",
    "    print(mystring[i])"
   ]
  },
  {
   "cell_type": "code",
   "execution_count": 22,
   "id": "2d1c55a1-44a8-4be4-809d-c893a92b87b0",
   "metadata": {},
   "outputs": [
    {
     "data": {
      "text/plain": [
       "range(1, 10)"
      ]
     },
     "execution_count": 22,
     "metadata": {},
     "output_type": "execute_result"
    }
   ],
   "source": [
    "range(1,10)"
   ]
  },
  {
   "cell_type": "code",
   "execution_count": 23,
   "id": "a63fa10b-d652-4034-ad36-efb1099b0e73",
   "metadata": {},
   "outputs": [
    {
     "data": {
      "text/plain": [
       "[1, 2, 3, 4, 5, 6, 7, 8, 9]"
      ]
     },
     "execution_count": 23,
     "metadata": {},
     "output_type": "execute_result"
    }
   ],
   "source": [
    "list(range(1,10))"
   ]
  },
  {
   "cell_type": "code",
   "execution_count": 24,
   "id": "682039dd-b7d2-40ce-8138-51eeb2c29d0e",
   "metadata": {},
   "outputs": [
    {
     "data": {
      "text/plain": [
       "[10, 9, 8, 7, 6, 5, 4, 3, 2]"
      ]
     },
     "execution_count": 24,
     "metadata": {},
     "output_type": "execute_result"
    }
   ],
   "source": [
    "list(range(10,1,-1))"
   ]
  },
  {
   "cell_type": "code",
   "execution_count": 25,
   "id": "204f81ea-e221-43af-b06a-46044551c263",
   "metadata": {},
   "outputs": [
    {
     "data": {
      "text/plain": [
       "'sunnysavita'"
      ]
     },
     "execution_count": 25,
     "metadata": {},
     "output_type": "execute_result"
    }
   ],
   "source": [
    "\"sunny\"+\"savita\""
   ]
  },
  {
   "cell_type": "code",
   "execution_count": 26,
   "id": "d94d6c87-03ec-4b28-abf9-75572ece76bb",
   "metadata": {},
   "outputs": [
    {
     "data": {
      "text/plain": [
       "'sunnysunny'"
      ]
     },
     "execution_count": 26,
     "metadata": {},
     "output_type": "execute_result"
    }
   ],
   "source": [
    "\"sunny\"*2"
   ]
  },
  {
   "cell_type": "code",
   "execution_count": 27,
   "id": "34caca16-0992-4e34-9511-95a74e0b10d0",
   "metadata": {},
   "outputs": [
    {
     "data": {
      "text/plain": [
       "'banana'"
      ]
     },
     "execution_count": 27,
     "metadata": {},
     "output_type": "execute_result"
    }
   ],
   "source": [
    "\"ba\"+\"na\"*2"
   ]
  },
  {
   "cell_type": "code",
   "execution_count": 28,
   "id": "8bb56a70-bbbd-45e1-8220-42524f5094c2",
   "metadata": {},
   "outputs": [],
   "source": [
    "mystring=\"I love my country\""
   ]
  },
  {
   "cell_type": "code",
   "execution_count": 29,
   "id": "8982d982-b98c-46ab-a06d-74a29c2f7e4c",
   "metadata": {},
   "outputs": [
    {
     "data": {
      "text/plain": [
       "True"
      ]
     },
     "execution_count": 29,
     "metadata": {},
     "output_type": "execute_result"
    }
   ],
   "source": [
    "\"my\" in mystring"
   ]
  },
  {
   "cell_type": "code",
   "execution_count": 30,
   "id": "2d5a7813-d4fb-4427-87ca-27e5eca6a6f9",
   "metadata": {},
   "outputs": [
    {
     "data": {
      "text/plain": [
       "False"
      ]
     },
     "execution_count": 30,
     "metadata": {},
     "output_type": "execute_result"
    }
   ],
   "source": [
    "\"you\" in mystring"
   ]
  },
  {
   "cell_type": "code",
   "execution_count": 2,
   "id": "034297ce-2153-4282-af96-3c6898b97d8c",
   "metadata": {},
   "outputs": [],
   "source": [
    "mystring=\"sunny savita\""
   ]
  },
  {
   "cell_type": "markdown",
   "id": "d0be9de1-1b86-4344-bccf-d339a357930a",
   "metadata": {},
   "source": [
    "# functions"
   ]
  },
  {
   "cell_type": "code",
   "execution_count": 3,
   "id": "78d2216f-0a0e-4f4b-b0ee-cc972b0d3547",
   "metadata": {},
   "outputs": [
    {
     "name": "stdout",
     "output_type": "stream",
     "text": [
      "12\n"
     ]
    }
   ],
   "source": [
    "print(len(mystring))"
   ]
  },
  {
   "cell_type": "code",
   "execution_count": 4,
   "id": "e762f152-82ce-4442-a30c-cface2203859",
   "metadata": {},
   "outputs": [
    {
     "data": {
      "text/plain": [
       "'y'"
      ]
     },
     "execution_count": 4,
     "metadata": {},
     "output_type": "execute_result"
    }
   ],
   "source": [
    "max(mystring)"
   ]
  },
  {
   "cell_type": "code",
   "execution_count": 5,
   "id": "c7a111ae-3e3f-4eb8-92b8-1d92b8c86da1",
   "metadata": {},
   "outputs": [
    {
     "data": {
      "text/plain": [
       "' '"
      ]
     },
     "execution_count": 5,
     "metadata": {},
     "output_type": "execute_result"
    }
   ],
   "source": [
    "min(mystring)"
   ]
  },
  {
   "cell_type": "raw",
   "id": "cbfb4577-d9d3-47b6-92a8-1fb72de00190",
   "metadata": {},
   "source": []
  },
  {
   "cell_type": "code",
   "execution_count": 6,
   "id": "623a97de-7bc2-4a5f-8c75-0dbebd26c373",
   "metadata": {},
   "outputs": [
    {
     "data": {
      "text/plain": [
       "32"
      ]
     },
     "execution_count": 6,
     "metadata": {},
     "output_type": "execute_result"
    }
   ],
   "source": [
    "ord (\" \")"
   ]
  },
  {
   "cell_type": "code",
   "execution_count": 7,
   "id": "150addf5-e07f-4faa-9ab7-e1956278df29",
   "metadata": {},
   "outputs": [
    {
     "ename": "TypeError",
     "evalue": "ord() expected a character, but string of length 12 found",
     "output_type": "error",
     "traceback": [
      "\u001b[0;31m---------------------------------------------------------------------------\u001b[0m",
      "\u001b[0;31mTypeError\u001b[0m                                 Traceback (most recent call last)",
      "Cell \u001b[0;32mIn [7], line 1\u001b[0m\n\u001b[0;32m----> 1\u001b[0m \u001b[38;5;28;43mord\u001b[39;49m\u001b[43m(\u001b[49m\u001b[43mmystring\u001b[49m\u001b[43m)\u001b[49m\n",
      "\u001b[0;31mTypeError\u001b[0m: ord() expected a character, but string of length 12 found"
     ]
    }
   ],
   "source": [
    "ord(mystring)"
   ]
  },
  {
   "cell_type": "code",
   "execution_count": 8,
   "id": "ca5847b0-60ab-4e33-a005-83b3dbd244dc",
   "metadata": {},
   "outputs": [
    {
     "data": {
      "text/plain": [
       "' '"
      ]
     },
     "execution_count": 8,
     "metadata": {},
     "output_type": "execute_result"
    }
   ],
   "source": [
    "chr(32)"
   ]
  },
  {
   "cell_type": "code",
   "execution_count": 9,
   "id": "f1b5c10f-df11-4898-8b30-336338358c35",
   "metadata": {},
   "outputs": [
    {
     "data": {
      "text/plain": [
       "','"
      ]
     },
     "execution_count": 9,
     "metadata": {},
     "output_type": "execute_result"
    }
   ],
   "source": [
    "chr(44)"
   ]
  },
  {
   "cell_type": "markdown",
   "id": "fa703b59-f4ea-4976-b21f-47e351c34aec",
   "metadata": {},
   "source": [
    "# methods"
   ]
  },
  {
   "cell_type": "code",
   "execution_count": 11,
   "id": "fb25526d-75ac-4355-9178-4b92ad4e337c",
   "metadata": {},
   "outputs": [
    {
     "name": "stdout",
     "output_type": "stream",
     "text": [
      "Ivan tseretyan\n"
     ]
    }
   ],
   "source": [
    "name=\"ivan Tseretyan\"\n",
    "newname=name.capitalize()\n",
    "print(newname)"
   ]
  },
  {
   "cell_type": "code",
   "execution_count": 12,
   "id": "bd52252d-5094-4e7a-b9bf-7dcaa0442b56",
   "metadata": {},
   "outputs": [],
   "source": [
    "newname=name.lower()"
   ]
  },
  {
   "cell_type": "code",
   "execution_count": 13,
   "id": "101b6bab-9f8d-48c6-a6ca-c49504118db6",
   "metadata": {},
   "outputs": [
    {
     "data": {
      "text/plain": [
       "'ivan tseretyan'"
      ]
     },
     "execution_count": 13,
     "metadata": {},
     "output_type": "execute_result"
    }
   ],
   "source": [
    "newname"
   ]
  },
  {
   "cell_type": "code",
   "execution_count": 14,
   "id": "e2f459d8-04fb-41e5-8e98-85caf68fa82e",
   "metadata": {},
   "outputs": [],
   "source": [
    "newname=name.upper()"
   ]
  },
  {
   "cell_type": "code",
   "execution_count": 15,
   "id": "8d62cc4f-6f51-4377-922b-49ee2f7b96ce",
   "metadata": {},
   "outputs": [
    {
     "data": {
      "text/plain": [
       "'IVAN TSERETYAN'"
      ]
     },
     "execution_count": 15,
     "metadata": {},
     "output_type": "execute_result"
    }
   ],
   "source": [
    "newname"
   ]
  },
  {
   "cell_type": "code",
   "execution_count": 16,
   "id": "084560ed-dca7-4900-bd0c-4bf8a349c205",
   "metadata": {},
   "outputs": [],
   "source": [
    "newname=\"iVAn TseRetyAN\""
   ]
  },
  {
   "cell_type": "code",
   "execution_count": 18,
   "id": "150b036c-5469-4e38-b542-7e8775370f5d",
   "metadata": {},
   "outputs": [],
   "source": [
    "name=newname.swapcase()"
   ]
  },
  {
   "cell_type": "code",
   "execution_count": 19,
   "id": "4e0ee43e-671d-4fd9-a3c4-17ef0bc61bb5",
   "metadata": {},
   "outputs": [
    {
     "data": {
      "text/plain": [
       "'IvaN tSErETYan'"
      ]
     },
     "execution_count": 19,
     "metadata": {},
     "output_type": "execute_result"
    }
   ],
   "source": [
    "name"
   ]
  },
  {
   "cell_type": "code",
   "execution_count": 20,
   "id": "6014a4ba-0339-4707-b2be-54412bfef309",
   "metadata": {},
   "outputs": [],
   "source": [
    "newname=\"iVAn TseRetyAN\""
   ]
  },
  {
   "cell_type": "code",
   "execution_count": 21,
   "id": "ffde71da-1c98-43f8-b70a-da317769a57c",
   "metadata": {},
   "outputs": [],
   "source": [
    "name=newname.title()"
   ]
  },
  {
   "cell_type": "code",
   "execution_count": 22,
   "id": "51cac98d-1e1e-4924-a192-b8378a149adc",
   "metadata": {},
   "outputs": [
    {
     "data": {
      "text/plain": [
       "'Ivan Tseretyan'"
      ]
     },
     "execution_count": 22,
     "metadata": {},
     "output_type": "execute_result"
    }
   ],
   "source": [
    "name"
   ]
  },
  {
   "cell_type": "code",
   "execution_count": 23,
   "id": "3cf247c8-5380-482e-ada4-12bd36240d0e",
   "metadata": {},
   "outputs": [],
   "source": [
    "newname=\"i Love jaNe\""
   ]
  },
  {
   "cell_type": "code",
   "execution_count": 24,
   "id": "c9536bb5-6a0e-4c31-9424-19ad82d2f141",
   "metadata": {},
   "outputs": [],
   "source": [
    "name=newname.title()"
   ]
  },
  {
   "cell_type": "code",
   "execution_count": 25,
   "id": "8b070bc8-731f-40ae-9dd2-e887aafdbb1c",
   "metadata": {},
   "outputs": [
    {
     "data": {
      "text/plain": [
       "'I Love Jane'"
      ]
     },
     "execution_count": 25,
     "metadata": {},
     "output_type": "execute_result"
    }
   ],
   "source": [
    "name"
   ]
  },
  {
   "cell_type": "code",
   "execution_count": 26,
   "id": "bf50546b-895e-4d7b-a573-1101cecf8529",
   "metadata": {},
   "outputs": [],
   "source": [
    "text=\"this is good\""
   ]
  },
  {
   "cell_type": "code",
   "execution_count": 27,
   "id": "23d3a7a3-f8a9-4c68-8a5a-235ab035211e",
   "metadata": {},
   "outputs": [
    {
     "data": {
      "text/plain": [
       "True"
      ]
     },
     "execution_count": 27,
     "metadata": {},
     "output_type": "execute_result"
    }
   ],
   "source": [
    "text.islower()"
   ]
  },
  {
   "cell_type": "code",
   "execution_count": 28,
   "id": "42b6357d-0d6a-4ae9-8ff8-0aafccd85984",
   "metadata": {},
   "outputs": [
    {
     "data": {
      "text/plain": [
       "False"
      ]
     },
     "execution_count": 28,
     "metadata": {},
     "output_type": "execute_result"
    }
   ],
   "source": [
    "text.isupper()"
   ]
  },
  {
   "cell_type": "code",
   "execution_count": 29,
   "id": "d1ab76da-e70c-4cfa-9f7f-8cff954f152c",
   "metadata": {},
   "outputs": [],
   "source": [
    "text=\"This is good\""
   ]
  },
  {
   "cell_type": "code",
   "execution_count": 30,
   "id": "f9d90987-b486-4fc2-a58b-b15d2c8e68eb",
   "metadata": {},
   "outputs": [
    {
     "data": {
      "text/plain": [
       "False"
      ]
     },
     "execution_count": 30,
     "metadata": {},
     "output_type": "execute_result"
    }
   ],
   "source": [
    "text.islower()"
   ]
  },
  {
   "cell_type": "code",
   "execution_count": 31,
   "id": "6910ab54-98b0-4d85-b36f-7ebbfa546bf6",
   "metadata": {},
   "outputs": [
    {
     "data": {
      "text/plain": [
       "False"
      ]
     },
     "execution_count": 31,
     "metadata": {},
     "output_type": "execute_result"
    }
   ],
   "source": [
    "text.isupper()"
   ]
  },
  {
   "cell_type": "code",
   "execution_count": 32,
   "id": "3f7850a0-fe98-425e-8a3e-6c124b21950b",
   "metadata": {},
   "outputs": [],
   "source": [
    "text=\"ahahajak ajakjkss sls\""
   ]
  },
  {
   "cell_type": "code",
   "execution_count": 33,
   "id": "55814e71-423c-445f-bf11-fcab8b626013",
   "metadata": {},
   "outputs": [
    {
     "data": {
      "text/plain": [
       "False"
      ]
     },
     "execution_count": 33,
     "metadata": {},
     "output_type": "execute_result"
    }
   ],
   "source": [
    "text.isalpha()"
   ]
  },
  {
   "cell_type": "code",
   "execution_count": 34,
   "id": "83c8b8d6-e996-4ba5-ab31-228f06448255",
   "metadata": {},
   "outputs": [],
   "source": [
    "text=\"ahahajakajakjksssls\""
   ]
  },
  {
   "cell_type": "code",
   "execution_count": 35,
   "id": "336d97df-d8b2-4abc-a291-9c8129cac8c8",
   "metadata": {},
   "outputs": [
    {
     "data": {
      "text/plain": [
       "True"
      ]
     },
     "execution_count": 35,
     "metadata": {},
     "output_type": "execute_result"
    }
   ],
   "source": [
    "text.isalpha()"
   ]
  },
  {
   "cell_type": "code",
   "execution_count": 36,
   "id": "8ae7e8a1-727f-4236-9e96-349b191daaf4",
   "metadata": {},
   "outputs": [],
   "source": [
    "text=\"1234555\""
   ]
  },
  {
   "cell_type": "code",
   "execution_count": 37,
   "id": "64c52e03-6913-436d-9932-327fea2179c7",
   "metadata": {},
   "outputs": [
    {
     "data": {
      "text/plain": [
       "True"
      ]
     },
     "execution_count": 37,
     "metadata": {},
     "output_type": "execute_result"
    }
   ],
   "source": [
    "text.isdigit()"
   ]
  },
  {
   "cell_type": "code",
   "execution_count": 38,
   "id": "cb73e6ae-49f3-4aa0-a9a4-2992113482a8",
   "metadata": {},
   "outputs": [
    {
     "ename": "AttributeError",
     "evalue": "'str' object has no attribute 'startwith'",
     "output_type": "error",
     "traceback": [
      "\u001b[0;31m---------------------------------------------------------------------------\u001b[0m",
      "\u001b[0;31mAttributeError\u001b[0m                            Traceback (most recent call last)",
      "Cell \u001b[0;32mIn [38], line 1\u001b[0m\n\u001b[0;32m----> 1\u001b[0m \u001b[43mtext\u001b[49m\u001b[38;5;241;43m.\u001b[39;49m\u001b[43mstartwith\u001b[49m(\u001b[38;5;124m\"\u001b[39m\u001b[38;5;124m1\u001b[39m\u001b[38;5;124m\"\u001b[39m)\n",
      "\u001b[0;31mAttributeError\u001b[0m: 'str' object has no attribute 'startwith'"
     ]
    }
   ],
   "source": [
    "text.startwith(\"1\")"
   ]
  },
  {
   "cell_type": "code",
   "execution_count": 39,
   "id": "6d1f83de-ce9c-4852-ad15-c1f42d35e9d6",
   "metadata": {},
   "outputs": [],
   "source": [
    "text=\"i love machine learning\""
   ]
  },
  {
   "cell_type": "code",
   "execution_count": 41,
   "id": "eae7c03e-ad6a-4315-84a2-c9562303ab6e",
   "metadata": {},
   "outputs": [
    {
     "data": {
      "text/plain": [
       "False"
      ]
     },
     "execution_count": 41,
     "metadata": {},
     "output_type": "execute_result"
    }
   ],
   "source": [
    "text.startswith(\"love\")"
   ]
  },
  {
   "cell_type": "code",
   "execution_count": 42,
   "id": "b99454a3-2040-4d7c-9b8d-ad30a3aa6b8d",
   "metadata": {},
   "outputs": [
    {
     "data": {
      "text/plain": [
       "True"
      ]
     },
     "execution_count": 42,
     "metadata": {},
     "output_type": "execute_result"
    }
   ],
   "source": [
    "text.startswith(\"i\")"
   ]
  },
  {
   "cell_type": "code",
   "execution_count": 44,
   "id": "fd404153-81c9-47e4-9a29-24796da31ba3",
   "metadata": {},
   "outputs": [
    {
     "data": {
      "text/plain": [
       "True"
      ]
     },
     "execution_count": 44,
     "metadata": {},
     "output_type": "execute_result"
    }
   ],
   "source": [
    "text.endswith(\"g\")"
   ]
  },
  {
   "cell_type": "code",
   "execution_count": 45,
   "id": "5b97d5c3-6db3-4ca6-961b-d007c96d41ba",
   "metadata": {},
   "outputs": [
    {
     "data": {
      "text/plain": [
       "True"
      ]
     },
     "execution_count": 45,
     "metadata": {},
     "output_type": "execute_result"
    }
   ],
   "source": [
    "text.endswith(\"learning\")"
   ]
  },
  {
   "cell_type": "code",
   "execution_count": 46,
   "id": "d06ff0ce-2f8e-4d61-b147-7e6a86455ff9",
   "metadata": {},
   "outputs": [],
   "source": [
    "text=\"sunday is funday\""
   ]
  },
  {
   "cell_type": "code",
   "execution_count": 47,
   "id": "d73fd960-9a5c-409b-af84-45746cacdff3",
   "metadata": {},
   "outputs": [
    {
     "data": {
      "text/plain": [
       "10"
      ]
     },
     "execution_count": 47,
     "metadata": {},
     "output_type": "execute_result"
    }
   ],
   "source": [
    "text.index(\"fun\")"
   ]
  },
  {
   "cell_type": "code",
   "execution_count": 48,
   "id": "91923378-3513-4f52-8dac-eaa4b8fd5058",
   "metadata": {},
   "outputs": [
    {
     "ename": "ValueError",
     "evalue": "substring not found",
     "output_type": "error",
     "traceback": [
      "\u001b[0;31m---------------------------------------------------------------------------\u001b[0m",
      "\u001b[0;31mValueError\u001b[0m                                Traceback (most recent call last)",
      "Cell \u001b[0;32mIn [48], line 1\u001b[0m\n\u001b[0;32m----> 1\u001b[0m \u001b[43mtext\u001b[49m\u001b[38;5;241;43m.\u001b[39;49m\u001b[43mindex\u001b[49m\u001b[43m(\u001b[49m\u001b[38;5;124;43m\"\u001b[39;49m\u001b[38;5;124;43m3673\u001b[39;49m\u001b[38;5;124;43m\"\u001b[39;49m\u001b[43m)\u001b[49m\n",
      "\u001b[0;31mValueError\u001b[0m: substring not found"
     ]
    }
   ],
   "source": [
    "text.index(\"3673\")"
   ]
  },
  {
   "cell_type": "code",
   "execution_count": 49,
   "id": "5e8a7b9a-a06e-4498-8ee9-8871a1b8522c",
   "metadata": {},
   "outputs": [
    {
     "data": {
      "text/plain": [
       "3"
      ]
     },
     "execution_count": 49,
     "metadata": {},
     "output_type": "execute_result"
    }
   ],
   "source": [
    "text.index(\"day\")"
   ]
  },
  {
   "cell_type": "code",
   "execution_count": 50,
   "id": "0e3d262e-7bb1-44c4-8e5d-a73898acecda",
   "metadata": {},
   "outputs": [
    {
     "data": {
      "text/plain": [
       "2"
      ]
     },
     "execution_count": 50,
     "metadata": {},
     "output_type": "execute_result"
    }
   ],
   "source": [
    "text.count(\"day\")"
   ]
  },
  {
   "cell_type": "code",
   "execution_count": 52,
   "id": "d8bc8a76-2903-47ec-aebc-4f46f5ec3a36",
   "metadata": {},
   "outputs": [
    {
     "data": {
      "text/plain": [
       "2"
      ]
     },
     "execution_count": 52,
     "metadata": {},
     "output_type": "execute_result"
    }
   ],
   "source": [
    "text.count(\"a\")"
   ]
  },
  {
   "cell_type": "code",
   "execution_count": 1,
   "id": "a2197d44-3bbd-449e-bfd3-1fb3c6c1382f",
   "metadata": {},
   "outputs": [
    {
     "data": {
      "text/plain": [
       "['i', 'love', 'my', 'india']"
      ]
     },
     "execution_count": 1,
     "metadata": {},
     "output_type": "execute_result"
    }
   ],
   "source": [
    "\"i love my india\".split()"
   ]
  },
  {
   "cell_type": "markdown",
   "id": "ce85caa0-6c8b-43ac-9605-52e2e4b5f8f6",
   "metadata": {},
   "source": [
    "# join()"
   ]
  },
  {
   "cell_type": "code",
   "execution_count": 3,
   "id": "1ced1f93-15a2-4716-a016-9d0cf5714097",
   "metadata": {},
   "outputs": [
    {
     "data": {
      "text/plain": [
       "'s u n n y'"
      ]
     },
     "execution_count": 3,
     "metadata": {},
     "output_type": "execute_result"
    }
   ],
   "source": [
    "\" \".join([\"s\",\"u\",\"n\",\"n\",\"y\"])"
   ]
  },
  {
   "cell_type": "code",
   "execution_count": 4,
   "id": "2173123f-a8dc-4733-95e4-d08e2a242cf7",
   "metadata": {},
   "outputs": [
    {
     "data": {
      "text/plain": [
       "'sunny'"
      ]
     },
     "execution_count": 4,
     "metadata": {},
     "output_type": "execute_result"
    }
   ],
   "source": [
    "\"\".join([\"s\",\"u\",\"n\",\"n\",\"y\"])"
   ]
  },
  {
   "cell_type": "code",
   "execution_count": 5,
   "id": "7ccebff6-5b26-4725-a074-d3f74ed2cfbf",
   "metadata": {},
   "outputs": [
    {
     "data": {
      "text/plain": [
       "'s@u@n@n@y'"
      ]
     },
     "execution_count": 5,
     "metadata": {},
     "output_type": "execute_result"
    }
   ],
   "source": [
    "\"@\".join([\"s\",\"u\",\"n\",\"n\",\"y\"])"
   ]
  },
  {
   "cell_type": "code",
   "execution_count": 6,
   "id": "a0efa066-ec1f-4d43-bd4f-ae9018d06c37",
   "metadata": {},
   "outputs": [
    {
     "data": {
      "text/plain": [
       "'s@u@n@n@y'"
      ]
     },
     "execution_count": 6,
     "metadata": {},
     "output_type": "execute_result"
    }
   ],
   "source": [
    "\"@\".join(\"sunny\")"
   ]
  },
  {
   "cell_type": "markdown",
   "id": "cb833629-ace1-487a-a98d-4d2548145006",
   "metadata": {},
   "source": [
    "# f-string\n",
    "# string interpolation"
   ]
  },
  {
   "cell_type": "code",
   "execution_count": 8,
   "id": "fbb32372-863f-4be8-80db-ba42cad40f00",
   "metadata": {},
   "outputs": [],
   "source": [
    "name=\"vanya\"\n",
    "age=29"
   ]
  },
  {
   "cell_type": "code",
   "execution_count": 10,
   "id": "447bd807-d767-465b-b36a-ebeec83250d6",
   "metadata": {},
   "outputs": [
    {
     "name": "stdout",
     "output_type": "stream",
     "text": [
      "my name is {name} and my age is {age}\n"
     ]
    }
   ],
   "source": [
    "print(\"my name is {name} and my age is {age}\")"
   ]
  },
  {
   "cell_type": "code",
   "execution_count": 11,
   "id": "b4f7cef0-dd00-4325-a49a-208695c448fb",
   "metadata": {},
   "outputs": [
    {
     "name": "stdout",
     "output_type": "stream",
     "text": [
      "my name is vanya and my age is 29\n"
     ]
    }
   ],
   "source": [
    "print(f\"my name is {name} and my age is {age}\")"
   ]
  },
  {
   "cell_type": "markdown",
   "id": "ff24e67f-40a8-4876-95bb-af685689789b",
   "metadata": {},
   "source": [
    "# dictionary"
   ]
  },
  {
   "cell_type": "code",
   "execution_count": 1,
   "id": "7e6f09f5-ceec-4521-9df3-3057efa03c38",
   "metadata": {},
   "outputs": [],
   "source": [
    "mydict={}"
   ]
  },
  {
   "cell_type": "code",
   "execution_count": 2,
   "id": "fa0d23b8-beb0-4017-94fc-120f6b479369",
   "metadata": {},
   "outputs": [
    {
     "data": {
      "text/plain": [
       "dict"
      ]
     },
     "execution_count": 2,
     "metadata": {},
     "output_type": "execute_result"
    }
   ],
   "source": [
    "type(mydict)"
   ]
  },
  {
   "cell_type": "code",
   "execution_count": 3,
   "id": "8572d6f4-0e7b-4ebe-84db-a8c966e2eada",
   "metadata": {},
   "outputs": [],
   "source": [
    "mydict={1:\"vanya\", 2:\"denis\", 3:\"kirill\"}"
   ]
  },
  {
   "cell_type": "code",
   "execution_count": 4,
   "id": "81d89a4b-2d41-4e55-8d47-213706dba999",
   "metadata": {},
   "outputs": [
    {
     "data": {
      "text/plain": [
       "{1: 'vanya', 2: 'denis', 3: 'kirill'}"
      ]
     },
     "execution_count": 4,
     "metadata": {},
     "output_type": "execute_result"
    }
   ],
   "source": [
    "mydict"
   ]
  },
  {
   "cell_type": "code",
   "execution_count": 5,
   "id": "b79a8f3e-5ef9-4d21-9fe7-0a3a7ddcd83c",
   "metadata": {},
   "outputs": [],
   "source": [
    "mydict1={\"vanya\":[\"thailand\", \"vietnam\"], \"kirill\":[\"thailand\", \"cambodia\"]}"
   ]
  },
  {
   "cell_type": "code",
   "execution_count": 6,
   "id": "ffc5eda8-813f-4a09-992a-cb3d6e48c026",
   "metadata": {},
   "outputs": [
    {
     "data": {
      "text/plain": [
       "{'vanya': ['thailand', 'vietnam'], 'kirill': ['thailand', 'cambodia']}"
      ]
     },
     "execution_count": 6,
     "metadata": {},
     "output_type": "execute_result"
    }
   ],
   "source": [
    "mydict1"
   ]
  },
  {
   "cell_type": "code",
   "execution_count": 7,
   "id": "af5bbc0e-105e-4e67-9422-707eb040a768",
   "metadata": {},
   "outputs": [
    {
     "data": {
      "text/plain": [
       "['thailand', 'vietnam']"
      ]
     },
     "execution_count": 7,
     "metadata": {},
     "output_type": "execute_result"
    }
   ],
   "source": [
    "mydict1[\"vanya\"]"
   ]
  },
  {
   "cell_type": "code",
   "execution_count": 8,
   "id": "44ff785a-6b62-46f2-b7d9-ac9ab7c5270b",
   "metadata": {},
   "outputs": [
    {
     "data": {
      "text/plain": [
       "['thailand', 'vietnam']"
      ]
     },
     "execution_count": 8,
     "metadata": {},
     "output_type": "execute_result"
    }
   ],
   "source": [
    "mydict1.get(\"vanya\")"
   ]
  },
  {
   "cell_type": "code",
   "execution_count": 9,
   "id": "8ee3a1ad-d77b-41f4-ad24-ae7097eff93a",
   "metadata": {},
   "outputs": [],
   "source": [
    "student_list={1:\"vanya\", 2:\"masha\", 3:\"ira\", 4:\"anya\", 5:\"nikita\"}"
   ]
  },
  {
   "cell_type": "code",
   "execution_count": 11,
   "id": "ead2d444-437a-4b6c-8425-22a7116a6e93",
   "metadata": {},
   "outputs": [
    {
     "name": "stdout",
     "output_type": "stream",
     "text": [
      "1\n",
      "2\n",
      "3\n",
      "4\n",
      "5\n"
     ]
    }
   ],
   "source": [
    "for x in student_list:\n",
    "    print (x)"
   ]
  },
  {
   "cell_type": "code",
   "execution_count": 12,
   "id": "016658e8-848b-4b29-9b88-f49d768a42b1",
   "metadata": {},
   "outputs": [
    {
     "name": "stdout",
     "output_type": "stream",
     "text": [
      "vanya\n",
      "masha\n",
      "ira\n",
      "anya\n",
      "nikita\n"
     ]
    }
   ],
   "source": [
    "for x in student_list.values():\n",
    "    print (x)"
   ]
  },
  {
   "cell_type": "code",
   "execution_count": 15,
   "id": "6aae5a42-39cd-41ef-b05a-8a9d45b26387",
   "metadata": {},
   "outputs": [
    {
     "name": "stdout",
     "output_type": "stream",
     "text": [
      "my key is 1 my value is vanya\n",
      "my key is 2 my value is masha\n",
      "my key is 3 my value is ira\n",
      "my key is 4 my value is anya\n",
      "my key is 5 my value is nikita\n"
     ]
    }
   ],
   "source": [
    "for x,y in student_list.items():\n",
    "    print(f\"my key is {x} my value is {y}\")"
   ]
  },
  {
   "cell_type": "code",
   "execution_count": 16,
   "id": "f6075b65-b047-4f9b-b9b0-df8c6d258ca4",
   "metadata": {},
   "outputs": [],
   "source": [
    "student_list[6]=\"olga\""
   ]
  },
  {
   "cell_type": "code",
   "execution_count": 17,
   "id": "235a27da-762e-4dda-948a-688da8487227",
   "metadata": {},
   "outputs": [
    {
     "name": "stdout",
     "output_type": "stream",
     "text": [
      "my key is 1 my value is vanya\n",
      "my key is 2 my value is masha\n",
      "my key is 3 my value is ira\n",
      "my key is 4 my value is anya\n",
      "my key is 5 my value is nikita\n",
      "my key is 6 my value is olga\n"
     ]
    }
   ],
   "source": [
    "for x,y in student_list.items():\n",
    "    print(f\"my key is {x} my value is {y}\")"
   ]
  },
  {
   "cell_type": "code",
   "execution_count": 22,
   "id": "00edb14a-1833-4c80-9d05-7c1ae53740ed",
   "metadata": {},
   "outputs": [],
   "source": [
    "student_list.update({7:\"marta\"})"
   ]
  },
  {
   "cell_type": "code",
   "execution_count": 24,
   "id": "a635f0ac-fd92-4774-9da8-fdacac5c0d4a",
   "metadata": {},
   "outputs": [
    {
     "data": {
      "text/plain": [
       "{1: 'vanya',\n",
       " 2: 'masha',\n",
       " 3: 'ira',\n",
       " 4: 'anya',\n",
       " 5: 'nikita',\n",
       " 6: 'olga',\n",
       " 8: 'alex',\n",
       " 7: 'marta'}"
      ]
     },
     "execution_count": 24,
     "metadata": {},
     "output_type": "execute_result"
    }
   ],
   "source": [
    "student_list"
   ]
  },
  {
   "cell_type": "markdown",
   "id": "c903b0fc-6f89-4a7a-a57a-b215815fcc72",
   "metadata": {},
   "source": [
    "# functions for dictionary"
   ]
  },
  {
   "cell_type": "code",
   "execution_count": 23,
   "id": "e411ee98-b35a-4bb2-aaf3-99ea1da7271e",
   "metadata": {},
   "outputs": [
    {
     "data": {
      "text/plain": [
       "8"
      ]
     },
     "execution_count": 23,
     "metadata": {},
     "output_type": "execute_result"
    }
   ],
   "source": [
    "len(student_list)"
   ]
  },
  {
   "cell_type": "code",
   "execution_count": 25,
   "id": "702e72f4-e318-40dd-8524-2f962ea24846",
   "metadata": {},
   "outputs": [
    {
     "data": {
      "text/plain": [
       "8"
      ]
     },
     "execution_count": 25,
     "metadata": {},
     "output_type": "execute_result"
    }
   ],
   "source": [
    "max(student_list)"
   ]
  },
  {
   "cell_type": "code",
   "execution_count": 26,
   "id": "90a1d8a9-0913-4cc9-8e28-c050c1604614",
   "metadata": {},
   "outputs": [
    {
     "data": {
      "text/plain": [
       "1"
      ]
     },
     "execution_count": 26,
     "metadata": {},
     "output_type": "execute_result"
    }
   ],
   "source": [
    "min(student_list)"
   ]
  },
  {
   "cell_type": "code",
   "execution_count": 28,
   "id": "1c6230de-97a6-4107-b907-751c2ecb223b",
   "metadata": {},
   "outputs": [
    {
     "data": {
      "text/plain": [
       "'vanya'"
      ]
     },
     "execution_count": 28,
     "metadata": {},
     "output_type": "execute_result"
    }
   ],
   "source": [
    "max(student_list.values())"
   ]
  },
  {
   "cell_type": "code",
   "execution_count": 29,
   "id": "255d780a-c918-421d-8733-a7f407857ae6",
   "metadata": {},
   "outputs": [
    {
     "data": {
      "text/plain": [
       "'alex'"
      ]
     },
     "execution_count": 29,
     "metadata": {},
     "output_type": "execute_result"
    }
   ],
   "source": [
    "min(student_list.values())"
   ]
  },
  {
   "cell_type": "code",
   "execution_count": 30,
   "id": "8ecda775-1a2a-415c-98c8-9a825aaa8814",
   "metadata": {},
   "outputs": [
    {
     "data": {
      "text/plain": [
       "[1, 2, 3, 4, 5, 6, 7, 8]"
      ]
     },
     "execution_count": 30,
     "metadata": {},
     "output_type": "execute_result"
    }
   ],
   "source": [
    "sorted(student_list)"
   ]
  },
  {
   "cell_type": "code",
   "execution_count": 31,
   "id": "13d9c89f-6d60-418a-a333-118a7e3dcab2",
   "metadata": {},
   "outputs": [
    {
     "data": {
      "text/plain": [
       "{1: 'vanya',\n",
       " 2: 'masha',\n",
       " 3: 'ira',\n",
       " 4: 'anya',\n",
       " 5: 'nikita',\n",
       " 6: 'olga',\n",
       " 8: 'alex',\n",
       " 7: 'marta'}"
      ]
     },
     "execution_count": 31,
     "metadata": {},
     "output_type": "execute_result"
    }
   ],
   "source": [
    "student_list"
   ]
  },
  {
   "cell_type": "code",
   "execution_count": 32,
   "id": "1c7c41da-7501-4543-bd2a-023e7156ff76",
   "metadata": {},
   "outputs": [
    {
     "data": {
      "text/plain": [
       "True"
      ]
     },
     "execution_count": 32,
     "metadata": {},
     "output_type": "execute_result"
    }
   ],
   "source": [
    "any(student_list)"
   ]
  },
  {
   "cell_type": "code",
   "execution_count": 33,
   "id": "4b9b0486-a1f2-460b-9c41-48856ee50714",
   "metadata": {},
   "outputs": [
    {
     "data": {
      "text/plain": [
       "True"
      ]
     },
     "execution_count": 33,
     "metadata": {},
     "output_type": "execute_result"
    }
   ],
   "source": [
    "all(student_list)"
   ]
  },
  {
   "cell_type": "markdown",
   "id": "f63df4b1-8920-492b-80ef-629bff8add84",
   "metadata": {},
   "source": [
    "# methods for dictionary"
   ]
  },
  {
   "cell_type": "code",
   "execution_count": 34,
   "id": "65558bda-cacf-4535-b41e-fc4d377c46ec",
   "metadata": {},
   "outputs": [
    {
     "data": {
      "text/plain": [
       "'masha'"
      ]
     },
     "execution_count": 34,
     "metadata": {},
     "output_type": "execute_result"
    }
   ],
   "source": [
    "student_list.pop(2)"
   ]
  },
  {
   "cell_type": "code",
   "execution_count": 35,
   "id": "aefab66b-41a3-4646-b218-274fdabae506",
   "metadata": {},
   "outputs": [
    {
     "ename": "KeyError",
     "evalue": "'masha'",
     "output_type": "error",
     "traceback": [
      "\u001b[0;31m---------------------------------------------------------------------------\u001b[0m",
      "\u001b[0;31mKeyError\u001b[0m                                  Traceback (most recent call last)",
      "Cell \u001b[0;32mIn [35], line 1\u001b[0m\n\u001b[0;32m----> 1\u001b[0m \u001b[43mstudent_list\u001b[49m\u001b[38;5;241;43m.\u001b[39;49m\u001b[43mpop\u001b[49m\u001b[43m(\u001b[49m\u001b[38;5;124;43m\"\u001b[39;49m\u001b[38;5;124;43mmasha\u001b[39;49m\u001b[38;5;124;43m\"\u001b[39;49m\u001b[43m)\u001b[49m\n",
      "\u001b[0;31mKeyError\u001b[0m: 'masha'"
     ]
    }
   ],
   "source": [
    "student_list.pop(\"masha\")"
   ]
  },
  {
   "cell_type": "code",
   "execution_count": 36,
   "id": "971433d7-7fb5-4bad-b7ae-b7e039940e2c",
   "metadata": {},
   "outputs": [
    {
     "data": {
      "text/plain": [
       "'not found'"
      ]
     },
     "execution_count": 36,
     "metadata": {},
     "output_type": "execute_result"
    }
   ],
   "source": [
    "student_list.pop(\"masha\",\"not found\")"
   ]
  },
  {
   "cell_type": "code",
   "execution_count": 37,
   "id": "fea526b0-7b66-426f-ae44-171bd140389a",
   "metadata": {},
   "outputs": [
    {
     "data": {
      "text/plain": [
       "{1: 'vanya',\n",
       " 3: 'ira',\n",
       " 4: 'anya',\n",
       " 5: 'nikita',\n",
       " 6: 'olga',\n",
       " 8: 'alex',\n",
       " 7: 'marta'}"
      ]
     },
     "execution_count": 37,
     "metadata": {},
     "output_type": "execute_result"
    }
   ],
   "source": [
    "student_list"
   ]
  },
  {
   "cell_type": "code",
   "execution_count": 38,
   "id": "13d62f6b-86a7-442e-a48b-8076e57a0ee8",
   "metadata": {},
   "outputs": [
    {
     "data": {
      "text/plain": [
       "'marta'"
      ]
     },
     "execution_count": 38,
     "metadata": {},
     "output_type": "execute_result"
    }
   ],
   "source": [
    "student_list.pop(7,\"not found\")"
   ]
  },
  {
   "cell_type": "code",
   "execution_count": 39,
   "id": "dfbf39e5-7abc-4726-8c04-35d09f43288b",
   "metadata": {},
   "outputs": [
    {
     "data": {
      "text/plain": [
       "{1: 'vanya', 3: 'ira', 4: 'anya', 5: 'nikita', 6: 'olga', 8: 'alex'}"
      ]
     },
     "execution_count": 39,
     "metadata": {},
     "output_type": "execute_result"
    }
   ],
   "source": [
    "student_list"
   ]
  },
  {
   "cell_type": "code",
   "execution_count": 40,
   "id": "b73cdb0e-d8f0-43c4-8100-867c5e593260",
   "metadata": {},
   "outputs": [
    {
     "data": {
      "text/plain": [
       "(8, 'alex')"
      ]
     },
     "execution_count": 40,
     "metadata": {},
     "output_type": "execute_result"
    }
   ],
   "source": [
    "student_list.popitem()"
   ]
  },
  {
   "cell_type": "code",
   "execution_count": 41,
   "id": "8a5c7399-7b42-4266-946a-f9444cf84311",
   "metadata": {},
   "outputs": [
    {
     "data": {
      "text/plain": [
       "{1: 'vanya', 3: 'ira', 4: 'anya', 5: 'nikita', 6: 'olga'}"
      ]
     },
     "execution_count": 41,
     "metadata": {},
     "output_type": "execute_result"
    }
   ],
   "source": [
    "student_list"
   ]
  },
  {
   "cell_type": "code",
   "execution_count": 42,
   "id": "cfa03672-f5e9-48fc-8448-078ae00b545c",
   "metadata": {},
   "outputs": [],
   "source": [
    "student_list={1:\"vanya\", 2:\"masha\", 3:\"ira\", 4:\"anya\", 5:\"nikita\"}"
   ]
  },
  {
   "cell_type": "code",
   "execution_count": 44,
   "id": "d2ede225-bcaf-4ec7-a04c-448e2199d53a",
   "metadata": {},
   "outputs": [],
   "source": [
    "student_list.clear()"
   ]
  },
  {
   "cell_type": "code",
   "execution_count": 45,
   "id": "8226f14e-3f8f-431a-a46c-98f78cb3d048",
   "metadata": {},
   "outputs": [
    {
     "data": {
      "text/plain": [
       "{}"
      ]
     },
     "execution_count": 45,
     "metadata": {},
     "output_type": "execute_result"
    }
   ],
   "source": [
    "student_list"
   ]
  },
  {
   "cell_type": "code",
   "execution_count": 46,
   "id": "6857feec-44a5-4bab-8f60-b1217d89c226",
   "metadata": {},
   "outputs": [],
   "source": [
    "student_list={1:\"vanya\", 2:\"masha\", 3:\"ira\", 4:\"anya\", 5:\"nikita\"}"
   ]
  },
  {
   "cell_type": "code",
   "execution_count": 47,
   "id": "b4f3d409-dd34-460a-8d34-6b28a28894b5",
   "metadata": {},
   "outputs": [
    {
     "data": {
      "text/plain": [
       "{1: 'vanya', 2: 'masha', 3: 'ira', 4: 'anya', 5: 'nikita'}"
      ]
     },
     "execution_count": 47,
     "metadata": {},
     "output_type": "execute_result"
    }
   ],
   "source": [
    "student_list"
   ]
  },
  {
   "cell_type": "code",
   "execution_count": 48,
   "id": "950b1314-e301-460a-95b1-21b57c86aa87",
   "metadata": {},
   "outputs": [],
   "source": [
    "original={1:\"one\", 2:\"two\", 3:\"three\", 4:\"four\"}"
   ]
  },
  {
   "cell_type": "code",
   "execution_count": 49,
   "id": "274f27ce-14e3-46cb-b448-a37f295d392f",
   "metadata": {},
   "outputs": [],
   "source": [
    "new=original.copy()"
   ]
  },
  {
   "cell_type": "code",
   "execution_count": 50,
   "id": "a9df0ba3-4997-46ae-847b-3a87bd41912d",
   "metadata": {},
   "outputs": [
    {
     "data": {
      "text/plain": [
       "{1: 'one', 2: 'two', 3: 'three', 4: 'four'}"
      ]
     },
     "execution_count": 50,
     "metadata": {},
     "output_type": "execute_result"
    }
   ],
   "source": [
    "new"
   ]
  },
  {
   "cell_type": "code",
   "execution_count": 55,
   "id": "609748ac-4d7c-4e33-9e61-c04073d8a299",
   "metadata": {},
   "outputs": [
    {
     "data": {
      "text/plain": [
       "'five'"
      ]
     },
     "execution_count": 55,
     "metadata": {},
     "output_type": "execute_result"
    }
   ],
   "source": [
    "new.setdefault(5,\"five\")"
   ]
  },
  {
   "cell_type": "code",
   "execution_count": 56,
   "id": "813ca8d7-fb3f-494f-893e-21bf119d8f33",
   "metadata": {},
   "outputs": [
    {
     "data": {
      "text/plain": [
       "{1: 'one', 2: 'two', 3: 'three', 4: 'four', 5: 'five'}"
      ]
     },
     "execution_count": 56,
     "metadata": {},
     "output_type": "execute_result"
    }
   ],
   "source": [
    "new"
   ]
  },
  {
   "cell_type": "code",
   "execution_count": 57,
   "id": "ec7377fe-e7b5-4e51-bf7a-210501e3aa19",
   "metadata": {},
   "outputs": [],
   "source": [
    "value=new.setdefault(6,\"six\")"
   ]
  },
  {
   "cell_type": "code",
   "execution_count": 58,
   "id": "5f7c022e-b35e-4ee5-905d-e263a09f6cad",
   "metadata": {},
   "outputs": [
    {
     "data": {
      "text/plain": [
       "'six'"
      ]
     },
     "execution_count": 58,
     "metadata": {},
     "output_type": "execute_result"
    }
   ],
   "source": [
    "value"
   ]
  },
  {
   "cell_type": "code",
   "execution_count": 59,
   "id": "df485203-0bdc-47de-b024-411993b0117b",
   "metadata": {},
   "outputs": [],
   "source": [
    "value=new.setdefault(7)"
   ]
  },
  {
   "cell_type": "code",
   "execution_count": 60,
   "id": "f13d26b9-22db-4fc8-8661-829eec4fa877",
   "metadata": {},
   "outputs": [],
   "source": [
    "value"
   ]
  },
  {
   "cell_type": "code",
   "execution_count": 61,
   "id": "45caf316-f9f1-4b01-a71c-a5f6b6153cd9",
   "metadata": {},
   "outputs": [
    {
     "data": {
      "text/plain": [
       "{1: 'one', 2: 'two', 3: 'three', 4: 'four', 5: 'five', 6: 'six', 7: None}"
      ]
     },
     "execution_count": 61,
     "metadata": {},
     "output_type": "execute_result"
    }
   ],
   "source": [
    "new"
   ]
  },
  {
   "cell_type": "code",
   "execution_count": 62,
   "id": "6014ee2c-61be-40bd-a703-80a2c5641fba",
   "metadata": {},
   "outputs": [],
   "source": [
    "new.setdefault(7,\"seven\")"
   ]
  },
  {
   "cell_type": "code",
   "execution_count": 63,
   "id": "7dce6f03-6105-425c-849f-41d8aefaa13b",
   "metadata": {},
   "outputs": [
    {
     "data": {
      "text/plain": [
       "{1: 'one', 2: 'two', 3: 'three', 4: 'four', 5: 'five', 6: 'six', 7: None}"
      ]
     },
     "execution_count": 63,
     "metadata": {},
     "output_type": "execute_result"
    }
   ],
   "source": [
    "new"
   ]
  },
  {
   "cell_type": "markdown",
   "id": "db946e73-2b9c-42ef-a192-1de193aa89ea",
   "metadata": {},
   "source": [
    "# kwargs"
   ]
  },
  {
   "cell_type": "code",
   "execution_count": null,
   "id": "cb0397c5-522f-4402-b79e-5ecc1c0ae910",
   "metadata": {},
   "outputs": [],
   "source": []
  }
 ],
 "metadata": {
  "kernelspec": {
   "display_name": "Python 3 (ipykernel)",
   "language": "python",
   "name": "python3"
  },
  "language_info": {
   "codemirror_mode": {
    "name": "ipython",
    "version": 3
   },
   "file_extension": ".py",
   "mimetype": "text/x-python",
   "name": "python",
   "nbconvert_exporter": "python",
   "pygments_lexer": "ipython3",
   "version": "3.10.6"
  }
 },
 "nbformat": 4,
 "nbformat_minor": 5
}
