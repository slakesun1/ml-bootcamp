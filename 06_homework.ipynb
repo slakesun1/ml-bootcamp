{
 "cells": [
  {
   "cell_type": "markdown",
   "id": "ff70026d-82e0-4d79-a996-511c86fb4b63",
   "metadata": {},
   "source": [
    "# WAP to accept two numbers from the user and display their sum"
   ]
  },
  {
   "cell_type": "code",
   "execution_count": 11,
   "id": "befdfac8-26ff-4c75-84db-854f59aabb9a",
   "metadata": {},
   "outputs": [
    {
     "name": "stdin",
     "output_type": "stream",
     "text": [
      "Enter the first number: 12\n",
      "Enter the second number: 14\n"
     ]
    },
    {
     "name": "stdout",
     "output_type": "stream",
     "text": [
      "Sum of 12 and 14 is 26\n"
     ]
    }
   ],
   "source": [
    "a=int(input(\"Enter the first number:\"))\n",
    "b=int(input(\"Enter the second number:\"))\n",
    "c=a+b\n",
    "print(\"Sum of\", a, \"and\", b, \"is\", c)"
   ]
  },
  {
   "cell_type": "markdown",
   "id": "ad32e0f9-8419-4e47-9e91-daaacfdfee5d",
   "metadata": {},
   "source": [
    "# WAP to accept radius of a Circle from the user and calculate area and circumference"
   ]
  },
  {
   "cell_type": "code",
   "execution_count": 19,
   "id": "f9806fcd-9cb6-47d8-9a30-e58b72cfdfaa",
   "metadata": {},
   "outputs": [
    {
     "name": "stdin",
     "output_type": "stream",
     "text": [
      "Enter the radius of circle: 2\n"
     ]
    },
    {
     "name": "stdout",
     "output_type": "stream",
     "text": [
      "Circumference of a Circle is 12.566370614359172\n",
      "Area of a Circle is 12.566370614359172\n"
     ]
    }
   ],
   "source": [
    "r=int(input(\"Enter the radius of circle:\"))\n",
    "import math\n",
    "p=math.pi\n",
    "C=2*p*r\n",
    "S=p*(r**2)\n",
    "print(\"Circumference of a Circle is\", C)\n",
    "print(\"Area of a Circle is\", S)"
   ]
  },
  {
   "cell_type": "markdown",
   "id": "72e59215-a57b-402b-ad49-a93c7e907c7b",
   "metadata": {},
   "source": [
    "# Write a program that asks the user to input 2 integers and adds them . Accept both the numbers in a single line only"
   ]
  },
  {
   "cell_type": "code",
   "execution_count": 27,
   "id": "d599312d-14a0-4089-a080-5ccb47f9c3d8",
   "metadata": {},
   "outputs": [
    {
     "name": "stdin",
     "output_type": "stream",
     "text": [
      "Enter the first and second numbers: 23 45\n"
     ]
    },
    {
     "name": "stdout",
     "output_type": "stream",
     "text": [
      "Sum is 68\n"
     ]
    }
   ],
   "source": [
    "a=input(\"Enter the first and second numbers:\")\n",
    "b=a.split()\n",
    "s=int(b[0])+int(b[1])\n",
    "print(\"Sum is\", s)"
   ]
  },
  {
   "cell_type": "markdown",
   "id": "705a2d4a-c4e2-42b8-9c52-5ac88e3602f6",
   "metadata": {},
   "source": [
    "# Write a Python program which accepts the user's first and last name and print them in reverse order with a space between them."
   ]
  },
  {
   "cell_type": "code",
   "execution_count": 32,
   "id": "1cddc1a8-baa1-406c-a329-118b6a445b3b",
   "metadata": {},
   "outputs": [
    {
     "name": "stdin",
     "output_type": "stream",
     "text": [
      "Enter the first name: vanya\n",
      "Enter the last name: tseretyan\n"
     ]
    },
    {
     "name": "stdout",
     "output_type": "stream",
     "text": [
      "Your reverse name is nayterest aynav\n"
     ]
    }
   ],
   "source": [
    "a=input(\"Enter the first name:\")\n",
    "b=input(\"Enter the last name:\")\n",
    "c=a+\" \"+ b\n",
    "print(\"Your reverse name is\", c[::-1])"
   ]
  },
  {
   "cell_type": "markdown",
   "id": "9581e0bb-a407-4035-b10a-191a8491a43b",
   "metadata": {},
   "source": [
    "# WAP to accept a character from the user and check whether it is a capital letter or small letter or a digit or some special symbol"
   ]
  },
  {
   "cell_type": "code",
   "execution_count": 41,
   "id": "271bf24a-56c0-4efe-9b61-3b35ddfbfdb2",
   "metadata": {},
   "outputs": [
    {
     "name": "stdin",
     "output_type": "stream",
     "text": [
      "Enter a character: 1\n"
     ]
    },
    {
     "name": "stdout",
     "output_type": "stream",
     "text": [
      "your character is digit\n"
     ]
    }
   ],
   "source": [
    "a=input(\"Enter a character:\")\n",
    "if a.isupper():\n",
    "    print(\"Your character is capital letter\")\n",
    "elif a.islower():\n",
    "    print(\"your character is small letter\")\n",
    "elif a.isdigit():\n",
    "    print(\"your character is digit\")\n",
    "else:\n",
    "    print(\"your character is special symbol\")"
   ]
  },
  {
   "cell_type": "markdown",
   "id": "c7d76092-b406-4939-a393-f22b38f7d072",
   "metadata": {},
   "source": [
    "# WAP to accept a year from the user and check whether it is a leap year or not."
   ]
  },
  {
   "cell_type": "code",
   "execution_count": 51,
   "id": "74110620-ee49-4f94-b8cd-75b5c0197543",
   "metadata": {},
   "outputs": [
    {
     "name": "stdin",
     "output_type": "stream",
     "text": [
      "Enter a year 2000\n"
     ]
    },
    {
     "name": "stdout",
     "output_type": "stream",
     "text": [
      "Year 2000 is leap\n"
     ]
    }
   ],
   "source": [
    "a=int(input(\"Enter a year\"))\n",
    "if a%4==0 and a%100!=0:\n",
    "    print(\"Year\", a, \"is leap\")\n",
    "elif a%400==0:\n",
    "    print(\"Year\", a, \"is leap\")\n",
    "else:\n",
    "    print(\"Year\", a, \"is not leap\")\n"
   ]
  },
  {
   "cell_type": "markdown",
   "id": "2f35398d-6de1-4dfd-b37c-c128578a9669",
   "metadata": {},
   "source": [
    "# You have to develop a number guessing game. "
   ]
  },
  {
   "cell_type": "code",
   "execution_count": 103,
   "id": "c4cd99e7-27ca-49df-8dda-a1bdcd16eabe",
   "metadata": {},
   "outputs": [
    {
     "name": "stdin",
     "output_type": "stream",
     "text": [
      "Guess the number: 5\n"
     ]
    },
    {
     "name": "stdout",
     "output_type": "stream",
     "text": [
      "Congratulations! You guessed it right!\n"
     ]
    }
   ],
   "source": [
    "import random\n",
    "a=random.randint(1, 10)\n",
    "b=int(input(\"Guess the number:\"))\n",
    "while a!=b:\n",
    "    if b<=0:\n",
    "        print(\"You are exit\")\n",
    "        break\n",
    "    elif a>b:\n",
    "        print(\"Number is too small\")\n",
    "    elif a<b:\n",
    "        print(\"Number is too large\")\n",
    "    b=int(input(\"Guess the number again:\"))\n",
    "if b>=0:\n",
    "    print(\"Congratulations! You guessed it right!\")"
   ]
  },
  {
   "cell_type": "markdown",
   "id": "f877123b-db29-420f-8352-4fbe12e58158",
   "metadata": {},
   "source": [
    "# Write a program to continuously accept integers from the user until the user types 0 and as soon as 0 is entered display sum of all the nos entered before 0"
   ]
  },
  {
   "cell_type": "code",
   "execution_count": 119,
   "id": "310ba00e-1c27-4cfb-ab9f-0c4ea117bbea",
   "metadata": {},
   "outputs": [
    {
     "name": "stdin",
     "output_type": "stream",
     "text": [
      "Enter the number: 12\n",
      "Enter the number: 34\n",
      "Enter the number: 2\n",
      "Enter the number: 12\n",
      "Enter the number: 0\n"
     ]
    },
    {
     "name": "stdout",
     "output_type": "stream",
     "text": [
      "Summ of integers is 60\n"
     ]
    }
   ],
   "source": [
    "s=0\n",
    "a=int(input(\"Enter the number:\"))\n",
    "while a!=0: \n",
    "    s=s+a\n",
    "    a=int(input(\"Enter the number:\"))\n",
    "print(\"Summ of integers is\", s)"
   ]
  },
  {
   "cell_type": "markdown",
   "id": "d038235e-8b49-4f34-b854-b277fcd7da8e",
   "metadata": {},
   "source": [
    "# Modify the previous code so that if the user inputs a negative integer , your program should ignore it "
   ]
  },
  {
   "cell_type": "code",
   "execution_count": 125,
   "id": "6166b420-43d5-469f-b647-d238c5e5bdf6",
   "metadata": {},
   "outputs": [
    {
     "name": "stdin",
     "output_type": "stream",
     "text": [
      "Enter the number: 12\n",
      "Enter the number: 3\n",
      "Enter the number: -1\n",
      "Enter the number: 2\n",
      "Enter the number: 1\n",
      "Enter the number: 0\n"
     ]
    },
    {
     "name": "stdout",
     "output_type": "stream",
     "text": [
      "Summ of integers is 18\n"
     ]
    }
   ],
   "source": [
    "s=0\n",
    "a=int(input(\"Enter the number:\"))\n",
    "while a!=0:\n",
    "    if a<0:\n",
    "        a=int(input(\"Enter the number:\"))\n",
    "    else:\n",
    "        s=s+a\n",
    "        a=int(input(\"Enter the number:\"))\n",
    "print(\"Summ of integers is\", s)"
   ]
  },
  {
   "cell_type": "markdown",
   "id": "97d54065-1d53-4b9e-8824-dcab9afbef48",
   "metadata": {},
   "source": [
    "# Write a program to accept an integer from the user and display the sum of all the numbers from 1 to that number."
   ]
  },
  {
   "cell_type": "code",
   "execution_count": 128,
   "id": "efc80333-5ec3-4d30-a2e5-8c2cff899e1d",
   "metadata": {},
   "outputs": [
    {
     "name": "stdin",
     "output_type": "stream",
     "text": [
      "Enter the number: 6\n"
     ]
    },
    {
     "name": "stdout",
     "output_type": "stream",
     "text": [
      "Sum of all numbers from 1 to 6 is 21\n"
     ]
    }
   ],
   "source": [
    "a=int(input(\"Enter the number:\"))\n",
    "b=1\n",
    "c=0\n",
    "while b<=a:\n",
    "    c=c+b\n",
    "    b=b+1\n",
    "print(\"Sum of all numbers from 1 to\", a, \"is\", c)"
   ]
  },
  {
   "cell_type": "markdown",
   "id": "d1ac83a6-1181-4ff9-acc0-37aa6a3947e4",
   "metadata": {},
   "source": [
    "# Write a program to accept an integer from the user and calculate its factorial"
   ]
  },
  {
   "cell_type": "code",
   "execution_count": 131,
   "id": "94e81798-6eb2-43cd-a02d-d626625e229d",
   "metadata": {},
   "outputs": [
    {
     "name": "stdin",
     "output_type": "stream",
     "text": [
      "Enter the number: 5\n"
     ]
    },
    {
     "name": "stdout",
     "output_type": "stream",
     "text": [
      "Factorial of 5 is 120\n"
     ]
    }
   ],
   "source": [
    "a=int(input(\"Enter the number:\"))\n",
    "b=c=1\n",
    "while b<=a:\n",
    "    c=c*b\n",
    "    b=b+1\n",
    "print(\"Factorial of\", a, \"is\", c)\n",
    "    "
   ]
  },
  {
   "cell_type": "markdown",
   "id": "289289df-f2a5-4cc3-8952-0a8305f11b9f",
   "metadata": {},
   "source": [
    "# Write a program to print the following pattern"
   ]
  },
  {
   "cell_type": "code",
   "execution_count": 3,
   "id": "b6652f72-82ef-4bb3-aa26-a52f80a27c2b",
   "metadata": {},
   "outputs": [
    {
     "name": "stdout",
     "output_type": "stream",
     "text": [
      "* * * \n",
      "* * * \n",
      "* * * \n"
     ]
    }
   ],
   "source": [
    "rows = 3\n",
    "columns = 3\n",
    "for i in range(0, rows):\n",
    "    for j in range(0, columns):\n",
    "        print(\"*\", end=' ')\n",
    "    print(\"\\r\")"
   ]
  },
  {
   "cell_type": "markdown",
   "id": "615c2f44-a199-49a7-95c3-d1b8c0579ffd",
   "metadata": {},
   "source": [
    "# Write a program to print the following pattern"
   ]
  },
  {
   "cell_type": "code",
   "execution_count": 13,
   "id": "d7578415-4048-4a74-963e-e259c141a4bf",
   "metadata": {},
   "outputs": [
    {
     "name": "stdout",
     "output_type": "stream",
     "text": [
      "* \n",
      "* * \n",
      "* * * \n",
      "* * * * \n"
     ]
    }
   ],
   "source": [
    "rows = 4\n",
    "for i in range(0, rows):\n",
    "    for j in range(0, i+1):\n",
    "        print(\"*\", end=' ')\n",
    "    print(\"\\r\")"
   ]
  },
  {
   "cell_type": "markdown",
   "id": "1b386ccc-c395-4380-a3f6-6ddc963c3f72",
   "metadata": {},
   "source": [
    "# Write a program to print the following pattern"
   ]
  },
  {
   "cell_type": "code",
   "execution_count": 21,
   "id": "40154d1c-1451-45d8-a66d-4fdc1ab7d7d2",
   "metadata": {},
   "outputs": [
    {
     "name": "stdout",
     "output_type": "stream",
     "text": [
      "* * * * \n",
      "* * * \n",
      "* * \n",
      "* \n",
      "\n"
     ]
    }
   ],
   "source": [
    "rows = 4\n",
    "for i in range(rows+1, 0, -1):\n",
    "    for j in range(0,i-1):\n",
    "        print(\"*\", end=' ')\n",
    "    print(\"\\r\")"
   ]
  },
  {
   "cell_type": "markdown",
   "id": "e9628af7-7277-4c80-9d56-144a9e329e74",
   "metadata": {},
   "source": [
    "# Write a program to accept an integer from the user and display all the numbers from 1 to that number. Repeat the process until the user enters 0."
   ]
  },
  {
   "cell_type": "code",
   "execution_count": 29,
   "id": "a188c057-8da9-49fd-8de8-e05b2fb31c38",
   "metadata": {},
   "outputs": [
    {
     "name": "stdin",
     "output_type": "stream",
     "text": [
      "Enter the number: 0\n"
     ]
    }
   ],
   "source": [
    "a=int(input(\"Enter the number:\"))\n",
    "x=range(1,a+1)\n",
    "while a!=0:\n",
    "    for n in x:\n",
    "            print(n)\n",
    "    a=int(input(\"Enter the number:\"))\n",
    "    x=range(1,a+1)"
   ]
  },
  {
   "cell_type": "code",
   "execution_count": null,
   "id": "0f1d7661-d40e-4981-8ac4-2f744204f192",
   "metadata": {},
   "outputs": [],
   "source": []
  }
 ],
 "metadata": {
  "kernelspec": {
   "display_name": "Python 3 (ipykernel)",
   "language": "python",
   "name": "python3"
  },
  "language_info": {
   "codemirror_mode": {
    "name": "ipython",
    "version": 3
   },
   "file_extension": ".py",
   "mimetype": "text/x-python",
   "name": "python",
   "nbconvert_exporter": "python",
   "pygments_lexer": "ipython3",
   "version": "3.10.6"
  }
 },
 "nbformat": 4,
 "nbformat_minor": 5
}
