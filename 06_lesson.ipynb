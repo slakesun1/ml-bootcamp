{
 "cells": [
  {
   "cell_type": "markdown",
   "id": "25d08906-20de-48fc-b06d-c570ccd33269",
   "metadata": {},
   "source": [
    "# format specifier"
   ]
  },
  {
   "cell_type": "code",
   "execution_count": 2,
   "id": "1c3d4dd0-6f64-47d3-9a3a-9ce75009ff61",
   "metadata": {},
   "outputs": [],
   "source": [
    "name='sunny'\n",
    "last_name='savita'"
   ]
  },
  {
   "cell_type": "code",
   "execution_count": 4,
   "id": "7e5eea67-c0af-4811-8e90-c7a94c580bbf",
   "metadata": {},
   "outputs": [
    {
     "name": "stdout",
     "output_type": "stream",
     "text": [
      "Hello sunny savita how are you\n"
     ]
    }
   ],
   "source": [
    "print(\"Hello %s %s how are you\" %(name,last_name))"
   ]
  },
  {
   "cell_type": "code",
   "execution_count": 6,
   "id": "67aa3db8-c68e-46d5-a468-95d2701ef0f9",
   "metadata": {},
   "outputs": [
    {
     "name": "stdout",
     "output_type": "stream",
     "text": [
      "Hello sunny  how are you savita\n"
     ]
    }
   ],
   "source": [
    "print(\"Hello %s  how are you %s\" %(name,last_name))"
   ]
  },
  {
   "cell_type": "markdown",
   "id": "d3323f64-2cbc-476e-85df-c7c85ea39b9f",
   "metadata": {},
   "source": [
    "# format function"
   ]
  },
  {
   "cell_type": "code",
   "execution_count": 7,
   "id": "ab27d67d-849a-4f55-abac-f548510ca5b8",
   "metadata": {},
   "outputs": [],
   "source": [
    "a=100"
   ]
  },
  {
   "cell_type": "code",
   "execution_count": 8,
   "id": "dc3ade74-5b28-4bdd-bd35-ce6621f34995",
   "metadata": {},
   "outputs": [
    {
     "name": "stdout",
     "output_type": "stream",
     "text": [
      "100\n"
     ]
    }
   ],
   "source": [
    "print(a)"
   ]
  },
  {
   "cell_type": "code",
   "execution_count": 9,
   "id": "2cac26b7-62ad-4910-b614-0a53a39045ea",
   "metadata": {},
   "outputs": [
    {
     "name": "stdout",
     "output_type": "stream",
     "text": [
      "Value of a 100\n"
     ]
    }
   ],
   "source": [
    "print(\"Value of a\", a)"
   ]
  },
  {
   "cell_type": "code",
   "execution_count": 10,
   "id": "46ed5e74-d868-42ab-a81f-0519ca294472",
   "metadata": {},
   "outputs": [
    {
     "name": "stdout",
     "output_type": "stream",
     "text": [
      "Value of a 100\n"
     ]
    }
   ],
   "source": [
    "print(\"Value of a %d\" %(a))"
   ]
  },
  {
   "cell_type": "code",
   "execution_count": 12,
   "id": "68303c50-6705-4480-8ff7-ff53e171a84d",
   "metadata": {},
   "outputs": [
    {
     "name": "stdout",
     "output_type": "stream",
     "text": [
      "Value of a is 100\n"
     ]
    }
   ],
   "source": [
    "print(\"Value of a is {}\".format(a))"
   ]
  },
  {
   "cell_type": "code",
   "execution_count": 13,
   "id": "b63672b5-f65d-4151-b7c7-9deab4326035",
   "metadata": {},
   "outputs": [],
   "source": [
    "b=200"
   ]
  },
  {
   "cell_type": "code",
   "execution_count": 14,
   "id": "e437f744-eac8-4cdf-8ec4-bd71fcc526df",
   "metadata": {},
   "outputs": [
    {
     "name": "stdout",
     "output_type": "stream",
     "text": [
      "Value of a is 100 value of b is 200\n"
     ]
    }
   ],
   "source": [
    "print(\"Value of a is {} value of b is {}\".format(a,b))"
   ]
  },
  {
   "cell_type": "code",
   "execution_count": 15,
   "id": "624a28b2-c903-4932-8936-ee6f4e47d9fe",
   "metadata": {},
   "outputs": [],
   "source": [
    "name='rajat'"
   ]
  },
  {
   "cell_type": "code",
   "execution_count": 16,
   "id": "6f530b80-288c-43e7-81ab-8450d85dd0a3",
   "metadata": {},
   "outputs": [],
   "source": [
    "age=27"
   ]
  },
  {
   "cell_type": "code",
   "execution_count": 17,
   "id": "045620e6-9746-4669-824b-6dfd219494fa",
   "metadata": {},
   "outputs": [
    {
     "name": "stdout",
     "output_type": "stream",
     "text": [
      "Name is rajat and age is 27\n"
     ]
    }
   ],
   "source": [
    "print(\"Name is {} and age is {}\".format(name,age))"
   ]
  },
  {
   "cell_type": "code",
   "execution_count": 18,
   "id": "0cda5b70-a293-40e5-835b-efc68669d435",
   "metadata": {},
   "outputs": [
    {
     "ename": "KeyError",
     "evalue": "'name'",
     "output_type": "error",
     "traceback": [
      "\u001b[0;31m---------------------------------------------------------------------------\u001b[0m",
      "\u001b[0;31mKeyError\u001b[0m                                  Traceback (most recent call last)",
      "Cell \u001b[0;32mIn [18], line 1\u001b[0m\n\u001b[0;32m----> 1\u001b[0m \u001b[38;5;28mprint\u001b[39m(\u001b[38;5;124;43m\"\u001b[39;49m\u001b[38;5;124;43mName is \u001b[39;49m\u001b[38;5;132;43;01m{name}\u001b[39;49;00m\u001b[38;5;124;43m and age is \u001b[39;49m\u001b[38;5;132;43;01m{age}\u001b[39;49;00m\u001b[38;5;124;43m\"\u001b[39;49m\u001b[38;5;241;43m.\u001b[39;49m\u001b[43mformat\u001b[49m\u001b[43m(\u001b[49m\u001b[43mname\u001b[49m\u001b[43m,\u001b[49m\u001b[43mage\u001b[49m\u001b[43m)\u001b[49m)\n",
      "\u001b[0;31mKeyError\u001b[0m: 'name'"
     ]
    }
   ],
   "source": [
    "print(\"Name is {name} and age is {age}\".format(name,age))"
   ]
  },
  {
   "cell_type": "code",
   "execution_count": 19,
   "id": "0a6733ae-e088-4065-8ba9-f2fc235d5aed",
   "metadata": {},
   "outputs": [
    {
     "name": "stdout",
     "output_type": "stream",
     "text": [
      "Name is rajat and age is 27\n"
     ]
    }
   ],
   "source": [
    "print(\"Name is {0} and age is {1}\".format(name,age))"
   ]
  },
  {
   "cell_type": "code",
   "execution_count": 20,
   "id": "e806323e-828f-415a-bcea-02dd143d618f",
   "metadata": {},
   "outputs": [
    {
     "name": "stdout",
     "output_type": "stream",
     "text": [
      "Name is 27 and age is rajat\n"
     ]
    }
   ],
   "source": [
    "print(\"Name is {1} and age is {0}\".format(name,age))"
   ]
  },
  {
   "cell_type": "code",
   "execution_count": 21,
   "id": "c318f676-33d5-48a5-ab31-6523277b170e",
   "metadata": {},
   "outputs": [
    {
     "name": "stdout",
     "output_type": "stream",
     "text": [
      "Name is rajat and age is 27\n"
     ]
    }
   ],
   "source": [
    "print(\"Name is {name} and age is {age}\".format(name=name,age=age))"
   ]
  },
  {
   "cell_type": "code",
   "execution_count": 22,
   "id": "72235dc2-8f0c-41e0-acfc-526a20783e26",
   "metadata": {},
   "outputs": [],
   "source": [
    "a=50"
   ]
  },
  {
   "cell_type": "code",
   "execution_count": 23,
   "id": "c4377091-cce5-4ee6-8300-18340854cb9b",
   "metadata": {},
   "outputs": [
    {
     "name": "stdout",
     "output_type": "stream",
     "text": [
      "we are in third if\n"
     ]
    }
   ],
   "source": [
    "if a>50:\n",
    "    print('we are in first if')\n",
    "elif a<50:\n",
    "    print('we are in second if')\n",
    "elif a==50:\n",
    "    print('we are in third if')\n",
    "else:\n",
    "    print(\"we are out\")"
   ]
  },
  {
   "cell_type": "code",
   "execution_count": 24,
   "id": "25ed85a4-2f89-4d9b-9ef9-f3c5b7d65de8",
   "metadata": {},
   "outputs": [
    {
     "name": "stdout",
     "output_type": "stream",
     "text": [
      "we are in first if\n",
      "we are in second if\n",
      "we are in third if\n"
     ]
    }
   ],
   "source": [
    "if a==50:\n",
    "    print('we are in first if')\n",
    "if a==50:\n",
    "    print('we are in second if')\n",
    "if a==50:\n",
    "    print('we are in third if')\n",
    "else:\n",
    "    print(\"we are out\")"
   ]
  },
  {
   "cell_type": "code",
   "execution_count": 25,
   "id": "480dd831-24f4-4024-b25c-e96b744f01f6",
   "metadata": {},
   "outputs": [
    {
     "name": "stdout",
     "output_type": "stream",
     "text": [
      "we are in first if\n"
     ]
    }
   ],
   "source": [
    "if a==50:\n",
    "    print('we are in first if')\n",
    "elif a==50:\n",
    "    print('we are in second if')\n",
    "elif a==50:\n",
    "    print('we are in third if')\n",
    "else:\n",
    "    print(\"we are out\")"
   ]
  },
  {
   "cell_type": "code",
   "execution_count": 26,
   "id": "eed9bfdf-bc55-438e-8f9f-847fe1290848",
   "metadata": {},
   "outputs": [
    {
     "name": "stdin",
     "output_type": "stream",
     "text": [
      "Please, enter your number: 12\n"
     ]
    },
    {
     "name": "stdout",
     "output_type": "stream",
     "text": [
      "Your number is even\n"
     ]
    }
   ],
   "source": [
    "a=int(input(\"Please, enter your number:\"))\n",
    "b=a%2\n",
    "if b==0:\n",
    "    print(\"Your number is even\")\n",
    "else:\n",
    "    print(\"Your number is odd\")"
   ]
  },
  {
   "cell_type": "code",
   "execution_count": 27,
   "id": "23ce0b2b-e947-44f6-8bc4-1e73f2309168",
   "metadata": {},
   "outputs": [
    {
     "name": "stdin",
     "output_type": "stream",
     "text": [
      "Please, enter your number: 13\n"
     ]
    },
    {
     "name": "stdout",
     "output_type": "stream",
     "text": [
      "Your number is odd\n"
     ]
    }
   ],
   "source": [
    "a=int(input(\"Please, enter your number:\"))\n",
    "b=a%2\n",
    "if b==0:\n",
    "    print(\"Your number is even\")\n",
    "else:\n",
    "    print(\"Your number is odd\")"
   ]
  },
  {
   "cell_type": "code",
   "execution_count": 30,
   "id": "30b0f0bb-4c67-488f-9b98-8ce53e77539c",
   "metadata": {},
   "outputs": [
    {
     "ename": "SyntaxError",
     "evalue": "invalid syntax. Perhaps you forgot a comma? (3383809936.py, line 2)",
     "output_type": "error",
     "traceback": [
      "\u001b[0;36m  Cell \u001b[0;32mIn [30], line 2\u001b[0;36m\u001b[0m\n\u001b[0;31m    if a in [A...Z]:\u001b[0m\n\u001b[0m             ^\u001b[0m\n\u001b[0;31mSyntaxError\u001b[0m\u001b[0;31m:\u001b[0m invalid syntax. Perhaps you forgot a comma?\n"
     ]
    }
   ],
   "source": [
    "a=str(input(\"Please, enter your character:\"))\n",
    "if a in [A...Z]:\n",
    "    print(\"Your character is big\")\n",
    "else:\n",
    "    print(\"Your number is odd\")"
   ]
  },
  {
   "cell_type": "code",
   "execution_count": 32,
   "id": "9c762ee2-38c3-4864-bddf-48f80b18ea32",
   "metadata": {},
   "outputs": [
    {
     "name": "stdin",
     "output_type": "stream",
     "text": [
      "Please, enter your character: A\n"
     ]
    },
    {
     "name": "stdout",
     "output_type": "stream",
     "text": [
      "Your character is big\n"
     ]
    }
   ],
   "source": [
    "a=str(input(\"Please, enter your character:\"))\n",
    "if a.isupper():\n",
    "    print(\"Your character is big\")\n",
    "else:\n",
    "    print(\"Your number is odd\")"
   ]
  },
  {
   "cell_type": "code",
   "execution_count": 35,
   "id": "f095dcf8-3ab6-4369-b8e5-ec037b178399",
   "metadata": {},
   "outputs": [
    {
     "name": "stdin",
     "output_type": "stream",
     "text": [
      "Please, enter your character: u\n"
     ]
    },
    {
     "name": "stdout",
     "output_type": "stream",
     "text": [
      "Your character is small\n"
     ]
    }
   ],
   "source": [
    "a=str(input(\"Please, enter your character:\"))\n",
    "if \"A\"<=a<=\"Z\":\n",
    "    print(\"Your character is big\")\n",
    "else:\n",
    "    print(\"Your character is small\")"
   ]
  },
  {
   "cell_type": "code",
   "execution_count": 37,
   "id": "1393b527-53a4-4602-811b-3cf25a629cbc",
   "metadata": {},
   "outputs": [],
   "source": [
    "#nested if - if inside if (we can write as many as if)"
   ]
  },
  {
   "cell_type": "code",
   "execution_count": 38,
   "id": "011d0098-826e-44b8-94ee-302fc440d346",
   "metadata": {},
   "outputs": [],
   "source": [
    "a=100"
   ]
  },
  {
   "cell_type": "code",
   "execution_count": 39,
   "id": "dc2ff99c-6e2a-48ed-acfc-5edc1fe61051",
   "metadata": {},
   "outputs": [],
   "source": [
    "b=200"
   ]
  },
  {
   "cell_type": "code",
   "execution_count": 41,
   "id": "65d03a5f-0f29-4c9d-9b29-f99f5eb04728",
   "metadata": {},
   "outputs": [
    {
     "name": "stdout",
     "output_type": "stream",
     "text": [
      "we are in first if statement\n"
     ]
    }
   ],
   "source": [
    "if a<110:\n",
    "    print(\"we are in first if statement\")\n",
    "    if b<199:\n",
    "        print('we are in second if statement')"
   ]
  },
  {
   "cell_type": "code",
   "execution_count": 43,
   "id": "ac1e05c8-d069-45f3-8472-ba61dbda2a66",
   "metadata": {},
   "outputs": [
    {
     "name": "stdout",
     "output_type": "stream",
     "text": [
      "we are in first if statement\n",
      "we are in second if statement\n"
     ]
    }
   ],
   "source": [
    "if a<110:\n",
    "    print(\"we are in first if statement\")\n",
    "    if b<201:\n",
    "        print('we are in second if statement')"
   ]
  },
  {
   "cell_type": "code",
   "execution_count": 45,
   "id": "46d4ef23-c73a-4dda-95e1-535eb7cbbd71",
   "metadata": {},
   "outputs": [
    {
     "name": "stdin",
     "output_type": "stream",
     "text": [
      "Enter your first number 12\n",
      "Enter your second number 13\n",
      "Enter your third number 14\n"
     ]
    },
    {
     "name": "stdout",
     "output_type": "stream",
     "text": [
      "The highest number is 14\n"
     ]
    }
   ],
   "source": [
    "a=int(input(\"Enter your first number\"))\n",
    "b=int(input(\"Enter your second number\"))\n",
    "c=int(input(\"Enter your third number\"))\n",
    "print(\"The highest number is\", max(a,b,c))"
   ]
  },
  {
   "cell_type": "code",
   "execution_count": 46,
   "id": "a89b7249-dabe-4f90-9bbc-96942159f27e",
   "metadata": {},
   "outputs": [
    {
     "name": "stdin",
     "output_type": "stream",
     "text": [
      "Enter your first number 12\n",
      "Enter your second number 13\n",
      "Enter your third number 14\n"
     ]
    },
    {
     "name": "stdout",
     "output_type": "stream",
     "text": [
      "The highest number is third\n"
     ]
    }
   ],
   "source": [
    "a=int(input(\"Enter your first number\"))\n",
    "b=int(input(\"Enter your second number\"))\n",
    "c=int(input(\"Enter your third number\"))\n",
    "if a>b:\n",
    "    if a>c:\n",
    "        print(\"The highest number is first\")\n",
    "elif b>c:\n",
    "    if b>a:\n",
    "        print(\"The highest number is second\")\n",
    "else:\n",
    "    print(\"The highest number is third\")\n",
    "            "
   ]
  },
  {
   "cell_type": "code",
   "execution_count": 49,
   "id": "5aeda97c-4603-4eba-ab33-90a23d8082d2",
   "metadata": {},
   "outputs": [],
   "source": [
    "x=10\n",
    "i=1"
   ]
  },
  {
   "cell_type": "code",
   "execution_count": 51,
   "id": "c3caca34-abc0-4619-af2d-e576e2685b66",
   "metadata": {},
   "outputs": [
    {
     "name": "stdout",
     "output_type": "stream",
     "text": [
      "Ivan\n",
      "Ivan\n",
      "Ivan\n",
      "Ivan\n",
      "Ivan\n",
      "Ivan\n",
      "Ivan\n",
      "Ivan\n",
      "Ivan\n"
     ]
    }
   ],
   "source": [
    "while i<x:\n",
    "    print(\"Ivan\")\n",
    "    i=i+1"
   ]
  },
  {
   "cell_type": "code",
   "execution_count": 52,
   "id": "618b0872-adff-4756-b091-96cfca28c39e",
   "metadata": {},
   "outputs": [
    {
     "name": "stdout",
     "output_type": "stream",
     "text": [
      "1\n",
      "2\n",
      "3\n",
      "4\n",
      "5\n",
      "6\n",
      "7\n",
      "8\n",
      "9\n",
      "10\n",
      "11\n",
      "12\n",
      "13\n",
      "14\n",
      "15\n",
      "16\n",
      "17\n",
      "18\n",
      "19\n",
      "20\n",
      "21\n",
      "22\n",
      "23\n",
      "24\n",
      "25\n",
      "26\n",
      "27\n",
      "28\n",
      "29\n",
      "30\n",
      "31\n",
      "32\n",
      "33\n",
      "34\n",
      "35\n",
      "36\n",
      "37\n",
      "38\n",
      "39\n",
      "40\n",
      "41\n",
      "42\n",
      "43\n",
      "44\n",
      "45\n",
      "46\n",
      "47\n",
      "48\n",
      "49\n",
      "50\n"
     ]
    }
   ],
   "source": [
    "x=1\n",
    "y=51\n",
    "while x<y:\n",
    "    print(x)\n",
    "    x=x+1"
   ]
  },
  {
   "cell_type": "code",
   "execution_count": 56,
   "id": "8937eb14-0021-47cb-b268-5fe45817772f",
   "metadata": {},
   "outputs": [
    {
     "name": "stdin",
     "output_type": "stream",
     "text": [
      "Enter a string: mama myla ramu\n"
     ]
    },
    {
     "name": "stdout",
     "output_type": "stream",
     "text": [
      "m\n",
      "m\n",
      " \n",
      "m\n",
      "l\n",
      " \n",
      "r\n",
      "m\n"
     ]
    },
    {
     "ename": "IndexError",
     "evalue": "string index out of range",
     "output_type": "error",
     "traceback": [
      "\u001b[0;31m---------------------------------------------------------------------------\u001b[0m",
      "\u001b[0;31mIndexError\u001b[0m                                Traceback (most recent call last)",
      "Cell \u001b[0;32mIn [56], line 6\u001b[0m\n\u001b[1;32m      4\u001b[0m vowels \u001b[38;5;241m=\u001b[39m [\u001b[38;5;124m'\u001b[39m\u001b[38;5;124ma\u001b[39m\u001b[38;5;124m'\u001b[39m, \u001b[38;5;124m'\u001b[39m\u001b[38;5;124me\u001b[39m\u001b[38;5;124m'\u001b[39m, \u001b[38;5;124m'\u001b[39m\u001b[38;5;124mi\u001b[39m\u001b[38;5;124m'\u001b[39m, \u001b[38;5;124m'\u001b[39m\u001b[38;5;124mo\u001b[39m\u001b[38;5;124m'\u001b[39m, \u001b[38;5;124m'\u001b[39m\u001b[38;5;124mu\u001b[39m\u001b[38;5;124m'\u001b[39m, \u001b[38;5;124m'\u001b[39m\u001b[38;5;124my\u001b[39m\u001b[38;5;124m'\u001b[39m]\n\u001b[1;32m      5\u001b[0m \u001b[38;5;28;01mwhile\u001b[39;00m i\u001b[38;5;241m<\u001b[39m\u001b[38;5;241m=\u001b[39mb:\n\u001b[0;32m----> 6\u001b[0m     \u001b[38;5;28;01mif\u001b[39;00m \u001b[43ma\u001b[49m\u001b[43m[\u001b[49m\u001b[43mi\u001b[49m\u001b[43m]\u001b[49m \u001b[38;5;129;01mnot\u001b[39;00m \u001b[38;5;129;01min\u001b[39;00m vowels:\n\u001b[1;32m      7\u001b[0m         \u001b[38;5;28mprint\u001b[39m(a[i])\n\u001b[1;32m      8\u001b[0m     i\u001b[38;5;241m=\u001b[39mi\u001b[38;5;241m+\u001b[39m\u001b[38;5;241m1\u001b[39m\n",
      "\u001b[0;31mIndexError\u001b[0m: string index out of range"
     ]
    }
   ],
   "source": [
    "a=str(input(\"Enter a string:\"))\n",
    "b=len(a)\n",
    "i=0\n",
    "vowels = ['a', 'e', 'i', 'o', 'u', 'y']\n",
    "while i<=b:\n",
    "    if a[i] not in vowels:\n",
    "        print(a[i])\n",
    "i=i+1"
   ]
  },
  {
   "cell_type": "code",
   "execution_count": 58,
   "id": "f9e078d4-5f3c-4342-bbba-165c7eeb4aad",
   "metadata": {},
   "outputs": [
    {
     "name": "stdin",
     "output_type": "stream",
     "text": [
      "Enter a string: mama myla ramu\n"
     ]
    },
    {
     "name": "stdout",
     "output_type": "stream",
     "text": [
      "m\n"
     ]
    },
    {
     "ename": "KeyboardInterrupt",
     "evalue": "",
     "output_type": "error",
     "traceback": [
      "\u001b[0;31m---------------------------------------------------------------------------\u001b[0m",
      "\u001b[0;31mKeyboardInterrupt\u001b[0m                         Traceback (most recent call last)",
      "Cell \u001b[0;32mIn [58], line 6\u001b[0m\n\u001b[1;32m      4\u001b[0m vowels \u001b[38;5;241m=\u001b[39m [\u001b[38;5;124m'\u001b[39m\u001b[38;5;124ma\u001b[39m\u001b[38;5;124m'\u001b[39m, \u001b[38;5;124m'\u001b[39m\u001b[38;5;124me\u001b[39m\u001b[38;5;124m'\u001b[39m, \u001b[38;5;124m'\u001b[39m\u001b[38;5;124mi\u001b[39m\u001b[38;5;124m'\u001b[39m, \u001b[38;5;124m'\u001b[39m\u001b[38;5;124mo\u001b[39m\u001b[38;5;124m'\u001b[39m, \u001b[38;5;124m'\u001b[39m\u001b[38;5;124mu\u001b[39m\u001b[38;5;124m'\u001b[39m, \u001b[38;5;124m'\u001b[39m\u001b[38;5;124my\u001b[39m\u001b[38;5;124m'\u001b[39m]\n\u001b[1;32m      5\u001b[0m \u001b[38;5;28;01mwhile\u001b[39;00m i\u001b[38;5;241m<\u001b[39m\u001b[38;5;241m=\u001b[39mb:\n\u001b[0;32m----> 6\u001b[0m     \u001b[38;5;28;01mif\u001b[39;00m a[i] \u001b[38;5;129;01mnot\u001b[39;00m \u001b[38;5;129;01min\u001b[39;00m vowels:\n\u001b[1;32m      7\u001b[0m         \u001b[38;5;28mprint\u001b[39m(a[i])\n\u001b[1;32m      8\u001b[0m         i\u001b[38;5;241m=\u001b[39mi\u001b[38;5;241m+\u001b[39m\u001b[38;5;241m1\u001b[39m\n",
      "\u001b[0;31mKeyboardInterrupt\u001b[0m: "
     ]
    }
   ],
   "source": [
    "a=str(input(\"Enter a string:\"))\n",
    "b=len(a)\n",
    "i=0\n",
    "vowels = ['a', 'e', 'i', 'o', 'u', 'y']\n",
    "while i<=b:\n",
    "    if a[i] not in vowels:\n",
    "        print(a[i])\n",
    "        i=i+1"
   ]
  },
  {
   "cell_type": "code",
   "execution_count": 59,
   "id": "1fdfd1c2-5ded-4e03-980b-025d9606546a",
   "metadata": {},
   "outputs": [
    {
     "name": "stdin",
     "output_type": "stream",
     "text": [
      "Enter a string: mama myla ramu\n"
     ]
    },
    {
     "name": "stdout",
     "output_type": "stream",
     "text": [
      "m\n",
      "m\n",
      " \n",
      "m\n",
      "l\n",
      " \n",
      "r\n",
      "m\n"
     ]
    },
    {
     "ename": "IndexError",
     "evalue": "string index out of range",
     "output_type": "error",
     "traceback": [
      "\u001b[0;31m---------------------------------------------------------------------------\u001b[0m",
      "\u001b[0;31mIndexError\u001b[0m                                Traceback (most recent call last)",
      "Cell \u001b[0;32mIn [59], line 6\u001b[0m\n\u001b[1;32m      4\u001b[0m vowels \u001b[38;5;241m=\u001b[39m [\u001b[38;5;124m'\u001b[39m\u001b[38;5;124ma\u001b[39m\u001b[38;5;124m'\u001b[39m, \u001b[38;5;124m'\u001b[39m\u001b[38;5;124me\u001b[39m\u001b[38;5;124m'\u001b[39m, \u001b[38;5;124m'\u001b[39m\u001b[38;5;124mi\u001b[39m\u001b[38;5;124m'\u001b[39m, \u001b[38;5;124m'\u001b[39m\u001b[38;5;124mo\u001b[39m\u001b[38;5;124m'\u001b[39m, \u001b[38;5;124m'\u001b[39m\u001b[38;5;124mu\u001b[39m\u001b[38;5;124m'\u001b[39m, \u001b[38;5;124m'\u001b[39m\u001b[38;5;124my\u001b[39m\u001b[38;5;124m'\u001b[39m]\n\u001b[1;32m      5\u001b[0m \u001b[38;5;28;01mwhile\u001b[39;00m i\u001b[38;5;241m<\u001b[39m\u001b[38;5;241m=\u001b[39mb:\n\u001b[0;32m----> 6\u001b[0m     \u001b[38;5;28;01mif\u001b[39;00m \u001b[43ma\u001b[49m\u001b[43m[\u001b[49m\u001b[43mi\u001b[49m\u001b[43m]\u001b[49m \u001b[38;5;129;01mnot\u001b[39;00m \u001b[38;5;129;01min\u001b[39;00m vowels:\n\u001b[1;32m      7\u001b[0m         \u001b[38;5;28mprint\u001b[39m(a[i])\n\u001b[1;32m      8\u001b[0m     i\u001b[38;5;241m=\u001b[39mi\u001b[38;5;241m+\u001b[39m\u001b[38;5;241m1\u001b[39m\n",
      "\u001b[0;31mIndexError\u001b[0m: string index out of range"
     ]
    }
   ],
   "source": [
    "a=str(input(\"Enter a string:\"))\n",
    "b=len(a)\n",
    "i=0\n",
    "vowels = ['a', 'e', 'i', 'o', 'u', 'y']\n",
    "while i<=b:\n",
    "    if a[i] not in vowels:\n",
    "        print(a[i])\n",
    "    i=i+1"
   ]
  },
  {
   "cell_type": "code",
   "execution_count": 61,
   "id": "3000e7a0-5d36-4be5-9ad7-18c6930f19d6",
   "metadata": {},
   "outputs": [
    {
     "name": "stdin",
     "output_type": "stream",
     "text": [
      "Enter a string: mama myla ramu\n"
     ]
    },
    {
     "name": "stdout",
     "output_type": "stream",
     "text": [
      "m\n",
      "m\n",
      " \n",
      "m\n",
      "l\n",
      " \n",
      "r\n",
      "m\n"
     ]
    },
    {
     "ename": "IndexError",
     "evalue": "string index out of range",
     "output_type": "error",
     "traceback": [
      "\u001b[0;31m---------------------------------------------------------------------------\u001b[0m",
      "\u001b[0;31mIndexError\u001b[0m                                Traceback (most recent call last)",
      "Cell \u001b[0;32mIn [61], line 5\u001b[0m\n\u001b[1;32m      3\u001b[0m i\u001b[38;5;241m=\u001b[39m\u001b[38;5;241m0\u001b[39m\n\u001b[1;32m      4\u001b[0m \u001b[38;5;28;01mwhile\u001b[39;00m i\u001b[38;5;241m<\u001b[39m\u001b[38;5;241m=\u001b[39mb:\n\u001b[0;32m----> 5\u001b[0m     \u001b[38;5;28;01mif\u001b[39;00m \u001b[43ma\u001b[49m\u001b[43m[\u001b[49m\u001b[43mi\u001b[49m\u001b[43m]\u001b[49m \u001b[38;5;129;01mnot\u001b[39;00m \u001b[38;5;129;01min\u001b[39;00m [\u001b[38;5;124m'\u001b[39m\u001b[38;5;124ma\u001b[39m\u001b[38;5;124m'\u001b[39m, \u001b[38;5;124m'\u001b[39m\u001b[38;5;124me\u001b[39m\u001b[38;5;124m'\u001b[39m, \u001b[38;5;124m'\u001b[39m\u001b[38;5;124mi\u001b[39m\u001b[38;5;124m'\u001b[39m, \u001b[38;5;124m'\u001b[39m\u001b[38;5;124mo\u001b[39m\u001b[38;5;124m'\u001b[39m, \u001b[38;5;124m'\u001b[39m\u001b[38;5;124mu\u001b[39m\u001b[38;5;124m'\u001b[39m, \u001b[38;5;124m'\u001b[39m\u001b[38;5;124my\u001b[39m\u001b[38;5;124m'\u001b[39m]:\n\u001b[1;32m      6\u001b[0m         \u001b[38;5;28mprint\u001b[39m(a[i])\n\u001b[1;32m      7\u001b[0m     i\u001b[38;5;241m=\u001b[39mi\u001b[38;5;241m+\u001b[39m\u001b[38;5;241m1\u001b[39m\n",
      "\u001b[0;31mIndexError\u001b[0m: string index out of range"
     ]
    }
   ],
   "source": [
    "a=str(input(\"Enter a string:\"))\n",
    "b=len(a)\n",
    "i=0\n",
    "while i<=b:\n",
    "    if a[i] not in ['a', 'e', 'i', 'o', 'u']:\n",
    "        print(a[i])\n",
    "    i=i+1"
   ]
  },
  {
   "cell_type": "code",
   "execution_count": 64,
   "id": "d729f177-17b6-4413-bc4c-313433fe830a",
   "metadata": {},
   "outputs": [
    {
     "name": "stdin",
     "output_type": "stream",
     "text": [
      "Enter a string: mama myla ramu\n"
     ]
    },
    {
     "name": "stdout",
     "output_type": "stream",
     "text": [
      "14\n",
      "m\n",
      "m\n",
      " \n",
      "m\n",
      "y\n",
      "l\n",
      " \n",
      "r\n",
      "m\n"
     ]
    }
   ],
   "source": [
    "a=str(input(\"Enter a string:\"))\n",
    "b=len(a)\n",
    "print(b)\n",
    "i=0\n",
    "while i<b:\n",
    "    if a[i] not in ['a', 'e', 'i', 'o', 'u']:\n",
    "        print(a[i])\n",
    "    i=i+1"
   ]
  },
  {
   "cell_type": "code",
   "execution_count": 1,
   "id": "28dc95b0-95d8-41ef-aa18-5b16fa33a07e",
   "metadata": {},
   "outputs": [
    {
     "name": "stdout",
     "output_type": "stream",
     "text": [
      "1\n",
      "2\n",
      "3\n",
      "4\n",
      "5\n",
      "6\n",
      "7\n",
      "8\n",
      "9\n",
      "10\n",
      "11\n",
      "12\n",
      "13\n",
      "14\n",
      "15\n",
      "16\n",
      "17\n",
      "18\n",
      "19\n",
      "20\n",
      "21\n",
      "22\n",
      "23\n",
      "24\n",
      "25\n",
      "26\n",
      "27\n",
      "28\n",
      "29\n",
      "30\n",
      "31\n",
      "32\n",
      "33\n",
      "34\n",
      "35\n",
      "36\n",
      "37\n",
      "38\n",
      "39\n",
      "40\n"
     ]
    }
   ],
   "source": [
    "x=1\n",
    "y=51\n",
    "while x<y:\n",
    "    print(x)\n",
    "    if x==40:\n",
    "        break\n",
    "    x=x+1"
   ]
  },
  {
   "cell_type": "code",
   "execution_count": null,
   "id": "282bfe61-471e-4ca7-8d8c-218bbaeafe35",
   "metadata": {},
   "outputs": [],
   "source": []
  }
 ],
 "metadata": {
  "kernelspec": {
   "display_name": "Python 3 (ipykernel)",
   "language": "python",
   "name": "python3"
  },
  "language_info": {
   "codemirror_mode": {
    "name": "ipython",
    "version": 3
   },
   "file_extension": ".py",
   "mimetype": "text/x-python",
   "name": "python",
   "nbconvert_exporter": "python",
   "pygments_lexer": "ipython3",
   "version": "3.10.6"
  }
 },
 "nbformat": 4,
 "nbformat_minor": 5
}
